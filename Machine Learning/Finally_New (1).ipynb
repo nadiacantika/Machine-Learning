{
  "cells": [
    {
      "cell_type": "code",
      "execution_count": null,
      "id": "4aa5a049",
      "metadata": {
        "id": "4aa5a049"
      },
      "outputs": [],
      "source": [
        "import pandas as pd\n",
        "import numpy as np\n",
        "import seaborn as sns\n",
        "\n",
        "import matplotlib.pyplot as plt\n",
        "from sklearn.preprocessing import StandardScaler\n",
        "from sklearn.model_selection import train_test_split,GridSearchCV\n",
        "from sklearn.metrics import accuracy_score, confusion_matrix\n",
        "\n",
        "\n",
        "import warnings\n",
        "warnings.filterwarnings('ignore')"
      ]
    },
    {
      "cell_type": "code",
      "execution_count": null,
      "id": "2a028d37",
      "metadata": {
        "id": "2a028d37"
      },
      "outputs": [],
      "source": [
        "data=pd.read_csv(\"DatasetMamikosMachineLearningSheetJS.csv\")"
      ]
    },
    {
      "cell_type": "code",
      "execution_count": null,
      "id": "91827fb7",
      "metadata": {
        "colab": {
          "base_uri": "https://localhost:8080/",
          "height": 206
        },
        "id": "91827fb7",
        "outputId": "d7f2f7c5-957f-4bea-a6fe-8651f0ce6878"
      },
      "outputs": [
        {
          "output_type": "execute_result",
          "data": {
            "text/plain": [
              "                                                nama    harga  rating   \\\n",
              "0        Kost Apik Aisyah Kukusan Tipe A  Beji Depok  1143000            \n",
              "1    Kost Apik UI Puspita  Tipe A Kukusan Beji Depok  1323000            \n",
              "2  Kost Singgahsini Alhidayah EMH-4 Tipe A  Beji ...  1683000            \n",
              "3    Kost Apik Duta Residence Tipe A Sukmajaya Depok  1548000            \n",
              "4    Kost Apik UI Puspita  Tipe B Kukusan Beji Depok  1233000            \n",
              "\n",
              "    jenis Kamar Mandi Dalam  Wifi  AC Kloset Duduk  Kasur  \n",
              "0   Putri               KMD   NaN  AC          NaN  Kasur  \n",
              "1   Putri               KMD  WiFi  AC          NaN  Kasur  \n",
              "2   Putri               KMD  WiFi  AC           KD  Kasur  \n",
              "3  Campur               KMD  WiFi  AC           KD  Kasur  \n",
              "4   Putri               KMD  WiFi  AC          NaN  Kasur  "
            ],
            "text/html": [
              "\n",
              "  <div id=\"df-02883dfe-c80e-4ffa-bdfd-4396427b9737\">\n",
              "    <div class=\"colab-df-container\">\n",
              "      <div>\n",
              "<style scoped>\n",
              "    .dataframe tbody tr th:only-of-type {\n",
              "        vertical-align: middle;\n",
              "    }\n",
              "\n",
              "    .dataframe tbody tr th {\n",
              "        vertical-align: top;\n",
              "    }\n",
              "\n",
              "    .dataframe thead th {\n",
              "        text-align: right;\n",
              "    }\n",
              "</style>\n",
              "<table border=\"1\" class=\"dataframe\">\n",
              "  <thead>\n",
              "    <tr style=\"text-align: right;\">\n",
              "      <th></th>\n",
              "      <th>nama</th>\n",
              "      <th>harga</th>\n",
              "      <th>rating</th>\n",
              "      <th>jenis</th>\n",
              "      <th>Kamar Mandi Dalam</th>\n",
              "      <th>Wifi</th>\n",
              "      <th>AC</th>\n",
              "      <th>Kloset Duduk</th>\n",
              "      <th>Kasur</th>\n",
              "    </tr>\n",
              "  </thead>\n",
              "  <tbody>\n",
              "    <tr>\n",
              "      <th>0</th>\n",
              "      <td>Kost Apik Aisyah Kukusan Tipe A  Beji Depok</td>\n",
              "      <td>1143000</td>\n",
              "      <td></td>\n",
              "      <td>Putri</td>\n",
              "      <td>KMD</td>\n",
              "      <td>NaN</td>\n",
              "      <td>AC</td>\n",
              "      <td>NaN</td>\n",
              "      <td>Kasur</td>\n",
              "    </tr>\n",
              "    <tr>\n",
              "      <th>1</th>\n",
              "      <td>Kost Apik UI Puspita  Tipe A Kukusan Beji Depok</td>\n",
              "      <td>1323000</td>\n",
              "      <td></td>\n",
              "      <td>Putri</td>\n",
              "      <td>KMD</td>\n",
              "      <td>WiFi</td>\n",
              "      <td>AC</td>\n",
              "      <td>NaN</td>\n",
              "      <td>Kasur</td>\n",
              "    </tr>\n",
              "    <tr>\n",
              "      <th>2</th>\n",
              "      <td>Kost Singgahsini Alhidayah EMH-4 Tipe A  Beji ...</td>\n",
              "      <td>1683000</td>\n",
              "      <td></td>\n",
              "      <td>Putri</td>\n",
              "      <td>KMD</td>\n",
              "      <td>WiFi</td>\n",
              "      <td>AC</td>\n",
              "      <td>KD</td>\n",
              "      <td>Kasur</td>\n",
              "    </tr>\n",
              "    <tr>\n",
              "      <th>3</th>\n",
              "      <td>Kost Apik Duta Residence Tipe A Sukmajaya Depok</td>\n",
              "      <td>1548000</td>\n",
              "      <td></td>\n",
              "      <td>Campur</td>\n",
              "      <td>KMD</td>\n",
              "      <td>WiFi</td>\n",
              "      <td>AC</td>\n",
              "      <td>KD</td>\n",
              "      <td>Kasur</td>\n",
              "    </tr>\n",
              "    <tr>\n",
              "      <th>4</th>\n",
              "      <td>Kost Apik UI Puspita  Tipe B Kukusan Beji Depok</td>\n",
              "      <td>1233000</td>\n",
              "      <td></td>\n",
              "      <td>Putri</td>\n",
              "      <td>KMD</td>\n",
              "      <td>WiFi</td>\n",
              "      <td>AC</td>\n",
              "      <td>NaN</td>\n",
              "      <td>Kasur</td>\n",
              "    </tr>\n",
              "  </tbody>\n",
              "</table>\n",
              "</div>\n",
              "      <button class=\"colab-df-convert\" onclick=\"convertToInteractive('df-02883dfe-c80e-4ffa-bdfd-4396427b9737')\"\n",
              "              title=\"Convert this dataframe to an interactive table.\"\n",
              "              style=\"display:none;\">\n",
              "        \n",
              "  <svg xmlns=\"http://www.w3.org/2000/svg\" height=\"24px\"viewBox=\"0 0 24 24\"\n",
              "       width=\"24px\">\n",
              "    <path d=\"M0 0h24v24H0V0z\" fill=\"none\"/>\n",
              "    <path d=\"M18.56 5.44l.94 2.06.94-2.06 2.06-.94-2.06-.94-.94-2.06-.94 2.06-2.06.94zm-11 1L8.5 8.5l.94-2.06 2.06-.94-2.06-.94L8.5 2.5l-.94 2.06-2.06.94zm10 10l.94 2.06.94-2.06 2.06-.94-2.06-.94-.94-2.06-.94 2.06-2.06.94z\"/><path d=\"M17.41 7.96l-1.37-1.37c-.4-.4-.92-.59-1.43-.59-.52 0-1.04.2-1.43.59L10.3 9.45l-7.72 7.72c-.78.78-.78 2.05 0 2.83L4 21.41c.39.39.9.59 1.41.59.51 0 1.02-.2 1.41-.59l7.78-7.78 2.81-2.81c.8-.78.8-2.07 0-2.86zM5.41 20L4 18.59l7.72-7.72 1.47 1.35L5.41 20z\"/>\n",
              "  </svg>\n",
              "      </button>\n",
              "      \n",
              "  <style>\n",
              "    .colab-df-container {\n",
              "      display:flex;\n",
              "      flex-wrap:wrap;\n",
              "      gap: 12px;\n",
              "    }\n",
              "\n",
              "    .colab-df-convert {\n",
              "      background-color: #E8F0FE;\n",
              "      border: none;\n",
              "      border-radius: 50%;\n",
              "      cursor: pointer;\n",
              "      display: none;\n",
              "      fill: #1967D2;\n",
              "      height: 32px;\n",
              "      padding: 0 0 0 0;\n",
              "      width: 32px;\n",
              "    }\n",
              "\n",
              "    .colab-df-convert:hover {\n",
              "      background-color: #E2EBFA;\n",
              "      box-shadow: 0px 1px 2px rgba(60, 64, 67, 0.3), 0px 1px 3px 1px rgba(60, 64, 67, 0.15);\n",
              "      fill: #174EA6;\n",
              "    }\n",
              "\n",
              "    [theme=dark] .colab-df-convert {\n",
              "      background-color: #3B4455;\n",
              "      fill: #D2E3FC;\n",
              "    }\n",
              "\n",
              "    [theme=dark] .colab-df-convert:hover {\n",
              "      background-color: #434B5C;\n",
              "      box-shadow: 0px 1px 3px 1px rgba(0, 0, 0, 0.15);\n",
              "      filter: drop-shadow(0px 1px 2px rgba(0, 0, 0, 0.3));\n",
              "      fill: #FFFFFF;\n",
              "    }\n",
              "  </style>\n",
              "\n",
              "      <script>\n",
              "        const buttonEl =\n",
              "          document.querySelector('#df-02883dfe-c80e-4ffa-bdfd-4396427b9737 button.colab-df-convert');\n",
              "        buttonEl.style.display =\n",
              "          google.colab.kernel.accessAllowed ? 'block' : 'none';\n",
              "\n",
              "        async function convertToInteractive(key) {\n",
              "          const element = document.querySelector('#df-02883dfe-c80e-4ffa-bdfd-4396427b9737');\n",
              "          const dataTable =\n",
              "            await google.colab.kernel.invokeFunction('convertToInteractive',\n",
              "                                                     [key], {});\n",
              "          if (!dataTable) return;\n",
              "\n",
              "          const docLinkHtml = 'Like what you see? Visit the ' +\n",
              "            '<a target=\"_blank\" href=https://colab.research.google.com/notebooks/data_table.ipynb>data table notebook</a>'\n",
              "            + ' to learn more about interactive tables.';\n",
              "          element.innerHTML = '';\n",
              "          dataTable['output_type'] = 'display_data';\n",
              "          await google.colab.output.renderOutput(dataTable, element);\n",
              "          const docLink = document.createElement('div');\n",
              "          docLink.innerHTML = docLinkHtml;\n",
              "          element.appendChild(docLink);\n",
              "        }\n",
              "      </script>\n",
              "    </div>\n",
              "  </div>\n",
              "  "
            ]
          },
          "metadata": {},
          "execution_count": 3
        }
      ],
      "source": [
        "data.head()"
      ]
    },
    {
      "cell_type": "code",
      "execution_count": null,
      "id": "16e5374b",
      "metadata": {
        "colab": {
          "base_uri": "https://localhost:8080/",
          "height": 206
        },
        "id": "16e5374b",
        "outputId": "02227f48-ba8b-43d8-fb94-ebfafaed4f65"
      },
      "outputs": [
        {
          "output_type": "execute_result",
          "data": {
            "text/plain": [
              "                                                    nama    harga  rating   \\\n",
              "10995          Kost Va Tipe A1 Jagakarsa Jakarta Selatan   700000            \n",
              "10996               Kost Pondok Katama Tipe B Beji Depok   900000            \n",
              "10997                       Kost Wisma Violet Beji Depok   800000            \n",
              "10998  Kost Eksklusif Mara Juara Tipe Large Bedroom B...  2499000            \n",
              "10999       Kost Giyan Exclusive Tipe Reguler Beji Depok  1100000            \n",
              "\n",
              "        jenis Kamar Mandi Dalam  Wifi   AC Kloset Duduk  Kasur  \n",
              "10995   Putra               NaN  WiFi  NaN           KD  Kasur  \n",
              "10996   Putra               NaN  WiFi  NaN          NaN  Kasur  \n",
              "10997   Putri               KMD  WiFi  NaN          NaN    NaN  \n",
              "10998  Campur               KMD  WiFi   AC           KD  Kasur  \n",
              "10999  Campur               KMD   NaN   AC           KD    NaN  "
            ],
            "text/html": [
              "\n",
              "  <div id=\"df-071b3943-eb64-40e8-b911-b7ad641334af\">\n",
              "    <div class=\"colab-df-container\">\n",
              "      <div>\n",
              "<style scoped>\n",
              "    .dataframe tbody tr th:only-of-type {\n",
              "        vertical-align: middle;\n",
              "    }\n",
              "\n",
              "    .dataframe tbody tr th {\n",
              "        vertical-align: top;\n",
              "    }\n",
              "\n",
              "    .dataframe thead th {\n",
              "        text-align: right;\n",
              "    }\n",
              "</style>\n",
              "<table border=\"1\" class=\"dataframe\">\n",
              "  <thead>\n",
              "    <tr style=\"text-align: right;\">\n",
              "      <th></th>\n",
              "      <th>nama</th>\n",
              "      <th>harga</th>\n",
              "      <th>rating</th>\n",
              "      <th>jenis</th>\n",
              "      <th>Kamar Mandi Dalam</th>\n",
              "      <th>Wifi</th>\n",
              "      <th>AC</th>\n",
              "      <th>Kloset Duduk</th>\n",
              "      <th>Kasur</th>\n",
              "    </tr>\n",
              "  </thead>\n",
              "  <tbody>\n",
              "    <tr>\n",
              "      <th>10995</th>\n",
              "      <td>Kost Va Tipe A1 Jagakarsa Jakarta Selatan</td>\n",
              "      <td>700000</td>\n",
              "      <td></td>\n",
              "      <td>Putra</td>\n",
              "      <td>NaN</td>\n",
              "      <td>WiFi</td>\n",
              "      <td>NaN</td>\n",
              "      <td>KD</td>\n",
              "      <td>Kasur</td>\n",
              "    </tr>\n",
              "    <tr>\n",
              "      <th>10996</th>\n",
              "      <td>Kost Pondok Katama Tipe B Beji Depok</td>\n",
              "      <td>900000</td>\n",
              "      <td></td>\n",
              "      <td>Putra</td>\n",
              "      <td>NaN</td>\n",
              "      <td>WiFi</td>\n",
              "      <td>NaN</td>\n",
              "      <td>NaN</td>\n",
              "      <td>Kasur</td>\n",
              "    </tr>\n",
              "    <tr>\n",
              "      <th>10997</th>\n",
              "      <td>Kost Wisma Violet Beji Depok</td>\n",
              "      <td>800000</td>\n",
              "      <td></td>\n",
              "      <td>Putri</td>\n",
              "      <td>KMD</td>\n",
              "      <td>WiFi</td>\n",
              "      <td>NaN</td>\n",
              "      <td>NaN</td>\n",
              "      <td>NaN</td>\n",
              "    </tr>\n",
              "    <tr>\n",
              "      <th>10998</th>\n",
              "      <td>Kost Eksklusif Mara Juara Tipe Large Bedroom B...</td>\n",
              "      <td>2499000</td>\n",
              "      <td></td>\n",
              "      <td>Campur</td>\n",
              "      <td>KMD</td>\n",
              "      <td>WiFi</td>\n",
              "      <td>AC</td>\n",
              "      <td>KD</td>\n",
              "      <td>Kasur</td>\n",
              "    </tr>\n",
              "    <tr>\n",
              "      <th>10999</th>\n",
              "      <td>Kost Giyan Exclusive Tipe Reguler Beji Depok</td>\n",
              "      <td>1100000</td>\n",
              "      <td></td>\n",
              "      <td>Campur</td>\n",
              "      <td>KMD</td>\n",
              "      <td>NaN</td>\n",
              "      <td>AC</td>\n",
              "      <td>KD</td>\n",
              "      <td>NaN</td>\n",
              "    </tr>\n",
              "  </tbody>\n",
              "</table>\n",
              "</div>\n",
              "      <button class=\"colab-df-convert\" onclick=\"convertToInteractive('df-071b3943-eb64-40e8-b911-b7ad641334af')\"\n",
              "              title=\"Convert this dataframe to an interactive table.\"\n",
              "              style=\"display:none;\">\n",
              "        \n",
              "  <svg xmlns=\"http://www.w3.org/2000/svg\" height=\"24px\"viewBox=\"0 0 24 24\"\n",
              "       width=\"24px\">\n",
              "    <path d=\"M0 0h24v24H0V0z\" fill=\"none\"/>\n",
              "    <path d=\"M18.56 5.44l.94 2.06.94-2.06 2.06-.94-2.06-.94-.94-2.06-.94 2.06-2.06.94zm-11 1L8.5 8.5l.94-2.06 2.06-.94-2.06-.94L8.5 2.5l-.94 2.06-2.06.94zm10 10l.94 2.06.94-2.06 2.06-.94-2.06-.94-.94-2.06-.94 2.06-2.06.94z\"/><path d=\"M17.41 7.96l-1.37-1.37c-.4-.4-.92-.59-1.43-.59-.52 0-1.04.2-1.43.59L10.3 9.45l-7.72 7.72c-.78.78-.78 2.05 0 2.83L4 21.41c.39.39.9.59 1.41.59.51 0 1.02-.2 1.41-.59l7.78-7.78 2.81-2.81c.8-.78.8-2.07 0-2.86zM5.41 20L4 18.59l7.72-7.72 1.47 1.35L5.41 20z\"/>\n",
              "  </svg>\n",
              "      </button>\n",
              "      \n",
              "  <style>\n",
              "    .colab-df-container {\n",
              "      display:flex;\n",
              "      flex-wrap:wrap;\n",
              "      gap: 12px;\n",
              "    }\n",
              "\n",
              "    .colab-df-convert {\n",
              "      background-color: #E8F0FE;\n",
              "      border: none;\n",
              "      border-radius: 50%;\n",
              "      cursor: pointer;\n",
              "      display: none;\n",
              "      fill: #1967D2;\n",
              "      height: 32px;\n",
              "      padding: 0 0 0 0;\n",
              "      width: 32px;\n",
              "    }\n",
              "\n",
              "    .colab-df-convert:hover {\n",
              "      background-color: #E2EBFA;\n",
              "      box-shadow: 0px 1px 2px rgba(60, 64, 67, 0.3), 0px 1px 3px 1px rgba(60, 64, 67, 0.15);\n",
              "      fill: #174EA6;\n",
              "    }\n",
              "\n",
              "    [theme=dark] .colab-df-convert {\n",
              "      background-color: #3B4455;\n",
              "      fill: #D2E3FC;\n",
              "    }\n",
              "\n",
              "    [theme=dark] .colab-df-convert:hover {\n",
              "      background-color: #434B5C;\n",
              "      box-shadow: 0px 1px 3px 1px rgba(0, 0, 0, 0.15);\n",
              "      filter: drop-shadow(0px 1px 2px rgba(0, 0, 0, 0.3));\n",
              "      fill: #FFFFFF;\n",
              "    }\n",
              "  </style>\n",
              "\n",
              "      <script>\n",
              "        const buttonEl =\n",
              "          document.querySelector('#df-071b3943-eb64-40e8-b911-b7ad641334af button.colab-df-convert');\n",
              "        buttonEl.style.display =\n",
              "          google.colab.kernel.accessAllowed ? 'block' : 'none';\n",
              "\n",
              "        async function convertToInteractive(key) {\n",
              "          const element = document.querySelector('#df-071b3943-eb64-40e8-b911-b7ad641334af');\n",
              "          const dataTable =\n",
              "            await google.colab.kernel.invokeFunction('convertToInteractive',\n",
              "                                                     [key], {});\n",
              "          if (!dataTable) return;\n",
              "\n",
              "          const docLinkHtml = 'Like what you see? Visit the ' +\n",
              "            '<a target=\"_blank\" href=https://colab.research.google.com/notebooks/data_table.ipynb>data table notebook</a>'\n",
              "            + ' to learn more about interactive tables.';\n",
              "          element.innerHTML = '';\n",
              "          dataTable['output_type'] = 'display_data';\n",
              "          await google.colab.output.renderOutput(dataTable, element);\n",
              "          const docLink = document.createElement('div');\n",
              "          docLink.innerHTML = docLinkHtml;\n",
              "          element.appendChild(docLink);\n",
              "        }\n",
              "      </script>\n",
              "    </div>\n",
              "  </div>\n",
              "  "
            ]
          },
          "metadata": {},
          "execution_count": 4
        }
      ],
      "source": [
        "data.tail()"
      ]
    },
    {
      "cell_type": "code",
      "execution_count": null,
      "id": "205849d4",
      "metadata": {
        "colab": {
          "base_uri": "https://localhost:8080/"
        },
        "id": "205849d4",
        "outputId": "ae5d432e-57ce-4e71-8965-dbb989d333f3"
      },
      "outputs": [
        {
          "output_type": "stream",
          "name": "stdout",
          "text": [
            "<class 'pandas.core.frame.DataFrame'>\n",
            "RangeIndex: 11000 entries, 0 to 10999\n",
            "Data columns (total 9 columns):\n",
            " #   Column             Non-Null Count  Dtype \n",
            "---  ------             --------------  ----- \n",
            " 0   nama               11000 non-null  object\n",
            " 1   harga              11000 non-null  int64 \n",
            " 2    rating            11000 non-null  object\n",
            " 3   jenis              11000 non-null  object\n",
            " 4   Kamar Mandi Dalam  9976 non-null   object\n",
            " 5   Wifi               8118 non-null   object\n",
            " 6   AC                 5816 non-null   object\n",
            " 7   Kloset Duduk       7182 non-null   object\n",
            " 8   Kasur              10702 non-null  object\n",
            "dtypes: int64(1), object(8)\n",
            "memory usage: 773.6+ KB\n"
          ]
        }
      ],
      "source": [
        "data.info()"
      ]
    },
    {
      "cell_type": "code",
      "execution_count": null,
      "id": "e28e16f8",
      "metadata": {
        "colab": {
          "base_uri": "https://localhost:8080/"
        },
        "id": "e28e16f8",
        "outputId": "9a18c66f-e7e7-400e-d01a-4c04e21e8095"
      },
      "outputs": [
        {
          "output_type": "execute_result",
          "data": {
            "text/plain": [
              "(11000, 9)"
            ]
          },
          "metadata": {},
          "execution_count": 6
        }
      ],
      "source": [
        "data.shape"
      ]
    },
    {
      "cell_type": "code",
      "execution_count": null,
      "id": "d7bd4b8b",
      "metadata": {
        "colab": {
          "base_uri": "https://localhost:8080/"
        },
        "id": "d7bd4b8b",
        "outputId": "b3b5ded3-73bd-492e-94b1-035990c2abc3"
      },
      "outputs": [
        {
          "output_type": "execute_result",
          "data": {
            "text/plain": [
              "nama                    0\n",
              "harga                   0\n",
              " rating                 0\n",
              "jenis                   0\n",
              "Kamar Mandi Dalam    1024\n",
              "Wifi                 2882\n",
              "AC                   5184\n",
              "Kloset Duduk         3818\n",
              "Kasur                 298\n",
              "dtype: int64"
            ]
          },
          "metadata": {},
          "execution_count": 7
        }
      ],
      "source": [
        "# mencari data kosong\n",
        "data.isnull().sum()"
      ]
    },
    {
      "cell_type": "code",
      "execution_count": null,
      "id": "920a1b20",
      "metadata": {
        "id": "920a1b20"
      },
      "outputs": [],
      "source": [
        "## mengisi nilai kosong dengan \"0\" pada data\n",
        "data.fillna('0',axis=0,inplace=True)"
      ]
    },
    {
      "cell_type": "code",
      "execution_count": null,
      "id": "dd0bc3eb",
      "metadata": {
        "colab": {
          "base_uri": "https://localhost:8080/"
        },
        "id": "dd0bc3eb",
        "outputId": "e72a1810-e839-4569-b8df-3abd2c065f7e"
      },
      "outputs": [
        {
          "output_type": "execute_result",
          "data": {
            "text/plain": [
              "nama                 object\n",
              "harga                 int64\n",
              " rating              object\n",
              "jenis                object\n",
              "Kamar Mandi Dalam    object\n",
              "Wifi                 object\n",
              "AC                   object\n",
              "Kloset Duduk         object\n",
              "Kasur                object\n",
              "dtype: object"
            ]
          },
          "metadata": {},
          "execution_count": 9
        }
      ],
      "source": [
        "# menampilkan tipe data\n",
        "data.dtypes"
      ]
    },
    {
      "cell_type": "code",
      "execution_count": null,
      "id": "9fea3370",
      "metadata": {
        "colab": {
          "base_uri": "https://localhost:8080/"
        },
        "id": "9fea3370",
        "outputId": "bafaec33-6829-4555-ed8c-f58d10e2dc36"
      },
      "outputs": [
        {
          "output_type": "execute_result",
          "data": {
            "text/plain": [
              "nama                 0\n",
              "harga                0\n",
              " rating              0\n",
              "jenis                0\n",
              "Kamar Mandi Dalam    0\n",
              "Wifi                 0\n",
              "AC                   0\n",
              "Kloset Duduk         0\n",
              "Kasur                0\n",
              "dtype: int64"
            ]
          },
          "metadata": {},
          "execution_count": 10
        }
      ],
      "source": [
        "# mencari data kosong\n",
        "data.isnull().sum()"
      ]
    },
    {
      "cell_type": "code",
      "execution_count": null,
      "id": "66da7667",
      "metadata": {
        "colab": {
          "base_uri": "https://localhost:8080/",
          "height": 363
        },
        "id": "66da7667",
        "outputId": "d71feac0-27dd-495c-85c0-0dfb117b517b"
      },
      "outputs": [
        {
          "output_type": "execute_result",
          "data": {
            "text/plain": [
              "                                                nama    harga  rating   \\\n",
              "0        Kost Apik Aisyah Kukusan Tipe A  Beji Depok  1143000            \n",
              "1    Kost Apik UI Puspita  Tipe A Kukusan Beji Depok  1323000            \n",
              "2  Kost Singgahsini Alhidayah EMH-4 Tipe A  Beji ...  1683000            \n",
              "3    Kost Apik Duta Residence Tipe A Sukmajaya Depok  1548000            \n",
              "4    Kost Apik UI Puspita  Tipe B Kukusan Beji Depok  1233000            \n",
              "5    Kost Apik Duta Residence Tipe B Sukmajaya Depok  1008000      50    \n",
              "6          Kost Apik Griya Osfa UI Tipe A Beji Depok  1368000            \n",
              "7             Kost Apik Wisma Okki Tipe B Beji Depok  1008000      47    \n",
              "8  Kost Singgahsini Alhidayah EMH-4 Tipe B  Beji ...  1249500            \n",
              "9        Kost Apik The Cozy Dorms Kukusan Beji Depok  1278000            \n",
              "\n",
              "    jenis Kamar Mandi Dalam  Wifi  AC Kloset Duduk  Kasur  \n",
              "0   Putri               KMD     0  AC            0  Kasur  \n",
              "1   Putri               KMD  WiFi  AC            0  Kasur  \n",
              "2   Putri               KMD  WiFi  AC           KD  Kasur  \n",
              "3  Campur               KMD  WiFi  AC           KD  Kasur  \n",
              "4   Putri               KMD  WiFi  AC            0  Kasur  \n",
              "5  Campur               KMD  WiFi   0            0  Kasur  \n",
              "6   Putri               KMD  WiFi  AC            0  Kasur  \n",
              "7   Putri               KMD  WiFi   0            0  Kasur  \n",
              "8   Putri               KMD  WiFi  AC            0  Kasur  \n",
              "9  Campur               KMD     0  AC            0  Kasur  "
            ],
            "text/html": [
              "\n",
              "  <div id=\"df-9228034c-2923-47f3-a77f-4cd59f733289\">\n",
              "    <div class=\"colab-df-container\">\n",
              "      <div>\n",
              "<style scoped>\n",
              "    .dataframe tbody tr th:only-of-type {\n",
              "        vertical-align: middle;\n",
              "    }\n",
              "\n",
              "    .dataframe tbody tr th {\n",
              "        vertical-align: top;\n",
              "    }\n",
              "\n",
              "    .dataframe thead th {\n",
              "        text-align: right;\n",
              "    }\n",
              "</style>\n",
              "<table border=\"1\" class=\"dataframe\">\n",
              "  <thead>\n",
              "    <tr style=\"text-align: right;\">\n",
              "      <th></th>\n",
              "      <th>nama</th>\n",
              "      <th>harga</th>\n",
              "      <th>rating</th>\n",
              "      <th>jenis</th>\n",
              "      <th>Kamar Mandi Dalam</th>\n",
              "      <th>Wifi</th>\n",
              "      <th>AC</th>\n",
              "      <th>Kloset Duduk</th>\n",
              "      <th>Kasur</th>\n",
              "    </tr>\n",
              "  </thead>\n",
              "  <tbody>\n",
              "    <tr>\n",
              "      <th>0</th>\n",
              "      <td>Kost Apik Aisyah Kukusan Tipe A  Beji Depok</td>\n",
              "      <td>1143000</td>\n",
              "      <td></td>\n",
              "      <td>Putri</td>\n",
              "      <td>KMD</td>\n",
              "      <td>0</td>\n",
              "      <td>AC</td>\n",
              "      <td>0</td>\n",
              "      <td>Kasur</td>\n",
              "    </tr>\n",
              "    <tr>\n",
              "      <th>1</th>\n",
              "      <td>Kost Apik UI Puspita  Tipe A Kukusan Beji Depok</td>\n",
              "      <td>1323000</td>\n",
              "      <td></td>\n",
              "      <td>Putri</td>\n",
              "      <td>KMD</td>\n",
              "      <td>WiFi</td>\n",
              "      <td>AC</td>\n",
              "      <td>0</td>\n",
              "      <td>Kasur</td>\n",
              "    </tr>\n",
              "    <tr>\n",
              "      <th>2</th>\n",
              "      <td>Kost Singgahsini Alhidayah EMH-4 Tipe A  Beji ...</td>\n",
              "      <td>1683000</td>\n",
              "      <td></td>\n",
              "      <td>Putri</td>\n",
              "      <td>KMD</td>\n",
              "      <td>WiFi</td>\n",
              "      <td>AC</td>\n",
              "      <td>KD</td>\n",
              "      <td>Kasur</td>\n",
              "    </tr>\n",
              "    <tr>\n",
              "      <th>3</th>\n",
              "      <td>Kost Apik Duta Residence Tipe A Sukmajaya Depok</td>\n",
              "      <td>1548000</td>\n",
              "      <td></td>\n",
              "      <td>Campur</td>\n",
              "      <td>KMD</td>\n",
              "      <td>WiFi</td>\n",
              "      <td>AC</td>\n",
              "      <td>KD</td>\n",
              "      <td>Kasur</td>\n",
              "    </tr>\n",
              "    <tr>\n",
              "      <th>4</th>\n",
              "      <td>Kost Apik UI Puspita  Tipe B Kukusan Beji Depok</td>\n",
              "      <td>1233000</td>\n",
              "      <td></td>\n",
              "      <td>Putri</td>\n",
              "      <td>KMD</td>\n",
              "      <td>WiFi</td>\n",
              "      <td>AC</td>\n",
              "      <td>0</td>\n",
              "      <td>Kasur</td>\n",
              "    </tr>\n",
              "    <tr>\n",
              "      <th>5</th>\n",
              "      <td>Kost Apik Duta Residence Tipe B Sukmajaya Depok</td>\n",
              "      <td>1008000</td>\n",
              "      <td>50</td>\n",
              "      <td>Campur</td>\n",
              "      <td>KMD</td>\n",
              "      <td>WiFi</td>\n",
              "      <td>0</td>\n",
              "      <td>0</td>\n",
              "      <td>Kasur</td>\n",
              "    </tr>\n",
              "    <tr>\n",
              "      <th>6</th>\n",
              "      <td>Kost Apik Griya Osfa UI Tipe A Beji Depok</td>\n",
              "      <td>1368000</td>\n",
              "      <td></td>\n",
              "      <td>Putri</td>\n",
              "      <td>KMD</td>\n",
              "      <td>WiFi</td>\n",
              "      <td>AC</td>\n",
              "      <td>0</td>\n",
              "      <td>Kasur</td>\n",
              "    </tr>\n",
              "    <tr>\n",
              "      <th>7</th>\n",
              "      <td>Kost Apik Wisma Okki Tipe B Beji Depok</td>\n",
              "      <td>1008000</td>\n",
              "      <td>47</td>\n",
              "      <td>Putri</td>\n",
              "      <td>KMD</td>\n",
              "      <td>WiFi</td>\n",
              "      <td>0</td>\n",
              "      <td>0</td>\n",
              "      <td>Kasur</td>\n",
              "    </tr>\n",
              "    <tr>\n",
              "      <th>8</th>\n",
              "      <td>Kost Singgahsini Alhidayah EMH-4 Tipe B  Beji ...</td>\n",
              "      <td>1249500</td>\n",
              "      <td></td>\n",
              "      <td>Putri</td>\n",
              "      <td>KMD</td>\n",
              "      <td>WiFi</td>\n",
              "      <td>AC</td>\n",
              "      <td>0</td>\n",
              "      <td>Kasur</td>\n",
              "    </tr>\n",
              "    <tr>\n",
              "      <th>9</th>\n",
              "      <td>Kost Apik The Cozy Dorms Kukusan Beji Depok</td>\n",
              "      <td>1278000</td>\n",
              "      <td></td>\n",
              "      <td>Campur</td>\n",
              "      <td>KMD</td>\n",
              "      <td>0</td>\n",
              "      <td>AC</td>\n",
              "      <td>0</td>\n",
              "      <td>Kasur</td>\n",
              "    </tr>\n",
              "  </tbody>\n",
              "</table>\n",
              "</div>\n",
              "      <button class=\"colab-df-convert\" onclick=\"convertToInteractive('df-9228034c-2923-47f3-a77f-4cd59f733289')\"\n",
              "              title=\"Convert this dataframe to an interactive table.\"\n",
              "              style=\"display:none;\">\n",
              "        \n",
              "  <svg xmlns=\"http://www.w3.org/2000/svg\" height=\"24px\"viewBox=\"0 0 24 24\"\n",
              "       width=\"24px\">\n",
              "    <path d=\"M0 0h24v24H0V0z\" fill=\"none\"/>\n",
              "    <path d=\"M18.56 5.44l.94 2.06.94-2.06 2.06-.94-2.06-.94-.94-2.06-.94 2.06-2.06.94zm-11 1L8.5 8.5l.94-2.06 2.06-.94-2.06-.94L8.5 2.5l-.94 2.06-2.06.94zm10 10l.94 2.06.94-2.06 2.06-.94-2.06-.94-.94-2.06-.94 2.06-2.06.94z\"/><path d=\"M17.41 7.96l-1.37-1.37c-.4-.4-.92-.59-1.43-.59-.52 0-1.04.2-1.43.59L10.3 9.45l-7.72 7.72c-.78.78-.78 2.05 0 2.83L4 21.41c.39.39.9.59 1.41.59.51 0 1.02-.2 1.41-.59l7.78-7.78 2.81-2.81c.8-.78.8-2.07 0-2.86zM5.41 20L4 18.59l7.72-7.72 1.47 1.35L5.41 20z\"/>\n",
              "  </svg>\n",
              "      </button>\n",
              "      \n",
              "  <style>\n",
              "    .colab-df-container {\n",
              "      display:flex;\n",
              "      flex-wrap:wrap;\n",
              "      gap: 12px;\n",
              "    }\n",
              "\n",
              "    .colab-df-convert {\n",
              "      background-color: #E8F0FE;\n",
              "      border: none;\n",
              "      border-radius: 50%;\n",
              "      cursor: pointer;\n",
              "      display: none;\n",
              "      fill: #1967D2;\n",
              "      height: 32px;\n",
              "      padding: 0 0 0 0;\n",
              "      width: 32px;\n",
              "    }\n",
              "\n",
              "    .colab-df-convert:hover {\n",
              "      background-color: #E2EBFA;\n",
              "      box-shadow: 0px 1px 2px rgba(60, 64, 67, 0.3), 0px 1px 3px 1px rgba(60, 64, 67, 0.15);\n",
              "      fill: #174EA6;\n",
              "    }\n",
              "\n",
              "    [theme=dark] .colab-df-convert {\n",
              "      background-color: #3B4455;\n",
              "      fill: #D2E3FC;\n",
              "    }\n",
              "\n",
              "    [theme=dark] .colab-df-convert:hover {\n",
              "      background-color: #434B5C;\n",
              "      box-shadow: 0px 1px 3px 1px rgba(0, 0, 0, 0.15);\n",
              "      filter: drop-shadow(0px 1px 2px rgba(0, 0, 0, 0.3));\n",
              "      fill: #FFFFFF;\n",
              "    }\n",
              "  </style>\n",
              "\n",
              "      <script>\n",
              "        const buttonEl =\n",
              "          document.querySelector('#df-9228034c-2923-47f3-a77f-4cd59f733289 button.colab-df-convert');\n",
              "        buttonEl.style.display =\n",
              "          google.colab.kernel.accessAllowed ? 'block' : 'none';\n",
              "\n",
              "        async function convertToInteractive(key) {\n",
              "          const element = document.querySelector('#df-9228034c-2923-47f3-a77f-4cd59f733289');\n",
              "          const dataTable =\n",
              "            await google.colab.kernel.invokeFunction('convertToInteractive',\n",
              "                                                     [key], {});\n",
              "          if (!dataTable) return;\n",
              "\n",
              "          const docLinkHtml = 'Like what you see? Visit the ' +\n",
              "            '<a target=\"_blank\" href=https://colab.research.google.com/notebooks/data_table.ipynb>data table notebook</a>'\n",
              "            + ' to learn more about interactive tables.';\n",
              "          element.innerHTML = '';\n",
              "          dataTable['output_type'] = 'display_data';\n",
              "          await google.colab.output.renderOutput(dataTable, element);\n",
              "          const docLink = document.createElement('div');\n",
              "          docLink.innerHTML = docLinkHtml;\n",
              "          element.appendChild(docLink);\n",
              "        }\n",
              "      </script>\n",
              "    </div>\n",
              "  </div>\n",
              "  "
            ]
          },
          "metadata": {},
          "execution_count": 11
        }
      ],
      "source": [
        "data.head(10)"
      ]
    },
    {
      "cell_type": "markdown",
      "id": "22c5b916",
      "metadata": {
        "id": "22c5b916"
      },
      "source": [
        "# Data Cleaning"
      ]
    },
    {
      "cell_type": "code",
      "execution_count": null,
      "id": "83e36d8a",
      "metadata": {
        "scrolled": true,
        "colab": {
          "base_uri": "https://localhost:8080/"
        },
        "id": "83e36d8a",
        "outputId": "834fcd8c-6fe9-4d70-cb51-acbbaeac11e4"
      },
      "outputs": [
        {
          "output_type": "execute_result",
          "data": {
            "text/plain": [
              "nama                 object\n",
              "harga                 int64\n",
              " rating              object\n",
              "jenis                object\n",
              "Kamar Mandi Dalam    object\n",
              "Wifi                 object\n",
              "AC                   object\n",
              "Kloset Duduk         object\n",
              "Kasur                object\n",
              "dtype: object"
            ]
          },
          "metadata": {},
          "execution_count": 12
        }
      ],
      "source": [
        "# menampilkan tipe data\n",
        "data.dtypes"
      ]
    },
    {
      "cell_type": "code",
      "execution_count": null,
      "id": "714cbc01",
      "metadata": {
        "colab": {
          "base_uri": "https://localhost:8080/"
        },
        "id": "714cbc01",
        "outputId": "d39a7908-1a95-4a8a-e96a-ea6ecd36f7c6"
      },
      "outputs": [
        {
          "output_type": "execute_result",
          "data": {
            "text/plain": [
              "Index(['nama', 'harga', ' rating ', 'jenis', 'Kamar Mandi Dalam', 'Wifi', 'AC',\n",
              "       'Kloset Duduk', 'Kasur'],\n",
              "      dtype='object')"
            ]
          },
          "metadata": {},
          "execution_count": 13
        }
      ],
      "source": [
        "data.columns"
      ]
    },
    {
      "cell_type": "code",
      "execution_count": null,
      "id": "940d6dc1",
      "metadata": {
        "id": "940d6dc1"
      },
      "outputs": [],
      "source": [
        "# mengubah nama kolom pada Dataset ke dalam bahasa Indonesia\n",
        "data=data.rename(columns = {\"Kamar Mandi Dalam\": \"Kamar_Mandi_Dalam\", \"Kloset Duduk\": \"Kloset_Duduk\"})"
      ]
    },
    {
      "cell_type": "code",
      "execution_count": null,
      "id": "2634b6c7",
      "metadata": {
        "id": "2634b6c7"
      },
      "outputs": [],
      "source": [
        "## menghapus kolom nama karena tidak dibutuhkan dalam pembuatan model.\n",
        "data.drop('nama',axis=1,inplace=True)"
      ]
    },
    {
      "cell_type": "code",
      "execution_count": null,
      "id": "563679f1",
      "metadata": {
        "id": "563679f1"
      },
      "outputs": [],
      "source": [
        "## menghapus kolom rating karena tidak dibutuhkan dalam pembuatan model.\n",
        "data.drop(' rating ',axis=1,inplace=True)"
      ]
    },
    {
      "cell_type": "code",
      "execution_count": null,
      "id": "b679b7e0",
      "metadata": {
        "colab": {
          "base_uri": "https://localhost:8080/"
        },
        "id": "b679b7e0",
        "outputId": "1207574c-2883-43cc-cd05-58a4c405b92a"
      },
      "outputs": [
        {
          "output_type": "execute_result",
          "data": {
            "text/plain": [
              "         harga   jenis Kamar_Mandi_Dalam  Wifi  AC Kloset_Duduk  Kasur\n",
              "4432   2357100  Campur               KMD  WiFi  AC           KD  Kasur\n",
              "9326   1233000   Putra               KMD     0  AC            0  Kasur\n",
              "3659   1100000   Putri                 0  WiFi   0           KD  Kasur\n",
              "6387   2600000  Campur               KMD  WiFi  AC           KD  Kasur\n",
              "7881   1500000   Putri               KMD  WiFi  AC           KD  Kasur\n",
              "3846   1350000   Putra               KMD  WiFi  AC           KD  Kasur\n",
              "10060   800000   Putri               KMD  WiFi   0            0  Kasur\n",
              "102    1250000   Putri               KMD  WiFi  AC            0  Kasur\n",
              "7955   1500000  Campur               KMD  WiFi  AC            0  Kasur\n",
              "1724    800000  Campur               KMD  WiFi   0            0  Kasur"
            ],
            "text/html": [
              "\n",
              "  <div id=\"df-1c11eaae-49f8-4793-bb40-341e9662f7ed\">\n",
              "    <div class=\"colab-df-container\">\n",
              "      <div>\n",
              "<style scoped>\n",
              "    .dataframe tbody tr th:only-of-type {\n",
              "        vertical-align: middle;\n",
              "    }\n",
              "\n",
              "    .dataframe tbody tr th {\n",
              "        vertical-align: top;\n",
              "    }\n",
              "\n",
              "    .dataframe thead th {\n",
              "        text-align: right;\n",
              "    }\n",
              "</style>\n",
              "<table border=\"1\" class=\"dataframe\">\n",
              "  <thead>\n",
              "    <tr style=\"text-align: right;\">\n",
              "      <th></th>\n",
              "      <th>harga</th>\n",
              "      <th>jenis</th>\n",
              "      <th>Kamar_Mandi_Dalam</th>\n",
              "      <th>Wifi</th>\n",
              "      <th>AC</th>\n",
              "      <th>Kloset_Duduk</th>\n",
              "      <th>Kasur</th>\n",
              "    </tr>\n",
              "  </thead>\n",
              "  <tbody>\n",
              "    <tr>\n",
              "      <th>4432</th>\n",
              "      <td>2357100</td>\n",
              "      <td>Campur</td>\n",
              "      <td>KMD</td>\n",
              "      <td>WiFi</td>\n",
              "      <td>AC</td>\n",
              "      <td>KD</td>\n",
              "      <td>Kasur</td>\n",
              "    </tr>\n",
              "    <tr>\n",
              "      <th>9326</th>\n",
              "      <td>1233000</td>\n",
              "      <td>Putra</td>\n",
              "      <td>KMD</td>\n",
              "      <td>0</td>\n",
              "      <td>AC</td>\n",
              "      <td>0</td>\n",
              "      <td>Kasur</td>\n",
              "    </tr>\n",
              "    <tr>\n",
              "      <th>3659</th>\n",
              "      <td>1100000</td>\n",
              "      <td>Putri</td>\n",
              "      <td>0</td>\n",
              "      <td>WiFi</td>\n",
              "      <td>0</td>\n",
              "      <td>KD</td>\n",
              "      <td>Kasur</td>\n",
              "    </tr>\n",
              "    <tr>\n",
              "      <th>6387</th>\n",
              "      <td>2600000</td>\n",
              "      <td>Campur</td>\n",
              "      <td>KMD</td>\n",
              "      <td>WiFi</td>\n",
              "      <td>AC</td>\n",
              "      <td>KD</td>\n",
              "      <td>Kasur</td>\n",
              "    </tr>\n",
              "    <tr>\n",
              "      <th>7881</th>\n",
              "      <td>1500000</td>\n",
              "      <td>Putri</td>\n",
              "      <td>KMD</td>\n",
              "      <td>WiFi</td>\n",
              "      <td>AC</td>\n",
              "      <td>KD</td>\n",
              "      <td>Kasur</td>\n",
              "    </tr>\n",
              "    <tr>\n",
              "      <th>3846</th>\n",
              "      <td>1350000</td>\n",
              "      <td>Putra</td>\n",
              "      <td>KMD</td>\n",
              "      <td>WiFi</td>\n",
              "      <td>AC</td>\n",
              "      <td>KD</td>\n",
              "      <td>Kasur</td>\n",
              "    </tr>\n",
              "    <tr>\n",
              "      <th>10060</th>\n",
              "      <td>800000</td>\n",
              "      <td>Putri</td>\n",
              "      <td>KMD</td>\n",
              "      <td>WiFi</td>\n",
              "      <td>0</td>\n",
              "      <td>0</td>\n",
              "      <td>Kasur</td>\n",
              "    </tr>\n",
              "    <tr>\n",
              "      <th>102</th>\n",
              "      <td>1250000</td>\n",
              "      <td>Putri</td>\n",
              "      <td>KMD</td>\n",
              "      <td>WiFi</td>\n",
              "      <td>AC</td>\n",
              "      <td>0</td>\n",
              "      <td>Kasur</td>\n",
              "    </tr>\n",
              "    <tr>\n",
              "      <th>7955</th>\n",
              "      <td>1500000</td>\n",
              "      <td>Campur</td>\n",
              "      <td>KMD</td>\n",
              "      <td>WiFi</td>\n",
              "      <td>AC</td>\n",
              "      <td>0</td>\n",
              "      <td>Kasur</td>\n",
              "    </tr>\n",
              "    <tr>\n",
              "      <th>1724</th>\n",
              "      <td>800000</td>\n",
              "      <td>Campur</td>\n",
              "      <td>KMD</td>\n",
              "      <td>WiFi</td>\n",
              "      <td>0</td>\n",
              "      <td>0</td>\n",
              "      <td>Kasur</td>\n",
              "    </tr>\n",
              "  </tbody>\n",
              "</table>\n",
              "</div>\n",
              "      <button class=\"colab-df-convert\" onclick=\"convertToInteractive('df-1c11eaae-49f8-4793-bb40-341e9662f7ed')\"\n",
              "              title=\"Convert this dataframe to an interactive table.\"\n",
              "              style=\"display:none;\">\n",
              "        \n",
              "  <svg xmlns=\"http://www.w3.org/2000/svg\" height=\"24px\"viewBox=\"0 0 24 24\"\n",
              "       width=\"24px\">\n",
              "    <path d=\"M0 0h24v24H0V0z\" fill=\"none\"/>\n",
              "    <path d=\"M18.56 5.44l.94 2.06.94-2.06 2.06-.94-2.06-.94-.94-2.06-.94 2.06-2.06.94zm-11 1L8.5 8.5l.94-2.06 2.06-.94-2.06-.94L8.5 2.5l-.94 2.06-2.06.94zm10 10l.94 2.06.94-2.06 2.06-.94-2.06-.94-.94-2.06-.94 2.06-2.06.94z\"/><path d=\"M17.41 7.96l-1.37-1.37c-.4-.4-.92-.59-1.43-.59-.52 0-1.04.2-1.43.59L10.3 9.45l-7.72 7.72c-.78.78-.78 2.05 0 2.83L4 21.41c.39.39.9.59 1.41.59.51 0 1.02-.2 1.41-.59l7.78-7.78 2.81-2.81c.8-.78.8-2.07 0-2.86zM5.41 20L4 18.59l7.72-7.72 1.47 1.35L5.41 20z\"/>\n",
              "  </svg>\n",
              "      </button>\n",
              "      \n",
              "  <style>\n",
              "    .colab-df-container {\n",
              "      display:flex;\n",
              "      flex-wrap:wrap;\n",
              "      gap: 12px;\n",
              "    }\n",
              "\n",
              "    .colab-df-convert {\n",
              "      background-color: #E8F0FE;\n",
              "      border: none;\n",
              "      border-radius: 50%;\n",
              "      cursor: pointer;\n",
              "      display: none;\n",
              "      fill: #1967D2;\n",
              "      height: 32px;\n",
              "      padding: 0 0 0 0;\n",
              "      width: 32px;\n",
              "    }\n",
              "\n",
              "    .colab-df-convert:hover {\n",
              "      background-color: #E2EBFA;\n",
              "      box-shadow: 0px 1px 2px rgba(60, 64, 67, 0.3), 0px 1px 3px 1px rgba(60, 64, 67, 0.15);\n",
              "      fill: #174EA6;\n",
              "    }\n",
              "\n",
              "    [theme=dark] .colab-df-convert {\n",
              "      background-color: #3B4455;\n",
              "      fill: #D2E3FC;\n",
              "    }\n",
              "\n",
              "    [theme=dark] .colab-df-convert:hover {\n",
              "      background-color: #434B5C;\n",
              "      box-shadow: 0px 1px 3px 1px rgba(0, 0, 0, 0.15);\n",
              "      filter: drop-shadow(0px 1px 2px rgba(0, 0, 0, 0.3));\n",
              "      fill: #FFFFFF;\n",
              "    }\n",
              "  </style>\n",
              "\n",
              "      <script>\n",
              "        const buttonEl =\n",
              "          document.querySelector('#df-1c11eaae-49f8-4793-bb40-341e9662f7ed button.colab-df-convert');\n",
              "        buttonEl.style.display =\n",
              "          google.colab.kernel.accessAllowed ? 'block' : 'none';\n",
              "\n",
              "        async function convertToInteractive(key) {\n",
              "          const element = document.querySelector('#df-1c11eaae-49f8-4793-bb40-341e9662f7ed');\n",
              "          const dataTable =\n",
              "            await google.colab.kernel.invokeFunction('convertToInteractive',\n",
              "                                                     [key], {});\n",
              "          if (!dataTable) return;\n",
              "\n",
              "          const docLinkHtml = 'Like what you see? Visit the ' +\n",
              "            '<a target=\"_blank\" href=https://colab.research.google.com/notebooks/data_table.ipynb>data table notebook</a>'\n",
              "            + ' to learn more about interactive tables.';\n",
              "          element.innerHTML = '';\n",
              "          dataTable['output_type'] = 'display_data';\n",
              "          await google.colab.output.renderOutput(dataTable, element);\n",
              "          const docLink = document.createElement('div');\n",
              "          docLink.innerHTML = docLinkHtml;\n",
              "          element.appendChild(docLink);\n",
              "        }\n",
              "      </script>\n",
              "    </div>\n",
              "  </div>\n",
              "  "
            ]
          },
          "metadata": {},
          "execution_count": 17
        }
      ],
      "source": [
        "data.sample(10)"
      ]
    },
    {
      "cell_type": "markdown",
      "id": "e055128c",
      "metadata": {
        "id": "e055128c"
      },
      "source": [
        "# Exploratory Data Analysis"
      ]
    },
    {
      "cell_type": "code",
      "execution_count": null,
      "id": "84a90a68",
      "metadata": {
        "colab": {
          "base_uri": "https://localhost:8080/"
        },
        "id": "84a90a68",
        "outputId": "accefb8c-8789-434e-f0f3-e8635efdbcac"
      },
      "outputs": [
        {
          "output_type": "execute_result",
          "data": {
            "text/plain": [
              "Putri     5366\n",
              "Campur    3363\n",
              "Putra     2271\n",
              "Name: jenis, dtype: int64"
            ]
          },
          "metadata": {},
          "execution_count": 18
        }
      ],
      "source": [
        "data.jenis.value_counts()"
      ]
    },
    {
      "cell_type": "code",
      "execution_count": null,
      "id": "1a1f121d",
      "metadata": {
        "colab": {
          "base_uri": "https://localhost:8080/"
        },
        "id": "1a1f121d",
        "outputId": "3eb23830-48b3-4394-d311-b4c20c617596"
      },
      "outputs": [
        {
          "output_type": "execute_result",
          "data": {
            "text/plain": [
              "KMD    9976\n",
              "0      1024\n",
              "Name: Kamar_Mandi_Dalam, dtype: int64"
            ]
          },
          "metadata": {},
          "execution_count": 19
        }
      ],
      "source": [
        "data.Kamar_Mandi_Dalam.value_counts()"
      ]
    },
    {
      "cell_type": "code",
      "execution_count": null,
      "id": "7e04db26",
      "metadata": {
        "colab": {
          "base_uri": "https://localhost:8080/"
        },
        "id": "7e04db26",
        "outputId": "b0676994-ca84-4444-ea64-e053ee8eccb5"
      },
      "outputs": [
        {
          "output_type": "execute_result",
          "data": {
            "text/plain": [
              "WiFi    8118\n",
              "0       2882\n",
              "Name: Wifi, dtype: int64"
            ]
          },
          "metadata": {},
          "execution_count": 20
        }
      ],
      "source": [
        "data.Wifi.value_counts()"
      ]
    },
    {
      "cell_type": "code",
      "execution_count": null,
      "id": "9defb9a4",
      "metadata": {
        "colab": {
          "base_uri": "https://localhost:8080/"
        },
        "id": "9defb9a4",
        "outputId": "e8f0beb2-727d-4122-b4a9-6b3038c3402c"
      },
      "outputs": [
        {
          "output_type": "execute_result",
          "data": {
            "text/plain": [
              "AC    5816\n",
              "0     5184\n",
              "Name: AC, dtype: int64"
            ]
          },
          "metadata": {},
          "execution_count": 21
        }
      ],
      "source": [
        "data.AC.value_counts()"
      ]
    },
    {
      "cell_type": "code",
      "execution_count": null,
      "id": "a14a2647",
      "metadata": {
        "colab": {
          "base_uri": "https://localhost:8080/"
        },
        "id": "a14a2647",
        "outputId": "83e1931d-097d-43fe-ea6e-a94a0a3d706c"
      },
      "outputs": [
        {
          "output_type": "execute_result",
          "data": {
            "text/plain": [
              "KD    7182\n",
              "0     3818\n",
              "Name: Kloset_Duduk, dtype: int64"
            ]
          },
          "metadata": {},
          "execution_count": 22
        }
      ],
      "source": [
        "data.Kloset_Duduk.value_counts()"
      ]
    },
    {
      "cell_type": "code",
      "execution_count": null,
      "id": "89053d10",
      "metadata": {
        "colab": {
          "base_uri": "https://localhost:8080/"
        },
        "id": "89053d10",
        "outputId": "5d280439-a5cb-4aa4-caa4-0349a6c13a7a"
      },
      "outputs": [
        {
          "output_type": "execute_result",
          "data": {
            "text/plain": [
              "Kasur    10702\n",
              "0          298\n",
              "Name: Kasur, dtype: int64"
            ]
          },
          "metadata": {},
          "execution_count": 23
        }
      ],
      "source": [
        "data.Kasur.value_counts()"
      ]
    },
    {
      "cell_type": "markdown",
      "id": "e14fdb5f",
      "metadata": {
        "id": "e14fdb5f"
      },
      "source": [
        "# Data Pra-Processing"
      ]
    },
    {
      "cell_type": "code",
      "execution_count": null,
      "id": "c29c4d30",
      "metadata": {
        "colab": {
          "base_uri": "https://localhost:8080/"
        },
        "id": "c29c4d30",
        "outputId": "a0d4fd14-0033-47b7-80ae-b768d9fcb3d8"
      },
      "outputs": [
        {
          "output_type": "stream",
          "name": "stdout",
          "text": [
            "<class 'pandas.core.frame.DataFrame'>\n",
            "RangeIndex: 11000 entries, 0 to 10999\n",
            "Data columns (total 7 columns):\n",
            " #   Column             Non-Null Count  Dtype \n",
            "---  ------             --------------  ----- \n",
            " 0   harga              11000 non-null  int64 \n",
            " 1   jenis              11000 non-null  object\n",
            " 2   Kamar_Mandi_Dalam  11000 non-null  object\n",
            " 3   Wifi               11000 non-null  object\n",
            " 4   AC                 11000 non-null  object\n",
            " 5   Kloset_Duduk       11000 non-null  object\n",
            " 6   Kasur              11000 non-null  object\n",
            "dtypes: int64(1), object(6)\n",
            "memory usage: 601.7+ KB\n"
          ]
        }
      ],
      "source": [
        "#identifikasi Atribut\n",
        "data.info()"
      ]
    },
    {
      "cell_type": "code",
      "execution_count": null,
      "id": "e522c595",
      "metadata": {
        "id": "e522c595"
      },
      "outputs": [],
      "source": [
        "from pandas import DataFrame"
      ]
    },
    {
      "cell_type": "code",
      "execution_count": null,
      "id": "1186f8ce",
      "metadata": {
        "id": "1186f8ce"
      },
      "outputs": [],
      "source": [
        "def preprocess_data(\n",
        "    df: DataFrame,\n",
        "    #col_pairs: [(str, str)],\n",
        "    one_hot_cols: [str],\n",
        "    standardized_cols: [str],\n",
        "    scaler: StandardScaler,\n",
        "    \n",
        "):\n",
        "  result_df = df.copy()\n",
        "  #result_df = encode_two_valued_attributes_with_one_hot_encoding(result_df, col_pairs)\n",
        "  result_df = encode_multivalued_attributes_with_one_hot_encoding(result_df, one_hot_cols)\n",
        "  result_df, _ = standardize_attributes(result_df, standardized_cols, scaler)\n",
        "  return result_df\n"
      ]
    },
    {
      "cell_type": "code",
      "execution_count": null,
      "id": "cfa69d4e",
      "metadata": {
        "id": "cfa69d4e"
      },
      "outputs": [],
      "source": [
        "s = (data.dtypes == 'object')\n",
        "object_cols = list(s[s].index)\n",
        "one_hot_cols = (list(set(object_cols)))"
      ]
    },
    {
      "cell_type": "code",
      "source": [
        "s"
      ],
      "metadata": {
        "colab": {
          "base_uri": "https://localhost:8080/"
        },
        "id": "_jeZvOVvtdFx",
        "outputId": "32322654-d380-4665-aa10-8a71d6503e64"
      },
      "id": "_jeZvOVvtdFx",
      "execution_count": null,
      "outputs": [
        {
          "output_type": "execute_result",
          "data": {
            "text/plain": [
              "harga                False\n",
              "jenis                 True\n",
              "Kamar_Mandi_Dalam     True\n",
              "Wifi                  True\n",
              "AC                    True\n",
              "Kloset_Duduk          True\n",
              "Kasur                 True\n",
              "dtype: bool"
            ]
          },
          "metadata": {},
          "execution_count": 35
        }
      ]
    },
    {
      "cell_type": "code",
      "execution_count": null,
      "id": "49d713f1",
      "metadata": {
        "colab": {
          "base_uri": "https://localhost:8080/"
        },
        "id": "49d713f1",
        "outputId": "ac0ad9d3-578e-4127-d66d-e44a67dc519d"
      },
      "outputs": [
        {
          "output_type": "execute_result",
          "data": {
            "text/plain": [
              "['jenis', 'Kamar_Mandi_Dalam', 'Wifi', 'AC', 'Kloset_Duduk', 'Kasur']"
            ]
          },
          "metadata": {},
          "execution_count": 36
        }
      ],
      "source": [
        "object_cols = list(s[s].index)\n",
        "object_cols"
      ]
    },
    {
      "cell_type": "code",
      "source": [
        "one_hot_cols"
      ],
      "metadata": {
        "colab": {
          "base_uri": "https://localhost:8080/"
        },
        "id": "u0FTjrZitn-o",
        "outputId": "7a9580f8-f73b-4437-8908-623710f22097"
      },
      "id": "u0FTjrZitn-o",
      "execution_count": null,
      "outputs": [
        {
          "output_type": "execute_result",
          "data": {
            "text/plain": [
              "['Wifi', 'AC', 'Kloset_Duduk', 'Kasur', 'jenis', 'Kamar_Mandi_Dalam']"
            ]
          },
          "metadata": {},
          "execution_count": 37
        }
      ]
    },
    {
      "cell_type": "code",
      "source": [
        "data"
      ],
      "metadata": {
        "colab": {
          "base_uri": "https://localhost:8080/",
          "height": 424
        },
        "id": "1sRA6xAQt-7h",
        "outputId": "bfc6d5f3-c43e-4aaf-eccb-1ed44df3baba"
      },
      "id": "1sRA6xAQt-7h",
      "execution_count": null,
      "outputs": [
        {
          "output_type": "execute_result",
          "data": {
            "text/plain": [
              "         harga   jenis Kamar_Mandi_Dalam  Wifi  AC Kloset_Duduk  Kasur\n",
              "0      1143000   Putri               KMD     0  AC            0  Kasur\n",
              "1      1323000   Putri               KMD  WiFi  AC            0  Kasur\n",
              "2      1683000   Putri               KMD  WiFi  AC           KD  Kasur\n",
              "3      1548000  Campur               KMD  WiFi  AC           KD  Kasur\n",
              "4      1233000   Putri               KMD  WiFi  AC            0  Kasur\n",
              "...        ...     ...               ...   ...  ..          ...    ...\n",
              "10995   700000   Putra                 0  WiFi   0           KD  Kasur\n",
              "10996   900000   Putra                 0  WiFi   0            0  Kasur\n",
              "10997   800000   Putri               KMD  WiFi   0            0      0\n",
              "10998  2499000  Campur               KMD  WiFi  AC           KD  Kasur\n",
              "10999  1100000  Campur               KMD     0  AC           KD      0\n",
              "\n",
              "[11000 rows x 7 columns]"
            ],
            "text/html": [
              "\n",
              "  <div id=\"df-eff0965c-efcb-4948-a2b0-6746f9891f5e\">\n",
              "    <div class=\"colab-df-container\">\n",
              "      <div>\n",
              "<style scoped>\n",
              "    .dataframe tbody tr th:only-of-type {\n",
              "        vertical-align: middle;\n",
              "    }\n",
              "\n",
              "    .dataframe tbody tr th {\n",
              "        vertical-align: top;\n",
              "    }\n",
              "\n",
              "    .dataframe thead th {\n",
              "        text-align: right;\n",
              "    }\n",
              "</style>\n",
              "<table border=\"1\" class=\"dataframe\">\n",
              "  <thead>\n",
              "    <tr style=\"text-align: right;\">\n",
              "      <th></th>\n",
              "      <th>harga</th>\n",
              "      <th>jenis</th>\n",
              "      <th>Kamar_Mandi_Dalam</th>\n",
              "      <th>Wifi</th>\n",
              "      <th>AC</th>\n",
              "      <th>Kloset_Duduk</th>\n",
              "      <th>Kasur</th>\n",
              "    </tr>\n",
              "  </thead>\n",
              "  <tbody>\n",
              "    <tr>\n",
              "      <th>0</th>\n",
              "      <td>1143000</td>\n",
              "      <td>Putri</td>\n",
              "      <td>KMD</td>\n",
              "      <td>0</td>\n",
              "      <td>AC</td>\n",
              "      <td>0</td>\n",
              "      <td>Kasur</td>\n",
              "    </tr>\n",
              "    <tr>\n",
              "      <th>1</th>\n",
              "      <td>1323000</td>\n",
              "      <td>Putri</td>\n",
              "      <td>KMD</td>\n",
              "      <td>WiFi</td>\n",
              "      <td>AC</td>\n",
              "      <td>0</td>\n",
              "      <td>Kasur</td>\n",
              "    </tr>\n",
              "    <tr>\n",
              "      <th>2</th>\n",
              "      <td>1683000</td>\n",
              "      <td>Putri</td>\n",
              "      <td>KMD</td>\n",
              "      <td>WiFi</td>\n",
              "      <td>AC</td>\n",
              "      <td>KD</td>\n",
              "      <td>Kasur</td>\n",
              "    </tr>\n",
              "    <tr>\n",
              "      <th>3</th>\n",
              "      <td>1548000</td>\n",
              "      <td>Campur</td>\n",
              "      <td>KMD</td>\n",
              "      <td>WiFi</td>\n",
              "      <td>AC</td>\n",
              "      <td>KD</td>\n",
              "      <td>Kasur</td>\n",
              "    </tr>\n",
              "    <tr>\n",
              "      <th>4</th>\n",
              "      <td>1233000</td>\n",
              "      <td>Putri</td>\n",
              "      <td>KMD</td>\n",
              "      <td>WiFi</td>\n",
              "      <td>AC</td>\n",
              "      <td>0</td>\n",
              "      <td>Kasur</td>\n",
              "    </tr>\n",
              "    <tr>\n",
              "      <th>...</th>\n",
              "      <td>...</td>\n",
              "      <td>...</td>\n",
              "      <td>...</td>\n",
              "      <td>...</td>\n",
              "      <td>...</td>\n",
              "      <td>...</td>\n",
              "      <td>...</td>\n",
              "    </tr>\n",
              "    <tr>\n",
              "      <th>10995</th>\n",
              "      <td>700000</td>\n",
              "      <td>Putra</td>\n",
              "      <td>0</td>\n",
              "      <td>WiFi</td>\n",
              "      <td>0</td>\n",
              "      <td>KD</td>\n",
              "      <td>Kasur</td>\n",
              "    </tr>\n",
              "    <tr>\n",
              "      <th>10996</th>\n",
              "      <td>900000</td>\n",
              "      <td>Putra</td>\n",
              "      <td>0</td>\n",
              "      <td>WiFi</td>\n",
              "      <td>0</td>\n",
              "      <td>0</td>\n",
              "      <td>Kasur</td>\n",
              "    </tr>\n",
              "    <tr>\n",
              "      <th>10997</th>\n",
              "      <td>800000</td>\n",
              "      <td>Putri</td>\n",
              "      <td>KMD</td>\n",
              "      <td>WiFi</td>\n",
              "      <td>0</td>\n",
              "      <td>0</td>\n",
              "      <td>0</td>\n",
              "    </tr>\n",
              "    <tr>\n",
              "      <th>10998</th>\n",
              "      <td>2499000</td>\n",
              "      <td>Campur</td>\n",
              "      <td>KMD</td>\n",
              "      <td>WiFi</td>\n",
              "      <td>AC</td>\n",
              "      <td>KD</td>\n",
              "      <td>Kasur</td>\n",
              "    </tr>\n",
              "    <tr>\n",
              "      <th>10999</th>\n",
              "      <td>1100000</td>\n",
              "      <td>Campur</td>\n",
              "      <td>KMD</td>\n",
              "      <td>0</td>\n",
              "      <td>AC</td>\n",
              "      <td>KD</td>\n",
              "      <td>0</td>\n",
              "    </tr>\n",
              "  </tbody>\n",
              "</table>\n",
              "<p>11000 rows × 7 columns</p>\n",
              "</div>\n",
              "      <button class=\"colab-df-convert\" onclick=\"convertToInteractive('df-eff0965c-efcb-4948-a2b0-6746f9891f5e')\"\n",
              "              title=\"Convert this dataframe to an interactive table.\"\n",
              "              style=\"display:none;\">\n",
              "        \n",
              "  <svg xmlns=\"http://www.w3.org/2000/svg\" height=\"24px\"viewBox=\"0 0 24 24\"\n",
              "       width=\"24px\">\n",
              "    <path d=\"M0 0h24v24H0V0z\" fill=\"none\"/>\n",
              "    <path d=\"M18.56 5.44l.94 2.06.94-2.06 2.06-.94-2.06-.94-.94-2.06-.94 2.06-2.06.94zm-11 1L8.5 8.5l.94-2.06 2.06-.94-2.06-.94L8.5 2.5l-.94 2.06-2.06.94zm10 10l.94 2.06.94-2.06 2.06-.94-2.06-.94-.94-2.06-.94 2.06-2.06.94z\"/><path d=\"M17.41 7.96l-1.37-1.37c-.4-.4-.92-.59-1.43-.59-.52 0-1.04.2-1.43.59L10.3 9.45l-7.72 7.72c-.78.78-.78 2.05 0 2.83L4 21.41c.39.39.9.59 1.41.59.51 0 1.02-.2 1.41-.59l7.78-7.78 2.81-2.81c.8-.78.8-2.07 0-2.86zM5.41 20L4 18.59l7.72-7.72 1.47 1.35L5.41 20z\"/>\n",
              "  </svg>\n",
              "      </button>\n",
              "      \n",
              "  <style>\n",
              "    .colab-df-container {\n",
              "      display:flex;\n",
              "      flex-wrap:wrap;\n",
              "      gap: 12px;\n",
              "    }\n",
              "\n",
              "    .colab-df-convert {\n",
              "      background-color: #E8F0FE;\n",
              "      border: none;\n",
              "      border-radius: 50%;\n",
              "      cursor: pointer;\n",
              "      display: none;\n",
              "      fill: #1967D2;\n",
              "      height: 32px;\n",
              "      padding: 0 0 0 0;\n",
              "      width: 32px;\n",
              "    }\n",
              "\n",
              "    .colab-df-convert:hover {\n",
              "      background-color: #E2EBFA;\n",
              "      box-shadow: 0px 1px 2px rgba(60, 64, 67, 0.3), 0px 1px 3px 1px rgba(60, 64, 67, 0.15);\n",
              "      fill: #174EA6;\n",
              "    }\n",
              "\n",
              "    [theme=dark] .colab-df-convert {\n",
              "      background-color: #3B4455;\n",
              "      fill: #D2E3FC;\n",
              "    }\n",
              "\n",
              "    [theme=dark] .colab-df-convert:hover {\n",
              "      background-color: #434B5C;\n",
              "      box-shadow: 0px 1px 3px 1px rgba(0, 0, 0, 0.15);\n",
              "      filter: drop-shadow(0px 1px 2px rgba(0, 0, 0, 0.3));\n",
              "      fill: #FFFFFF;\n",
              "    }\n",
              "  </style>\n",
              "\n",
              "      <script>\n",
              "        const buttonEl =\n",
              "          document.querySelector('#df-eff0965c-efcb-4948-a2b0-6746f9891f5e button.colab-df-convert');\n",
              "        buttonEl.style.display =\n",
              "          google.colab.kernel.accessAllowed ? 'block' : 'none';\n",
              "\n",
              "        async function convertToInteractive(key) {\n",
              "          const element = document.querySelector('#df-eff0965c-efcb-4948-a2b0-6746f9891f5e');\n",
              "          const dataTable =\n",
              "            await google.colab.kernel.invokeFunction('convertToInteractive',\n",
              "                                                     [key], {});\n",
              "          if (!dataTable) return;\n",
              "\n",
              "          const docLinkHtml = 'Like what you see? Visit the ' +\n",
              "            '<a target=\"_blank\" href=https://colab.research.google.com/notebooks/data_table.ipynb>data table notebook</a>'\n",
              "            + ' to learn more about interactive tables.';\n",
              "          element.innerHTML = '';\n",
              "          dataTable['output_type'] = 'display_data';\n",
              "          await google.colab.output.renderOutput(dataTable, element);\n",
              "          const docLink = document.createElement('div');\n",
              "          docLink.innerHTML = docLinkHtml;\n",
              "          element.appendChild(docLink);\n",
              "        }\n",
              "      </script>\n",
              "    </div>\n",
              "  </div>\n",
              "  "
            ]
          },
          "metadata": {},
          "execution_count": 38
        }
      ]
    },
    {
      "cell_type": "code",
      "execution_count": null,
      "id": "5fd9eb2e",
      "metadata": {
        "id": "5fd9eb2e"
      },
      "outputs": [],
      "source": [
        "#one_hot_encoding kategori\n",
        "def encode_multivalued_attributes_with_one_hot_encoding(\n",
        "    df: DataFrame, col_names: [str]\n",
        "):\n",
        "  result_df = df.copy()\n",
        "  for col_name in col_names:\n",
        "    one_hot_values_df = pd.get_dummies(result_df[col_name], prefix=col_name, drop_first=True)\n",
        "    result_df = pd.concat([result_df, one_hot_values_df], axis=1)\n",
        "    result_df = result_df.drop(col_name, axis=1)\n",
        "    \n",
        "  return result_df\n"
      ]
    },
    {
      "cell_type": "code",
      "execution_count": null,
      "id": "e4a643bc",
      "metadata": {
        "id": "e4a643bc"
      },
      "outputs": [],
      "source": [
        "data_preProcess=encode_multivalued_attributes_with_one_hot_encoding(data, one_hot_cols)"
      ]
    },
    {
      "cell_type": "code",
      "execution_count": null,
      "id": "9bc0af05",
      "metadata": {
        "colab": {
          "base_uri": "https://localhost:8080/",
          "height": 206
        },
        "id": "9bc0af05",
        "outputId": "a2528d2e-12ad-4352-b06f-240b89eb5446"
      },
      "outputs": [
        {
          "output_type": "execute_result",
          "data": {
            "text/plain": [
              "     harga  Wifi_WiFi  AC_AC  Kloset_Duduk_KD  Kasur_Kasur  jenis_Putra  \\\n",
              "0  1143000          0      1                0            1            0   \n",
              "1  1323000          1      1                0            1            0   \n",
              "2  1683000          1      1                1            1            0   \n",
              "3  1548000          1      1                1            1            0   \n",
              "4  1233000          1      1                0            1            0   \n",
              "\n",
              "   jenis_Putri  Kamar_Mandi_Dalam_KMD  \n",
              "0            1                      1  \n",
              "1            1                      1  \n",
              "2            1                      1  \n",
              "3            0                      1  \n",
              "4            1                      1  "
            ],
            "text/html": [
              "\n",
              "  <div id=\"df-7b11222d-9b6a-4af4-9fbf-3037655d0018\">\n",
              "    <div class=\"colab-df-container\">\n",
              "      <div>\n",
              "<style scoped>\n",
              "    .dataframe tbody tr th:only-of-type {\n",
              "        vertical-align: middle;\n",
              "    }\n",
              "\n",
              "    .dataframe tbody tr th {\n",
              "        vertical-align: top;\n",
              "    }\n",
              "\n",
              "    .dataframe thead th {\n",
              "        text-align: right;\n",
              "    }\n",
              "</style>\n",
              "<table border=\"1\" class=\"dataframe\">\n",
              "  <thead>\n",
              "    <tr style=\"text-align: right;\">\n",
              "      <th></th>\n",
              "      <th>harga</th>\n",
              "      <th>Wifi_WiFi</th>\n",
              "      <th>AC_AC</th>\n",
              "      <th>Kloset_Duduk_KD</th>\n",
              "      <th>Kasur_Kasur</th>\n",
              "      <th>jenis_Putra</th>\n",
              "      <th>jenis_Putri</th>\n",
              "      <th>Kamar_Mandi_Dalam_KMD</th>\n",
              "    </tr>\n",
              "  </thead>\n",
              "  <tbody>\n",
              "    <tr>\n",
              "      <th>0</th>\n",
              "      <td>1143000</td>\n",
              "      <td>0</td>\n",
              "      <td>1</td>\n",
              "      <td>0</td>\n",
              "      <td>1</td>\n",
              "      <td>0</td>\n",
              "      <td>1</td>\n",
              "      <td>1</td>\n",
              "    </tr>\n",
              "    <tr>\n",
              "      <th>1</th>\n",
              "      <td>1323000</td>\n",
              "      <td>1</td>\n",
              "      <td>1</td>\n",
              "      <td>0</td>\n",
              "      <td>1</td>\n",
              "      <td>0</td>\n",
              "      <td>1</td>\n",
              "      <td>1</td>\n",
              "    </tr>\n",
              "    <tr>\n",
              "      <th>2</th>\n",
              "      <td>1683000</td>\n",
              "      <td>1</td>\n",
              "      <td>1</td>\n",
              "      <td>1</td>\n",
              "      <td>1</td>\n",
              "      <td>0</td>\n",
              "      <td>1</td>\n",
              "      <td>1</td>\n",
              "    </tr>\n",
              "    <tr>\n",
              "      <th>3</th>\n",
              "      <td>1548000</td>\n",
              "      <td>1</td>\n",
              "      <td>1</td>\n",
              "      <td>1</td>\n",
              "      <td>1</td>\n",
              "      <td>0</td>\n",
              "      <td>0</td>\n",
              "      <td>1</td>\n",
              "    </tr>\n",
              "    <tr>\n",
              "      <th>4</th>\n",
              "      <td>1233000</td>\n",
              "      <td>1</td>\n",
              "      <td>1</td>\n",
              "      <td>0</td>\n",
              "      <td>1</td>\n",
              "      <td>0</td>\n",
              "      <td>1</td>\n",
              "      <td>1</td>\n",
              "    </tr>\n",
              "  </tbody>\n",
              "</table>\n",
              "</div>\n",
              "      <button class=\"colab-df-convert\" onclick=\"convertToInteractive('df-7b11222d-9b6a-4af4-9fbf-3037655d0018')\"\n",
              "              title=\"Convert this dataframe to an interactive table.\"\n",
              "              style=\"display:none;\">\n",
              "        \n",
              "  <svg xmlns=\"http://www.w3.org/2000/svg\" height=\"24px\"viewBox=\"0 0 24 24\"\n",
              "       width=\"24px\">\n",
              "    <path d=\"M0 0h24v24H0V0z\" fill=\"none\"/>\n",
              "    <path d=\"M18.56 5.44l.94 2.06.94-2.06 2.06-.94-2.06-.94-.94-2.06-.94 2.06-2.06.94zm-11 1L8.5 8.5l.94-2.06 2.06-.94-2.06-.94L8.5 2.5l-.94 2.06-2.06.94zm10 10l.94 2.06.94-2.06 2.06-.94-2.06-.94-.94-2.06-.94 2.06-2.06.94z\"/><path d=\"M17.41 7.96l-1.37-1.37c-.4-.4-.92-.59-1.43-.59-.52 0-1.04.2-1.43.59L10.3 9.45l-7.72 7.72c-.78.78-.78 2.05 0 2.83L4 21.41c.39.39.9.59 1.41.59.51 0 1.02-.2 1.41-.59l7.78-7.78 2.81-2.81c.8-.78.8-2.07 0-2.86zM5.41 20L4 18.59l7.72-7.72 1.47 1.35L5.41 20z\"/>\n",
              "  </svg>\n",
              "      </button>\n",
              "      \n",
              "  <style>\n",
              "    .colab-df-container {\n",
              "      display:flex;\n",
              "      flex-wrap:wrap;\n",
              "      gap: 12px;\n",
              "    }\n",
              "\n",
              "    .colab-df-convert {\n",
              "      background-color: #E8F0FE;\n",
              "      border: none;\n",
              "      border-radius: 50%;\n",
              "      cursor: pointer;\n",
              "      display: none;\n",
              "      fill: #1967D2;\n",
              "      height: 32px;\n",
              "      padding: 0 0 0 0;\n",
              "      width: 32px;\n",
              "    }\n",
              "\n",
              "    .colab-df-convert:hover {\n",
              "      background-color: #E2EBFA;\n",
              "      box-shadow: 0px 1px 2px rgba(60, 64, 67, 0.3), 0px 1px 3px 1px rgba(60, 64, 67, 0.15);\n",
              "      fill: #174EA6;\n",
              "    }\n",
              "\n",
              "    [theme=dark] .colab-df-convert {\n",
              "      background-color: #3B4455;\n",
              "      fill: #D2E3FC;\n",
              "    }\n",
              "\n",
              "    [theme=dark] .colab-df-convert:hover {\n",
              "      background-color: #434B5C;\n",
              "      box-shadow: 0px 1px 3px 1px rgba(0, 0, 0, 0.15);\n",
              "      filter: drop-shadow(0px 1px 2px rgba(0, 0, 0, 0.3));\n",
              "      fill: #FFFFFF;\n",
              "    }\n",
              "  </style>\n",
              "\n",
              "      <script>\n",
              "        const buttonEl =\n",
              "          document.querySelector('#df-7b11222d-9b6a-4af4-9fbf-3037655d0018 button.colab-df-convert');\n",
              "        buttonEl.style.display =\n",
              "          google.colab.kernel.accessAllowed ? 'block' : 'none';\n",
              "\n",
              "        async function convertToInteractive(key) {\n",
              "          const element = document.querySelector('#df-7b11222d-9b6a-4af4-9fbf-3037655d0018');\n",
              "          const dataTable =\n",
              "            await google.colab.kernel.invokeFunction('convertToInteractive',\n",
              "                                                     [key], {});\n",
              "          if (!dataTable) return;\n",
              "\n",
              "          const docLinkHtml = 'Like what you see? Visit the ' +\n",
              "            '<a target=\"_blank\" href=https://colab.research.google.com/notebooks/data_table.ipynb>data table notebook</a>'\n",
              "            + ' to learn more about interactive tables.';\n",
              "          element.innerHTML = '';\n",
              "          dataTable['output_type'] = 'display_data';\n",
              "          await google.colab.output.renderOutput(dataTable, element);\n",
              "          const docLink = document.createElement('div');\n",
              "          docLink.innerHTML = docLinkHtml;\n",
              "          element.appendChild(docLink);\n",
              "        }\n",
              "      </script>\n",
              "    </div>\n",
              "  </div>\n",
              "  "
            ]
          },
          "metadata": {},
          "execution_count": 41
        }
      ],
      "source": [
        "data_preProcess.head(5)"
      ]
    },
    {
      "cell_type": "code",
      "execution_count": null,
      "id": "51035bdd",
      "metadata": {
        "colab": {
          "base_uri": "https://localhost:8080/",
          "height": 206
        },
        "id": "51035bdd",
        "outputId": "ce4d1542-dfd5-47c6-a0a1-18851d0c04fe"
      },
      "outputs": [
        {
          "output_type": "execute_result",
          "data": {
            "text/plain": [
              "         harga  Wifi_WiFi  AC_AC  Kloset_Duduk_KD  Kasur_Kasur  jenis_Putra  \\\n",
              "10995   700000          1      0                1            1            1   \n",
              "10996   900000          1      0                0            1            1   \n",
              "10997   800000          1      0                0            0            0   \n",
              "10998  2499000          1      1                1            1            0   \n",
              "10999  1100000          0      1                1            0            0   \n",
              "\n",
              "       jenis_Putri  Kamar_Mandi_Dalam_KMD  \n",
              "10995            0                      0  \n",
              "10996            0                      0  \n",
              "10997            1                      1  \n",
              "10998            0                      1  \n",
              "10999            0                      1  "
            ],
            "text/html": [
              "\n",
              "  <div id=\"df-cdc002f4-560c-4e73-854f-8f6e0ac7ae02\">\n",
              "    <div class=\"colab-df-container\">\n",
              "      <div>\n",
              "<style scoped>\n",
              "    .dataframe tbody tr th:only-of-type {\n",
              "        vertical-align: middle;\n",
              "    }\n",
              "\n",
              "    .dataframe tbody tr th {\n",
              "        vertical-align: top;\n",
              "    }\n",
              "\n",
              "    .dataframe thead th {\n",
              "        text-align: right;\n",
              "    }\n",
              "</style>\n",
              "<table border=\"1\" class=\"dataframe\">\n",
              "  <thead>\n",
              "    <tr style=\"text-align: right;\">\n",
              "      <th></th>\n",
              "      <th>harga</th>\n",
              "      <th>Wifi_WiFi</th>\n",
              "      <th>AC_AC</th>\n",
              "      <th>Kloset_Duduk_KD</th>\n",
              "      <th>Kasur_Kasur</th>\n",
              "      <th>jenis_Putra</th>\n",
              "      <th>jenis_Putri</th>\n",
              "      <th>Kamar_Mandi_Dalam_KMD</th>\n",
              "    </tr>\n",
              "  </thead>\n",
              "  <tbody>\n",
              "    <tr>\n",
              "      <th>10995</th>\n",
              "      <td>700000</td>\n",
              "      <td>1</td>\n",
              "      <td>0</td>\n",
              "      <td>1</td>\n",
              "      <td>1</td>\n",
              "      <td>1</td>\n",
              "      <td>0</td>\n",
              "      <td>0</td>\n",
              "    </tr>\n",
              "    <tr>\n",
              "      <th>10996</th>\n",
              "      <td>900000</td>\n",
              "      <td>1</td>\n",
              "      <td>0</td>\n",
              "      <td>0</td>\n",
              "      <td>1</td>\n",
              "      <td>1</td>\n",
              "      <td>0</td>\n",
              "      <td>0</td>\n",
              "    </tr>\n",
              "    <tr>\n",
              "      <th>10997</th>\n",
              "      <td>800000</td>\n",
              "      <td>1</td>\n",
              "      <td>0</td>\n",
              "      <td>0</td>\n",
              "      <td>0</td>\n",
              "      <td>0</td>\n",
              "      <td>1</td>\n",
              "      <td>1</td>\n",
              "    </tr>\n",
              "    <tr>\n",
              "      <th>10998</th>\n",
              "      <td>2499000</td>\n",
              "      <td>1</td>\n",
              "      <td>1</td>\n",
              "      <td>1</td>\n",
              "      <td>1</td>\n",
              "      <td>0</td>\n",
              "      <td>0</td>\n",
              "      <td>1</td>\n",
              "    </tr>\n",
              "    <tr>\n",
              "      <th>10999</th>\n",
              "      <td>1100000</td>\n",
              "      <td>0</td>\n",
              "      <td>1</td>\n",
              "      <td>1</td>\n",
              "      <td>0</td>\n",
              "      <td>0</td>\n",
              "      <td>0</td>\n",
              "      <td>1</td>\n",
              "    </tr>\n",
              "  </tbody>\n",
              "</table>\n",
              "</div>\n",
              "      <button class=\"colab-df-convert\" onclick=\"convertToInteractive('df-cdc002f4-560c-4e73-854f-8f6e0ac7ae02')\"\n",
              "              title=\"Convert this dataframe to an interactive table.\"\n",
              "              style=\"display:none;\">\n",
              "        \n",
              "  <svg xmlns=\"http://www.w3.org/2000/svg\" height=\"24px\"viewBox=\"0 0 24 24\"\n",
              "       width=\"24px\">\n",
              "    <path d=\"M0 0h24v24H0V0z\" fill=\"none\"/>\n",
              "    <path d=\"M18.56 5.44l.94 2.06.94-2.06 2.06-.94-2.06-.94-.94-2.06-.94 2.06-2.06.94zm-11 1L8.5 8.5l.94-2.06 2.06-.94-2.06-.94L8.5 2.5l-.94 2.06-2.06.94zm10 10l.94 2.06.94-2.06 2.06-.94-2.06-.94-.94-2.06-.94 2.06-2.06.94z\"/><path d=\"M17.41 7.96l-1.37-1.37c-.4-.4-.92-.59-1.43-.59-.52 0-1.04.2-1.43.59L10.3 9.45l-7.72 7.72c-.78.78-.78 2.05 0 2.83L4 21.41c.39.39.9.59 1.41.59.51 0 1.02-.2 1.41-.59l7.78-7.78 2.81-2.81c.8-.78.8-2.07 0-2.86zM5.41 20L4 18.59l7.72-7.72 1.47 1.35L5.41 20z\"/>\n",
              "  </svg>\n",
              "      </button>\n",
              "      \n",
              "  <style>\n",
              "    .colab-df-container {\n",
              "      display:flex;\n",
              "      flex-wrap:wrap;\n",
              "      gap: 12px;\n",
              "    }\n",
              "\n",
              "    .colab-df-convert {\n",
              "      background-color: #E8F0FE;\n",
              "      border: none;\n",
              "      border-radius: 50%;\n",
              "      cursor: pointer;\n",
              "      display: none;\n",
              "      fill: #1967D2;\n",
              "      height: 32px;\n",
              "      padding: 0 0 0 0;\n",
              "      width: 32px;\n",
              "    }\n",
              "\n",
              "    .colab-df-convert:hover {\n",
              "      background-color: #E2EBFA;\n",
              "      box-shadow: 0px 1px 2px rgba(60, 64, 67, 0.3), 0px 1px 3px 1px rgba(60, 64, 67, 0.15);\n",
              "      fill: #174EA6;\n",
              "    }\n",
              "\n",
              "    [theme=dark] .colab-df-convert {\n",
              "      background-color: #3B4455;\n",
              "      fill: #D2E3FC;\n",
              "    }\n",
              "\n",
              "    [theme=dark] .colab-df-convert:hover {\n",
              "      background-color: #434B5C;\n",
              "      box-shadow: 0px 1px 3px 1px rgba(0, 0, 0, 0.15);\n",
              "      filter: drop-shadow(0px 1px 2px rgba(0, 0, 0, 0.3));\n",
              "      fill: #FFFFFF;\n",
              "    }\n",
              "  </style>\n",
              "\n",
              "      <script>\n",
              "        const buttonEl =\n",
              "          document.querySelector('#df-cdc002f4-560c-4e73-854f-8f6e0ac7ae02 button.colab-df-convert');\n",
              "        buttonEl.style.display =\n",
              "          google.colab.kernel.accessAllowed ? 'block' : 'none';\n",
              "\n",
              "        async function convertToInteractive(key) {\n",
              "          const element = document.querySelector('#df-cdc002f4-560c-4e73-854f-8f6e0ac7ae02');\n",
              "          const dataTable =\n",
              "            await google.colab.kernel.invokeFunction('convertToInteractive',\n",
              "                                                     [key], {});\n",
              "          if (!dataTable) return;\n",
              "\n",
              "          const docLinkHtml = 'Like what you see? Visit the ' +\n",
              "            '<a target=\"_blank\" href=https://colab.research.google.com/notebooks/data_table.ipynb>data table notebook</a>'\n",
              "            + ' to learn more about interactive tables.';\n",
              "          element.innerHTML = '';\n",
              "          dataTable['output_type'] = 'display_data';\n",
              "          await google.colab.output.renderOutput(dataTable, element);\n",
              "          const docLink = document.createElement('div');\n",
              "          docLink.innerHTML = docLinkHtml;\n",
              "          element.appendChild(docLink);\n",
              "        }\n",
              "      </script>\n",
              "    </div>\n",
              "  </div>\n",
              "  "
            ]
          },
          "metadata": {},
          "execution_count": 42
        }
      ],
      "source": [
        "data_preProcess.tail(5)"
      ]
    },
    {
      "cell_type": "code",
      "execution_count": null,
      "id": "b2305294",
      "metadata": {
        "colab": {
          "base_uri": "https://localhost:8080/"
        },
        "id": "b2305294",
        "outputId": "3735bc66-f77b-4eaa-d593-2e205f01efc2"
      },
      "outputs": [
        {
          "output_type": "execute_result",
          "data": {
            "text/plain": [
              "count    1.100000e+04\n",
              "mean     1.252733e+06\n",
              "std      5.079848e+05\n",
              "min      3.500000e+05\n",
              "25%      8.500000e+05\n",
              "50%      1.200000e+06\n",
              "75%      1.500000e+06\n",
              "max      3.035000e+06\n",
              "Name: harga, dtype: float64"
            ]
          },
          "metadata": {},
          "execution_count": 43
        }
      ],
      "source": [
        "data.harga.describe()"
      ]
    },
    {
      "cell_type": "code",
      "execution_count": null,
      "id": "197e668c",
      "metadata": {
        "id": "197e668c"
      },
      "outputs": [],
      "source": [
        "# normalisasi data numerik\n",
        "def standardize_attributes(df: DataFrame, col_names: [str], scaler: StandardScaler = None):\n",
        "  result_df = df.copy()\n",
        "  \n",
        "  if not scaler:\n",
        "    scaler = StandardScaler()\n",
        "    scaler.fit(result_df[col_names])\n",
        "  \n",
        "  result_df[col_names] = scaler.transform(result_df[col_names])    \n",
        "  \n",
        "  return result_df, scaler"
      ]
    },
    {
      "cell_type": "code",
      "execution_count": null,
      "id": "3a2f3d2c",
      "metadata": {
        "id": "3a2f3d2c"
      },
      "outputs": [],
      "source": [
        "numeric_cols=(list(set(data) - set(object_cols)))"
      ]
    },
    {
      "cell_type": "code",
      "execution_count": null,
      "id": "8857656e",
      "metadata": {
        "colab": {
          "base_uri": "https://localhost:8080/"
        },
        "id": "8857656e",
        "outputId": "25e8ae66-2999-479d-e67e-6d544571ca94"
      },
      "outputs": [
        {
          "output_type": "execute_result",
          "data": {
            "text/plain": [
              "['harga']"
            ]
          },
          "metadata": {},
          "execution_count": 46
        }
      ],
      "source": [
        "numeric_cols"
      ]
    },
    {
      "cell_type": "code",
      "execution_count": null,
      "id": "8d3d48d0",
      "metadata": {
        "id": "8d3d48d0"
      },
      "outputs": [],
      "source": [
        "standardized_cols = numeric_cols"
      ]
    },
    {
      "cell_type": "code",
      "execution_count": null,
      "id": "122c66a6",
      "metadata": {
        "colab": {
          "base_uri": "https://localhost:8080/"
        },
        "id": "122c66a6",
        "outputId": "46180374-308e-47d6-fa54-03addf26ec37"
      },
      "outputs": [
        {
          "output_type": "execute_result",
          "data": {
            "text/plain": [
              "['harga']"
            ]
          },
          "metadata": {},
          "execution_count": 48
        }
      ],
      "source": [
        "standardized_cols"
      ]
    },
    {
      "cell_type": "code",
      "execution_count": null,
      "id": "e974cacd",
      "metadata": {
        "id": "e974cacd"
      },
      "outputs": [],
      "source": [
        "data_preProcess, numeric_scaler = standardize_attributes(data_preProcess, standardized_cols)"
      ]
    },
    {
      "cell_type": "code",
      "execution_count": null,
      "id": "9367aaaf",
      "metadata": {
        "colab": {
          "base_uri": "https://localhost:8080/",
          "height": 424
        },
        "id": "9367aaaf",
        "outputId": "c8ba7f7f-278a-4228-90a4-2377630d8cbd"
      },
      "outputs": [
        {
          "output_type": "execute_result",
          "data": {
            "text/plain": [
              "          harga  Wifi_WiFi  AC_AC  Kloset_Duduk_KD  Kasur_Kasur  jenis_Putra  \\\n",
              "0     -0.216026          0      1                0            1            0   \n",
              "1      0.138331          1      1                0            1            0   \n",
              "2      0.847046          1      1                1            1            0   \n",
              "3      0.581278          1      1                1            1            0   \n",
              "4     -0.038848          1      1                0            1            0   \n",
              "...         ...        ...    ...              ...          ...          ...   \n",
              "10995 -1.088139          1      0                1            1            1   \n",
              "10996 -0.694409          1      0                0            1            1   \n",
              "10997 -0.891274          1      0                0            0            0   \n",
              "10998  2.453466          1      1                1            1            0   \n",
              "10999 -0.300678          0      1                1            0            0   \n",
              "\n",
              "       jenis_Putri  Kamar_Mandi_Dalam_KMD  \n",
              "0                1                      1  \n",
              "1                1                      1  \n",
              "2                1                      1  \n",
              "3                0                      1  \n",
              "4                1                      1  \n",
              "...            ...                    ...  \n",
              "10995            0                      0  \n",
              "10996            0                      0  \n",
              "10997            1                      1  \n",
              "10998            0                      1  \n",
              "10999            0                      1  \n",
              "\n",
              "[11000 rows x 8 columns]"
            ],
            "text/html": [
              "\n",
              "  <div id=\"df-33bb8aa2-2620-4715-b4d0-7fda29a22eba\">\n",
              "    <div class=\"colab-df-container\">\n",
              "      <div>\n",
              "<style scoped>\n",
              "    .dataframe tbody tr th:only-of-type {\n",
              "        vertical-align: middle;\n",
              "    }\n",
              "\n",
              "    .dataframe tbody tr th {\n",
              "        vertical-align: top;\n",
              "    }\n",
              "\n",
              "    .dataframe thead th {\n",
              "        text-align: right;\n",
              "    }\n",
              "</style>\n",
              "<table border=\"1\" class=\"dataframe\">\n",
              "  <thead>\n",
              "    <tr style=\"text-align: right;\">\n",
              "      <th></th>\n",
              "      <th>harga</th>\n",
              "      <th>Wifi_WiFi</th>\n",
              "      <th>AC_AC</th>\n",
              "      <th>Kloset_Duduk_KD</th>\n",
              "      <th>Kasur_Kasur</th>\n",
              "      <th>jenis_Putra</th>\n",
              "      <th>jenis_Putri</th>\n",
              "      <th>Kamar_Mandi_Dalam_KMD</th>\n",
              "    </tr>\n",
              "  </thead>\n",
              "  <tbody>\n",
              "    <tr>\n",
              "      <th>0</th>\n",
              "      <td>-0.216026</td>\n",
              "      <td>0</td>\n",
              "      <td>1</td>\n",
              "      <td>0</td>\n",
              "      <td>1</td>\n",
              "      <td>0</td>\n",
              "      <td>1</td>\n",
              "      <td>1</td>\n",
              "    </tr>\n",
              "    <tr>\n",
              "      <th>1</th>\n",
              "      <td>0.138331</td>\n",
              "      <td>1</td>\n",
              "      <td>1</td>\n",
              "      <td>0</td>\n",
              "      <td>1</td>\n",
              "      <td>0</td>\n",
              "      <td>1</td>\n",
              "      <td>1</td>\n",
              "    </tr>\n",
              "    <tr>\n",
              "      <th>2</th>\n",
              "      <td>0.847046</td>\n",
              "      <td>1</td>\n",
              "      <td>1</td>\n",
              "      <td>1</td>\n",
              "      <td>1</td>\n",
              "      <td>0</td>\n",
              "      <td>1</td>\n",
              "      <td>1</td>\n",
              "    </tr>\n",
              "    <tr>\n",
              "      <th>3</th>\n",
              "      <td>0.581278</td>\n",
              "      <td>1</td>\n",
              "      <td>1</td>\n",
              "      <td>1</td>\n",
              "      <td>1</td>\n",
              "      <td>0</td>\n",
              "      <td>0</td>\n",
              "      <td>1</td>\n",
              "    </tr>\n",
              "    <tr>\n",
              "      <th>4</th>\n",
              "      <td>-0.038848</td>\n",
              "      <td>1</td>\n",
              "      <td>1</td>\n",
              "      <td>0</td>\n",
              "      <td>1</td>\n",
              "      <td>0</td>\n",
              "      <td>1</td>\n",
              "      <td>1</td>\n",
              "    </tr>\n",
              "    <tr>\n",
              "      <th>...</th>\n",
              "      <td>...</td>\n",
              "      <td>...</td>\n",
              "      <td>...</td>\n",
              "      <td>...</td>\n",
              "      <td>...</td>\n",
              "      <td>...</td>\n",
              "      <td>...</td>\n",
              "      <td>...</td>\n",
              "    </tr>\n",
              "    <tr>\n",
              "      <th>10995</th>\n",
              "      <td>-1.088139</td>\n",
              "      <td>1</td>\n",
              "      <td>0</td>\n",
              "      <td>1</td>\n",
              "      <td>1</td>\n",
              "      <td>1</td>\n",
              "      <td>0</td>\n",
              "      <td>0</td>\n",
              "    </tr>\n",
              "    <tr>\n",
              "      <th>10996</th>\n",
              "      <td>-0.694409</td>\n",
              "      <td>1</td>\n",
              "      <td>0</td>\n",
              "      <td>0</td>\n",
              "      <td>1</td>\n",
              "      <td>1</td>\n",
              "      <td>0</td>\n",
              "      <td>0</td>\n",
              "    </tr>\n",
              "    <tr>\n",
              "      <th>10997</th>\n",
              "      <td>-0.891274</td>\n",
              "      <td>1</td>\n",
              "      <td>0</td>\n",
              "      <td>0</td>\n",
              "      <td>0</td>\n",
              "      <td>0</td>\n",
              "      <td>1</td>\n",
              "      <td>1</td>\n",
              "    </tr>\n",
              "    <tr>\n",
              "      <th>10998</th>\n",
              "      <td>2.453466</td>\n",
              "      <td>1</td>\n",
              "      <td>1</td>\n",
              "      <td>1</td>\n",
              "      <td>1</td>\n",
              "      <td>0</td>\n",
              "      <td>0</td>\n",
              "      <td>1</td>\n",
              "    </tr>\n",
              "    <tr>\n",
              "      <th>10999</th>\n",
              "      <td>-0.300678</td>\n",
              "      <td>0</td>\n",
              "      <td>1</td>\n",
              "      <td>1</td>\n",
              "      <td>0</td>\n",
              "      <td>0</td>\n",
              "      <td>0</td>\n",
              "      <td>1</td>\n",
              "    </tr>\n",
              "  </tbody>\n",
              "</table>\n",
              "<p>11000 rows × 8 columns</p>\n",
              "</div>\n",
              "      <button class=\"colab-df-convert\" onclick=\"convertToInteractive('df-33bb8aa2-2620-4715-b4d0-7fda29a22eba')\"\n",
              "              title=\"Convert this dataframe to an interactive table.\"\n",
              "              style=\"display:none;\">\n",
              "        \n",
              "  <svg xmlns=\"http://www.w3.org/2000/svg\" height=\"24px\"viewBox=\"0 0 24 24\"\n",
              "       width=\"24px\">\n",
              "    <path d=\"M0 0h24v24H0V0z\" fill=\"none\"/>\n",
              "    <path d=\"M18.56 5.44l.94 2.06.94-2.06 2.06-.94-2.06-.94-.94-2.06-.94 2.06-2.06.94zm-11 1L8.5 8.5l.94-2.06 2.06-.94-2.06-.94L8.5 2.5l-.94 2.06-2.06.94zm10 10l.94 2.06.94-2.06 2.06-.94-2.06-.94-.94-2.06-.94 2.06-2.06.94z\"/><path d=\"M17.41 7.96l-1.37-1.37c-.4-.4-.92-.59-1.43-.59-.52 0-1.04.2-1.43.59L10.3 9.45l-7.72 7.72c-.78.78-.78 2.05 0 2.83L4 21.41c.39.39.9.59 1.41.59.51 0 1.02-.2 1.41-.59l7.78-7.78 2.81-2.81c.8-.78.8-2.07 0-2.86zM5.41 20L4 18.59l7.72-7.72 1.47 1.35L5.41 20z\"/>\n",
              "  </svg>\n",
              "      </button>\n",
              "      \n",
              "  <style>\n",
              "    .colab-df-container {\n",
              "      display:flex;\n",
              "      flex-wrap:wrap;\n",
              "      gap: 12px;\n",
              "    }\n",
              "\n",
              "    .colab-df-convert {\n",
              "      background-color: #E8F0FE;\n",
              "      border: none;\n",
              "      border-radius: 50%;\n",
              "      cursor: pointer;\n",
              "      display: none;\n",
              "      fill: #1967D2;\n",
              "      height: 32px;\n",
              "      padding: 0 0 0 0;\n",
              "      width: 32px;\n",
              "    }\n",
              "\n",
              "    .colab-df-convert:hover {\n",
              "      background-color: #E2EBFA;\n",
              "      box-shadow: 0px 1px 2px rgba(60, 64, 67, 0.3), 0px 1px 3px 1px rgba(60, 64, 67, 0.15);\n",
              "      fill: #174EA6;\n",
              "    }\n",
              "\n",
              "    [theme=dark] .colab-df-convert {\n",
              "      background-color: #3B4455;\n",
              "      fill: #D2E3FC;\n",
              "    }\n",
              "\n",
              "    [theme=dark] .colab-df-convert:hover {\n",
              "      background-color: #434B5C;\n",
              "      box-shadow: 0px 1px 3px 1px rgba(0, 0, 0, 0.15);\n",
              "      filter: drop-shadow(0px 1px 2px rgba(0, 0, 0, 0.3));\n",
              "      fill: #FFFFFF;\n",
              "    }\n",
              "  </style>\n",
              "\n",
              "      <script>\n",
              "        const buttonEl =\n",
              "          document.querySelector('#df-33bb8aa2-2620-4715-b4d0-7fda29a22eba button.colab-df-convert');\n",
              "        buttonEl.style.display =\n",
              "          google.colab.kernel.accessAllowed ? 'block' : 'none';\n",
              "\n",
              "        async function convertToInteractive(key) {\n",
              "          const element = document.querySelector('#df-33bb8aa2-2620-4715-b4d0-7fda29a22eba');\n",
              "          const dataTable =\n",
              "            await google.colab.kernel.invokeFunction('convertToInteractive',\n",
              "                                                     [key], {});\n",
              "          if (!dataTable) return;\n",
              "\n",
              "          const docLinkHtml = 'Like what you see? Visit the ' +\n",
              "            '<a target=\"_blank\" href=https://colab.research.google.com/notebooks/data_table.ipynb>data table notebook</a>'\n",
              "            + ' to learn more about interactive tables.';\n",
              "          element.innerHTML = '';\n",
              "          dataTable['output_type'] = 'display_data';\n",
              "          await google.colab.output.renderOutput(dataTable, element);\n",
              "          const docLink = document.createElement('div');\n",
              "          docLink.innerHTML = docLinkHtml;\n",
              "          element.appendChild(docLink);\n",
              "        }\n",
              "      </script>\n",
              "    </div>\n",
              "  </div>\n",
              "  "
            ]
          },
          "metadata": {},
          "execution_count": 50
        }
      ],
      "source": [
        "data_preProcess"
      ]
    },
    {
      "cell_type": "code",
      "execution_count": null,
      "id": "a532efd6",
      "metadata": {
        "colab": {
          "base_uri": "https://localhost:8080/"
        },
        "id": "a532efd6",
        "outputId": "7f1f6f2d-7310-41ce-f29a-17257a155079"
      },
      "outputs": [
        {
          "output_type": "execute_result",
          "data": {
            "text/plain": [
              "StandardScaler()"
            ]
          },
          "metadata": {},
          "execution_count": 51
        }
      ],
      "source": [
        "prep_data, new_scaler = standardize_attributes(data, standardized_cols)\n",
        "new_scaler"
      ]
    },
    {
      "cell_type": "code",
      "execution_count": null,
      "id": "88699d5f",
      "metadata": {
        "colab": {
          "base_uri": "https://localhost:8080/"
        },
        "id": "88699d5f",
        "outputId": "f26fa753-5992-4f28-a2f2-5efda205015d"
      },
      "outputs": [
        {
          "output_type": "execute_result",
          "data": {
            "text/plain": [
              "(11000, 8)"
            ]
          },
          "metadata": {},
          "execution_count": 52
        }
      ],
      "source": [
        "prep_data = preprocess_data(data, one_hot_cols, standardized_cols, new_scaler)   # Hasil Preprocessing: prep_data\n",
        "prep_data.shape"
      ]
    },
    {
      "cell_type": "code",
      "execution_count": null,
      "id": "fd88f60b",
      "metadata": {
        "colab": {
          "base_uri": "https://localhost:8080/",
          "height": 677
        },
        "id": "fd88f60b",
        "outputId": "6b25bd7e-3af2-4465-b376-da94fae4927a"
      },
      "outputs": [
        {
          "output_type": "execute_result",
          "data": {
            "text/plain": [
              "       harga  Wifi_WiFi  AC_AC  Kloset_Duduk_KD  Kasur_Kasur  jenis_Putra  \\\n",
              "0  -0.216026          0      1                0            1            0   \n",
              "1   0.138331          1      1                0            1            0   \n",
              "2   0.847046          1      1                1            1            0   \n",
              "3   0.581278          1      1                1            1            0   \n",
              "4  -0.038848          1      1                0            1            0   \n",
              "5  -0.481794          1      0                0            1            0   \n",
              "6   0.226920          1      1                0            1            0   \n",
              "7  -0.481794          1      0                0            1            0   \n",
              "8  -0.006365          1      1                0            1            0   \n",
              "9   0.049742          0      1                0            1            0   \n",
              "10 -1.146215          1      0                0            1            1   \n",
              "11 -0.216026          0      1                0            1            0   \n",
              "12 -0.038848          1      1                0            1            1   \n",
              "13 -0.658973          0      0                0            1            0   \n",
              "14 -0.481794          1      1                0            1            0   \n",
              "15 -0.836152          1      0                0            1            0   \n",
              "16  0.581278          1      1                1            1            0   \n",
              "17 -0.216026          1      0                0            1            0   \n",
              "18 -0.827293          1      0                0            1            0   \n",
              "19 -0.836152          1      0                0            1            0   \n",
              "\n",
              "    jenis_Putri  Kamar_Mandi_Dalam_KMD  \n",
              "0             1                      1  \n",
              "1             1                      1  \n",
              "2             1                      1  \n",
              "3             0                      1  \n",
              "4             1                      1  \n",
              "5             0                      1  \n",
              "6             1                      1  \n",
              "7             1                      1  \n",
              "8             1                      1  \n",
              "9             0                      1  \n",
              "10            0                      1  \n",
              "11            1                      1  \n",
              "12            0                      1  \n",
              "13            1                      1  \n",
              "14            1                      1  \n",
              "15            1                      1  \n",
              "16            1                      1  \n",
              "17            1                      1  \n",
              "18            1                      1  \n",
              "19            1                      1  "
            ],
            "text/html": [
              "\n",
              "  <div id=\"df-df11cc25-c0d7-4958-9190-f917b35dd910\">\n",
              "    <div class=\"colab-df-container\">\n",
              "      <div>\n",
              "<style scoped>\n",
              "    .dataframe tbody tr th:only-of-type {\n",
              "        vertical-align: middle;\n",
              "    }\n",
              "\n",
              "    .dataframe tbody tr th {\n",
              "        vertical-align: top;\n",
              "    }\n",
              "\n",
              "    .dataframe thead th {\n",
              "        text-align: right;\n",
              "    }\n",
              "</style>\n",
              "<table border=\"1\" class=\"dataframe\">\n",
              "  <thead>\n",
              "    <tr style=\"text-align: right;\">\n",
              "      <th></th>\n",
              "      <th>harga</th>\n",
              "      <th>Wifi_WiFi</th>\n",
              "      <th>AC_AC</th>\n",
              "      <th>Kloset_Duduk_KD</th>\n",
              "      <th>Kasur_Kasur</th>\n",
              "      <th>jenis_Putra</th>\n",
              "      <th>jenis_Putri</th>\n",
              "      <th>Kamar_Mandi_Dalam_KMD</th>\n",
              "    </tr>\n",
              "  </thead>\n",
              "  <tbody>\n",
              "    <tr>\n",
              "      <th>0</th>\n",
              "      <td>-0.216026</td>\n",
              "      <td>0</td>\n",
              "      <td>1</td>\n",
              "      <td>0</td>\n",
              "      <td>1</td>\n",
              "      <td>0</td>\n",
              "      <td>1</td>\n",
              "      <td>1</td>\n",
              "    </tr>\n",
              "    <tr>\n",
              "      <th>1</th>\n",
              "      <td>0.138331</td>\n",
              "      <td>1</td>\n",
              "      <td>1</td>\n",
              "      <td>0</td>\n",
              "      <td>1</td>\n",
              "      <td>0</td>\n",
              "      <td>1</td>\n",
              "      <td>1</td>\n",
              "    </tr>\n",
              "    <tr>\n",
              "      <th>2</th>\n",
              "      <td>0.847046</td>\n",
              "      <td>1</td>\n",
              "      <td>1</td>\n",
              "      <td>1</td>\n",
              "      <td>1</td>\n",
              "      <td>0</td>\n",
              "      <td>1</td>\n",
              "      <td>1</td>\n",
              "    </tr>\n",
              "    <tr>\n",
              "      <th>3</th>\n",
              "      <td>0.581278</td>\n",
              "      <td>1</td>\n",
              "      <td>1</td>\n",
              "      <td>1</td>\n",
              "      <td>1</td>\n",
              "      <td>0</td>\n",
              "      <td>0</td>\n",
              "      <td>1</td>\n",
              "    </tr>\n",
              "    <tr>\n",
              "      <th>4</th>\n",
              "      <td>-0.038848</td>\n",
              "      <td>1</td>\n",
              "      <td>1</td>\n",
              "      <td>0</td>\n",
              "      <td>1</td>\n",
              "      <td>0</td>\n",
              "      <td>1</td>\n",
              "      <td>1</td>\n",
              "    </tr>\n",
              "    <tr>\n",
              "      <th>5</th>\n",
              "      <td>-0.481794</td>\n",
              "      <td>1</td>\n",
              "      <td>0</td>\n",
              "      <td>0</td>\n",
              "      <td>1</td>\n",
              "      <td>0</td>\n",
              "      <td>0</td>\n",
              "      <td>1</td>\n",
              "    </tr>\n",
              "    <tr>\n",
              "      <th>6</th>\n",
              "      <td>0.226920</td>\n",
              "      <td>1</td>\n",
              "      <td>1</td>\n",
              "      <td>0</td>\n",
              "      <td>1</td>\n",
              "      <td>0</td>\n",
              "      <td>1</td>\n",
              "      <td>1</td>\n",
              "    </tr>\n",
              "    <tr>\n",
              "      <th>7</th>\n",
              "      <td>-0.481794</td>\n",
              "      <td>1</td>\n",
              "      <td>0</td>\n",
              "      <td>0</td>\n",
              "      <td>1</td>\n",
              "      <td>0</td>\n",
              "      <td>1</td>\n",
              "      <td>1</td>\n",
              "    </tr>\n",
              "    <tr>\n",
              "      <th>8</th>\n",
              "      <td>-0.006365</td>\n",
              "      <td>1</td>\n",
              "      <td>1</td>\n",
              "      <td>0</td>\n",
              "      <td>1</td>\n",
              "      <td>0</td>\n",
              "      <td>1</td>\n",
              "      <td>1</td>\n",
              "    </tr>\n",
              "    <tr>\n",
              "      <th>9</th>\n",
              "      <td>0.049742</td>\n",
              "      <td>0</td>\n",
              "      <td>1</td>\n",
              "      <td>0</td>\n",
              "      <td>1</td>\n",
              "      <td>0</td>\n",
              "      <td>0</td>\n",
              "      <td>1</td>\n",
              "    </tr>\n",
              "    <tr>\n",
              "      <th>10</th>\n",
              "      <td>-1.146215</td>\n",
              "      <td>1</td>\n",
              "      <td>0</td>\n",
              "      <td>0</td>\n",
              "      <td>1</td>\n",
              "      <td>1</td>\n",
              "      <td>0</td>\n",
              "      <td>1</td>\n",
              "    </tr>\n",
              "    <tr>\n",
              "      <th>11</th>\n",
              "      <td>-0.216026</td>\n",
              "      <td>0</td>\n",
              "      <td>1</td>\n",
              "      <td>0</td>\n",
              "      <td>1</td>\n",
              "      <td>0</td>\n",
              "      <td>1</td>\n",
              "      <td>1</td>\n",
              "    </tr>\n",
              "    <tr>\n",
              "      <th>12</th>\n",
              "      <td>-0.038848</td>\n",
              "      <td>1</td>\n",
              "      <td>1</td>\n",
              "      <td>0</td>\n",
              "      <td>1</td>\n",
              "      <td>1</td>\n",
              "      <td>0</td>\n",
              "      <td>1</td>\n",
              "    </tr>\n",
              "    <tr>\n",
              "      <th>13</th>\n",
              "      <td>-0.658973</td>\n",
              "      <td>0</td>\n",
              "      <td>0</td>\n",
              "      <td>0</td>\n",
              "      <td>1</td>\n",
              "      <td>0</td>\n",
              "      <td>1</td>\n",
              "      <td>1</td>\n",
              "    </tr>\n",
              "    <tr>\n",
              "      <th>14</th>\n",
              "      <td>-0.481794</td>\n",
              "      <td>1</td>\n",
              "      <td>1</td>\n",
              "      <td>0</td>\n",
              "      <td>1</td>\n",
              "      <td>0</td>\n",
              "      <td>1</td>\n",
              "      <td>1</td>\n",
              "    </tr>\n",
              "    <tr>\n",
              "      <th>15</th>\n",
              "      <td>-0.836152</td>\n",
              "      <td>1</td>\n",
              "      <td>0</td>\n",
              "      <td>0</td>\n",
              "      <td>1</td>\n",
              "      <td>0</td>\n",
              "      <td>1</td>\n",
              "      <td>1</td>\n",
              "    </tr>\n",
              "    <tr>\n",
              "      <th>16</th>\n",
              "      <td>0.581278</td>\n",
              "      <td>1</td>\n",
              "      <td>1</td>\n",
              "      <td>1</td>\n",
              "      <td>1</td>\n",
              "      <td>0</td>\n",
              "      <td>1</td>\n",
              "      <td>1</td>\n",
              "    </tr>\n",
              "    <tr>\n",
              "      <th>17</th>\n",
              "      <td>-0.216026</td>\n",
              "      <td>1</td>\n",
              "      <td>0</td>\n",
              "      <td>0</td>\n",
              "      <td>1</td>\n",
              "      <td>0</td>\n",
              "      <td>1</td>\n",
              "      <td>1</td>\n",
              "    </tr>\n",
              "    <tr>\n",
              "      <th>18</th>\n",
              "      <td>-0.827293</td>\n",
              "      <td>1</td>\n",
              "      <td>0</td>\n",
              "      <td>0</td>\n",
              "      <td>1</td>\n",
              "      <td>0</td>\n",
              "      <td>1</td>\n",
              "      <td>1</td>\n",
              "    </tr>\n",
              "    <tr>\n",
              "      <th>19</th>\n",
              "      <td>-0.836152</td>\n",
              "      <td>1</td>\n",
              "      <td>0</td>\n",
              "      <td>0</td>\n",
              "      <td>1</td>\n",
              "      <td>0</td>\n",
              "      <td>1</td>\n",
              "      <td>1</td>\n",
              "    </tr>\n",
              "  </tbody>\n",
              "</table>\n",
              "</div>\n",
              "      <button class=\"colab-df-convert\" onclick=\"convertToInteractive('df-df11cc25-c0d7-4958-9190-f917b35dd910')\"\n",
              "              title=\"Convert this dataframe to an interactive table.\"\n",
              "              style=\"display:none;\">\n",
              "        \n",
              "  <svg xmlns=\"http://www.w3.org/2000/svg\" height=\"24px\"viewBox=\"0 0 24 24\"\n",
              "       width=\"24px\">\n",
              "    <path d=\"M0 0h24v24H0V0z\" fill=\"none\"/>\n",
              "    <path d=\"M18.56 5.44l.94 2.06.94-2.06 2.06-.94-2.06-.94-.94-2.06-.94 2.06-2.06.94zm-11 1L8.5 8.5l.94-2.06 2.06-.94-2.06-.94L8.5 2.5l-.94 2.06-2.06.94zm10 10l.94 2.06.94-2.06 2.06-.94-2.06-.94-.94-2.06-.94 2.06-2.06.94z\"/><path d=\"M17.41 7.96l-1.37-1.37c-.4-.4-.92-.59-1.43-.59-.52 0-1.04.2-1.43.59L10.3 9.45l-7.72 7.72c-.78.78-.78 2.05 0 2.83L4 21.41c.39.39.9.59 1.41.59.51 0 1.02-.2 1.41-.59l7.78-7.78 2.81-2.81c.8-.78.8-2.07 0-2.86zM5.41 20L4 18.59l7.72-7.72 1.47 1.35L5.41 20z\"/>\n",
              "  </svg>\n",
              "      </button>\n",
              "      \n",
              "  <style>\n",
              "    .colab-df-container {\n",
              "      display:flex;\n",
              "      flex-wrap:wrap;\n",
              "      gap: 12px;\n",
              "    }\n",
              "\n",
              "    .colab-df-convert {\n",
              "      background-color: #E8F0FE;\n",
              "      border: none;\n",
              "      border-radius: 50%;\n",
              "      cursor: pointer;\n",
              "      display: none;\n",
              "      fill: #1967D2;\n",
              "      height: 32px;\n",
              "      padding: 0 0 0 0;\n",
              "      width: 32px;\n",
              "    }\n",
              "\n",
              "    .colab-df-convert:hover {\n",
              "      background-color: #E2EBFA;\n",
              "      box-shadow: 0px 1px 2px rgba(60, 64, 67, 0.3), 0px 1px 3px 1px rgba(60, 64, 67, 0.15);\n",
              "      fill: #174EA6;\n",
              "    }\n",
              "\n",
              "    [theme=dark] .colab-df-convert {\n",
              "      background-color: #3B4455;\n",
              "      fill: #D2E3FC;\n",
              "    }\n",
              "\n",
              "    [theme=dark] .colab-df-convert:hover {\n",
              "      background-color: #434B5C;\n",
              "      box-shadow: 0px 1px 3px 1px rgba(0, 0, 0, 0.15);\n",
              "      filter: drop-shadow(0px 1px 2px rgba(0, 0, 0, 0.3));\n",
              "      fill: #FFFFFF;\n",
              "    }\n",
              "  </style>\n",
              "\n",
              "      <script>\n",
              "        const buttonEl =\n",
              "          document.querySelector('#df-df11cc25-c0d7-4958-9190-f917b35dd910 button.colab-df-convert');\n",
              "        buttonEl.style.display =\n",
              "          google.colab.kernel.accessAllowed ? 'block' : 'none';\n",
              "\n",
              "        async function convertToInteractive(key) {\n",
              "          const element = document.querySelector('#df-df11cc25-c0d7-4958-9190-f917b35dd910');\n",
              "          const dataTable =\n",
              "            await google.colab.kernel.invokeFunction('convertToInteractive',\n",
              "                                                     [key], {});\n",
              "          if (!dataTable) return;\n",
              "\n",
              "          const docLinkHtml = 'Like what you see? Visit the ' +\n",
              "            '<a target=\"_blank\" href=https://colab.research.google.com/notebooks/data_table.ipynb>data table notebook</a>'\n",
              "            + ' to learn more about interactive tables.';\n",
              "          element.innerHTML = '';\n",
              "          dataTable['output_type'] = 'display_data';\n",
              "          await google.colab.output.renderOutput(dataTable, element);\n",
              "          const docLink = document.createElement('div');\n",
              "          docLink.innerHTML = docLinkHtml;\n",
              "          element.appendChild(docLink);\n",
              "        }\n",
              "      </script>\n",
              "    </div>\n",
              "  </div>\n",
              "  "
            ]
          },
          "metadata": {},
          "execution_count": 53
        }
      ],
      "source": [
        "prep_data.head(20)"
      ]
    },
    {
      "cell_type": "code",
      "execution_count": null,
      "id": "472346a6",
      "metadata": {
        "scrolled": true,
        "colab": {
          "base_uri": "https://localhost:8080/",
          "height": 300
        },
        "id": "472346a6",
        "outputId": "192eeb60-cddf-4ec3-8e96-31769f9eb303"
      },
      "outputs": [
        {
          "output_type": "execute_result",
          "data": {
            "text/plain": [
              "              harga\n",
              "count  1.100000e+04\n",
              "mean   1.252733e+06\n",
              "std    5.079848e+05\n",
              "min    3.500000e+05\n",
              "25%    8.500000e+05\n",
              "50%    1.200000e+06\n",
              "75%    1.500000e+06\n",
              "max    3.035000e+06"
            ],
            "text/html": [
              "\n",
              "  <div id=\"df-f2cb982c-7662-4456-bf3d-1cda04f6dfd5\">\n",
              "    <div class=\"colab-df-container\">\n",
              "      <div>\n",
              "<style scoped>\n",
              "    .dataframe tbody tr th:only-of-type {\n",
              "        vertical-align: middle;\n",
              "    }\n",
              "\n",
              "    .dataframe tbody tr th {\n",
              "        vertical-align: top;\n",
              "    }\n",
              "\n",
              "    .dataframe thead th {\n",
              "        text-align: right;\n",
              "    }\n",
              "</style>\n",
              "<table border=\"1\" class=\"dataframe\">\n",
              "  <thead>\n",
              "    <tr style=\"text-align: right;\">\n",
              "      <th></th>\n",
              "      <th>harga</th>\n",
              "    </tr>\n",
              "  </thead>\n",
              "  <tbody>\n",
              "    <tr>\n",
              "      <th>count</th>\n",
              "      <td>1.100000e+04</td>\n",
              "    </tr>\n",
              "    <tr>\n",
              "      <th>mean</th>\n",
              "      <td>1.252733e+06</td>\n",
              "    </tr>\n",
              "    <tr>\n",
              "      <th>std</th>\n",
              "      <td>5.079848e+05</td>\n",
              "    </tr>\n",
              "    <tr>\n",
              "      <th>min</th>\n",
              "      <td>3.500000e+05</td>\n",
              "    </tr>\n",
              "    <tr>\n",
              "      <th>25%</th>\n",
              "      <td>8.500000e+05</td>\n",
              "    </tr>\n",
              "    <tr>\n",
              "      <th>50%</th>\n",
              "      <td>1.200000e+06</td>\n",
              "    </tr>\n",
              "    <tr>\n",
              "      <th>75%</th>\n",
              "      <td>1.500000e+06</td>\n",
              "    </tr>\n",
              "    <tr>\n",
              "      <th>max</th>\n",
              "      <td>3.035000e+06</td>\n",
              "    </tr>\n",
              "  </tbody>\n",
              "</table>\n",
              "</div>\n",
              "      <button class=\"colab-df-convert\" onclick=\"convertToInteractive('df-f2cb982c-7662-4456-bf3d-1cda04f6dfd5')\"\n",
              "              title=\"Convert this dataframe to an interactive table.\"\n",
              "              style=\"display:none;\">\n",
              "        \n",
              "  <svg xmlns=\"http://www.w3.org/2000/svg\" height=\"24px\"viewBox=\"0 0 24 24\"\n",
              "       width=\"24px\">\n",
              "    <path d=\"M0 0h24v24H0V0z\" fill=\"none\"/>\n",
              "    <path d=\"M18.56 5.44l.94 2.06.94-2.06 2.06-.94-2.06-.94-.94-2.06-.94 2.06-2.06.94zm-11 1L8.5 8.5l.94-2.06 2.06-.94-2.06-.94L8.5 2.5l-.94 2.06-2.06.94zm10 10l.94 2.06.94-2.06 2.06-.94-2.06-.94-.94-2.06-.94 2.06-2.06.94z\"/><path d=\"M17.41 7.96l-1.37-1.37c-.4-.4-.92-.59-1.43-.59-.52 0-1.04.2-1.43.59L10.3 9.45l-7.72 7.72c-.78.78-.78 2.05 0 2.83L4 21.41c.39.39.9.59 1.41.59.51 0 1.02-.2 1.41-.59l7.78-7.78 2.81-2.81c.8-.78.8-2.07 0-2.86zM5.41 20L4 18.59l7.72-7.72 1.47 1.35L5.41 20z\"/>\n",
              "  </svg>\n",
              "      </button>\n",
              "      \n",
              "  <style>\n",
              "    .colab-df-container {\n",
              "      display:flex;\n",
              "      flex-wrap:wrap;\n",
              "      gap: 12px;\n",
              "    }\n",
              "\n",
              "    .colab-df-convert {\n",
              "      background-color: #E8F0FE;\n",
              "      border: none;\n",
              "      border-radius: 50%;\n",
              "      cursor: pointer;\n",
              "      display: none;\n",
              "      fill: #1967D2;\n",
              "      height: 32px;\n",
              "      padding: 0 0 0 0;\n",
              "      width: 32px;\n",
              "    }\n",
              "\n",
              "    .colab-df-convert:hover {\n",
              "      background-color: #E2EBFA;\n",
              "      box-shadow: 0px 1px 2px rgba(60, 64, 67, 0.3), 0px 1px 3px 1px rgba(60, 64, 67, 0.15);\n",
              "      fill: #174EA6;\n",
              "    }\n",
              "\n",
              "    [theme=dark] .colab-df-convert {\n",
              "      background-color: #3B4455;\n",
              "      fill: #D2E3FC;\n",
              "    }\n",
              "\n",
              "    [theme=dark] .colab-df-convert:hover {\n",
              "      background-color: #434B5C;\n",
              "      box-shadow: 0px 1px 3px 1px rgba(0, 0, 0, 0.15);\n",
              "      filter: drop-shadow(0px 1px 2px rgba(0, 0, 0, 0.3));\n",
              "      fill: #FFFFFF;\n",
              "    }\n",
              "  </style>\n",
              "\n",
              "      <script>\n",
              "        const buttonEl =\n",
              "          document.querySelector('#df-f2cb982c-7662-4456-bf3d-1cda04f6dfd5 button.colab-df-convert');\n",
              "        buttonEl.style.display =\n",
              "          google.colab.kernel.accessAllowed ? 'block' : 'none';\n",
              "\n",
              "        async function convertToInteractive(key) {\n",
              "          const element = document.querySelector('#df-f2cb982c-7662-4456-bf3d-1cda04f6dfd5');\n",
              "          const dataTable =\n",
              "            await google.colab.kernel.invokeFunction('convertToInteractive',\n",
              "                                                     [key], {});\n",
              "          if (!dataTable) return;\n",
              "\n",
              "          const docLinkHtml = 'Like what you see? Visit the ' +\n",
              "            '<a target=\"_blank\" href=https://colab.research.google.com/notebooks/data_table.ipynb>data table notebook</a>'\n",
              "            + ' to learn more about interactive tables.';\n",
              "          element.innerHTML = '';\n",
              "          dataTable['output_type'] = 'display_data';\n",
              "          await google.colab.output.renderOutput(dataTable, element);\n",
              "          const docLink = document.createElement('div');\n",
              "          docLink.innerHTML = docLinkHtml;\n",
              "          element.appendChild(docLink);\n",
              "        }\n",
              "      </script>\n",
              "    </div>\n",
              "  </div>\n",
              "  "
            ]
          },
          "metadata": {},
          "execution_count": 54
        }
      ],
      "source": [
        "data.describe()"
      ]
    },
    {
      "cell_type": "markdown",
      "id": "29fac0cc",
      "metadata": {
        "id": "29fac0cc"
      },
      "source": [
        "Penjelasan output statistika deskriptif\n",
        "\n",
        "count = banyaknya data\n",
        "\n",
        "mean = rata2\n",
        "\n",
        "std = standar deviasi\n",
        "\n",
        "min = nilai minimum\n",
        "\n",
        "25% = artinya Kuartil ke-1\n",
        "\n",
        "50% = artinya median atau kuartil ke-2\n",
        "\n",
        "75% = artinya kuartil ke-3\n",
        "\n",
        "max = nilai maksimum"
      ]
    },
    {
      "cell_type": "code",
      "execution_count": null,
      "id": "1d9c0673",
      "metadata": {
        "scrolled": true,
        "colab": {
          "base_uri": "https://localhost:8080/",
          "height": 293
        },
        "id": "1d9c0673",
        "outputId": "3847befe-1234-42ab-fa04-42e86bac9ead"
      },
      "outputs": [
        {
          "output_type": "execute_result",
          "data": {
            "text/plain": [
              "[]"
            ]
          },
          "metadata": {},
          "execution_count": 55
        },
        {
          "output_type": "display_data",
          "data": {
            "text/plain": [
              "<Figure size 432x288 with 1 Axes>"
            ],
            "image/png": "[encoded data removed]"
          },
          "metadata": {
            "needs_background": "light"
          }
        }
      ],
      "source": [
        "#boxplot with mathplotlib, melihat outlier yang dapat terjadi\n",
        "plt.boxplot(data.harga)\n",
        "plt.plot()"
      ]
    },
    {
      "cell_type": "markdown",
      "id": "389521e4",
      "metadata": {
        "id": "389521e4"
      },
      "source": [
        "Mengatasi Outlier\n",
        "\n",
        "Setelah kita mengetahui outlier harga, selanjutnya kita akan atasi Outlier dengan menggunakan metode interquartile range (IQR). Untuk detil jelasnya, bisa dilihat di ilustrasi di bawah ini:\n",
        "\n",
        "Gunakan hasil dari pengolahan di tahap sebelumnya 'data' untuk di olah di tahap ini. Gunakan fungsi quantile() untuk melihat quantile tertentu, dan gunakan mask() untuk mereplace nilai. Tentukan:\n",
        "Nilai Minimum dan Maximum data di tolerir\n",
        "Ubah Nilai yg di luar Range Minumum & Maximum ke dalam nilai Minimum dan Maximum"
      ]
    },
    {
      "cell_type": "code",
      "execution_count": null,
      "id": "375aa73d",
      "metadata": {
        "colab": {
          "base_uri": "https://localhost:8080/"
        },
        "id": "375aa73d",
        "outputId": "27c29b78-df53-4927-d24f-6dbeaeca1a96"
      },
      "outputs": [
        {
          "output_type": "stream",
          "name": "stdout",
          "text": [
            "Nilai Maximum dari masing-masing Variable adalah: \n",
            "harga    2.406218\n",
            "dtype: float64\n",
            "\n",
            "Nilai Minimum dari masing-masing Variable adalah: \n",
            "harga   -2.712277\n",
            "dtype: float64\n",
            "\n",
            "Persebaran data setelah ditangani Outlier: \n",
            "              harga\n",
            "count  11000.000000\n",
            "mean      -0.017264\n",
            "std        0.950109\n",
            "min       -1.777168\n",
            "25%       -0.792841\n",
            "50%       -0.103813\n",
            "75%        0.486783\n",
            "max        2.406218\n"
          ]
        }
      ],
      "source": [
        "# Handling with IQR\n",
        "Q1 = (prep_data[['harga']]).quantile(0.25)\n",
        "Q3 = (prep_data[['harga']]).quantile(0.75)\n",
        "IQR = Q3 - Q1\n",
        "maximum = Q3 + (1.5*IQR)\n",
        "print('Nilai Maximum dari masing-masing Variable adalah: ')\n",
        "print(maximum)\n",
        "minimum = Q1 - (1.5*IQR)\n",
        "print('\\nNilai Minimum dari masing-masing Variable adalah: ')\n",
        "print(minimum)\n",
        "more_than = (prep_data > maximum)\n",
        "lower_than = (prep_data < minimum)\n",
        "prep_data = prep_data.mask(more_than, maximum, axis=1)\n",
        "prep_data = prep_data.mask(lower_than, minimum, axis=1)\n",
        "print('\\nPersebaran data setelah ditangani Outlier: ')\n",
        "print(prep_data[['harga']].describe())"
      ]
    },
    {
      "cell_type": "code",
      "execution_count": null,
      "id": "9cdd3c6f",
      "metadata": {
        "colab": {
          "base_uri": "https://localhost:8080/",
          "height": 620
        },
        "id": "9cdd3c6f",
        "outputId": "8e977425-35f2-4fc2-ed07-117e00185cb8"
      },
      "outputs": [
        {
          "output_type": "display_data",
          "data": {
            "text/plain": [
              "<Figure size 720x576 with 2 Axes>"
            ],
            "image/png": "[encoded data removed]"
          },
          "metadata": {
            "needs_background": "light"
          }
        }
      ],
      "source": [
        "plt.figure (figsize=(10,8))\n",
        "sns.heatmap(prep_data.corr(), annot=True, linewidth=.5, cmap= \"RdBu\")\n",
        "plt.title(\"Correlations Between Variables\", size=10)\n",
        "plt.show()"
      ]
    },
    {
      "cell_type": "code",
      "execution_count": null,
      "id": "ad1424e3",
      "metadata": {
        "colab": {
          "base_uri": "https://localhost:8080/"
        },
        "id": "ad1424e3",
        "outputId": "17f4b97b-f1b6-47b3-dea8-5bc5c50f9587"
      },
      "outputs": [
        {
          "output_type": "stream",
          "name": "stdout",
          "text": [
            "The Most Correlated Features with Harga:\n",
            "harga                    1.000000\n",
            "AC_AC                    0.691486\n",
            "Kloset_Duduk_KD          0.528171\n",
            "Kamar_Mandi_Dalam_KMD    0.246294\n",
            "Wifi_WiFi                0.217573\n",
            "Kasur_Kasur              0.070490\n",
            "jenis_Putri             -0.136998\n",
            "jenis_Putra             -0.147515\n",
            "Name: harga, dtype: float64 \n",
            "\n",
            "The Most Uncorrelated Features with Harga:\n",
            "Kamar_Mandi_Dalam_KMD    0.246294\n",
            "Wifi_WiFi                0.217573\n",
            "Kasur_Kasur              0.070490\n",
            "jenis_Putri             -0.136998\n",
            "jenis_Putra             -0.147515\n",
            "Name: harga, dtype: float64\n"
          ]
        },
        {
          "output_type": "execute_result",
          "data": {
            "text/plain": [
              "(None, None)"
            ]
          },
          "metadata": {},
          "execution_count": 58
        }
      ],
      "source": [
        "numeric_cols = prep_data.select_dtypes(include = [np.number])\n",
        "corr = numeric_cols.corr()\n",
        "print ('The Most Correlated Features with Harga:'), print (corr['harga'].sort_values(ascending = False)[:10], '\\n')\n",
        "print ('The Most Uncorrelated Features with Harga:'), print (corr['harga'].sort_values(ascending = False)[-5:])"
      ]
    },
    {
      "cell_type": "code",
      "execution_count": null,
      "id": "0d1ceb49",
      "metadata": {
        "colab": {
          "base_uri": "https://localhost:8080/",
          "height": 300
        },
        "id": "0d1ceb49",
        "outputId": "ae832ac2-4abd-43f9-eed6-9f6c168a5e02"
      },
      "outputs": [
        {
          "output_type": "execute_result",
          "data": {
            "text/plain": [
              "              harga\n",
              "count  11000.000000\n",
              "mean      -0.017264\n",
              "std        0.950109\n",
              "min       -1.777168\n",
              "25%       -0.792841\n",
              "50%       -0.103813\n",
              "75%        0.486783\n",
              "max        2.406218"
            ],
            "text/html": [
              "\n",
              "  <div id=\"df-45bc28ce-2874-45db-a5ef-f856b69c8006\">\n",
              "    <div class=\"colab-df-container\">\n",
              "      <div>\n",
              "<style scoped>\n",
              "    .dataframe tbody tr th:only-of-type {\n",
              "        vertical-align: middle;\n",
              "    }\n",
              "\n",
              "    .dataframe tbody tr th {\n",
              "        vertical-align: top;\n",
              "    }\n",
              "\n",
              "    .dataframe thead th {\n",
              "        text-align: right;\n",
              "    }\n",
              "</style>\n",
              "<table border=\"1\" class=\"dataframe\">\n",
              "  <thead>\n",
              "    <tr style=\"text-align: right;\">\n",
              "      <th></th>\n",
              "      <th>harga</th>\n",
              "    </tr>\n",
              "  </thead>\n",
              "  <tbody>\n",
              "    <tr>\n",
              "      <th>count</th>\n",
              "      <td>11000.000000</td>\n",
              "    </tr>\n",
              "    <tr>\n",
              "      <th>mean</th>\n",
              "      <td>-0.017264</td>\n",
              "    </tr>\n",
              "    <tr>\n",
              "      <th>std</th>\n",
              "      <td>0.950109</td>\n",
              "    </tr>\n",
              "    <tr>\n",
              "      <th>min</th>\n",
              "      <td>-1.777168</td>\n",
              "    </tr>\n",
              "    <tr>\n",
              "      <th>25%</th>\n",
              "      <td>-0.792841</td>\n",
              "    </tr>\n",
              "    <tr>\n",
              "      <th>50%</th>\n",
              "      <td>-0.103813</td>\n",
              "    </tr>\n",
              "    <tr>\n",
              "      <th>75%</th>\n",
              "      <td>0.486783</td>\n",
              "    </tr>\n",
              "    <tr>\n",
              "      <th>max</th>\n",
              "      <td>2.406218</td>\n",
              "    </tr>\n",
              "  </tbody>\n",
              "</table>\n",
              "</div>\n",
              "      <button class=\"colab-df-convert\" onclick=\"convertToInteractive('df-45bc28ce-2874-45db-a5ef-f856b69c8006')\"\n",
              "              title=\"Convert this dataframe to an interactive table.\"\n",
              "              style=\"display:none;\">\n",
              "        \n",
              "  <svg xmlns=\"http://www.w3.org/2000/svg\" height=\"24px\"viewBox=\"0 0 24 24\"\n",
              "       width=\"24px\">\n",
              "    <path d=\"M0 0h24v24H0V0z\" fill=\"none\"/>\n",
              "    <path d=\"M18.56 5.44l.94 2.06.94-2.06 2.06-.94-2.06-.94-.94-2.06-.94 2.06-2.06.94zm-11 1L8.5 8.5l.94-2.06 2.06-.94-2.06-.94L8.5 2.5l-.94 2.06-2.06.94zm10 10l.94 2.06.94-2.06 2.06-.94-2.06-.94-.94-2.06-.94 2.06-2.06.94z\"/><path d=\"M17.41 7.96l-1.37-1.37c-.4-.4-.92-.59-1.43-.59-.52 0-1.04.2-1.43.59L10.3 9.45l-7.72 7.72c-.78.78-.78 2.05 0 2.83L4 21.41c.39.39.9.59 1.41.59.51 0 1.02-.2 1.41-.59l7.78-7.78 2.81-2.81c.8-.78.8-2.07 0-2.86zM5.41 20L4 18.59l7.72-7.72 1.47 1.35L5.41 20z\"/>\n",
              "  </svg>\n",
              "      </button>\n",
              "      \n",
              "  <style>\n",
              "    .colab-df-container {\n",
              "      display:flex;\n",
              "      flex-wrap:wrap;\n",
              "      gap: 12px;\n",
              "    }\n",
              "\n",
              "    .colab-df-convert {\n",
              "      background-color: #E8F0FE;\n",
              "      border: none;\n",
              "      border-radius: 50%;\n",
              "      cursor: pointer;\n",
              "      display: none;\n",
              "      fill: #1967D2;\n",
              "      height: 32px;\n",
              "      padding: 0 0 0 0;\n",
              "      width: 32px;\n",
              "    }\n",
              "\n",
              "    .colab-df-convert:hover {\n",
              "      background-color: #E2EBFA;\n",
              "      box-shadow: 0px 1px 2px rgba(60, 64, 67, 0.3), 0px 1px 3px 1px rgba(60, 64, 67, 0.15);\n",
              "      fill: #174EA6;\n",
              "    }\n",
              "\n",
              "    [theme=dark] .colab-df-convert {\n",
              "      background-color: #3B4455;\n",
              "      fill: #D2E3FC;\n",
              "    }\n",
              "\n",
              "    [theme=dark] .colab-df-convert:hover {\n",
              "      background-color: #434B5C;\n",
              "      box-shadow: 0px 1px 3px 1px rgba(0, 0, 0, 0.15);\n",
              "      filter: drop-shadow(0px 1px 2px rgba(0, 0, 0, 0.3));\n",
              "      fill: #FFFFFF;\n",
              "    }\n",
              "  </style>\n",
              "\n",
              "      <script>\n",
              "        const buttonEl =\n",
              "          document.querySelector('#df-45bc28ce-2874-45db-a5ef-f856b69c8006 button.colab-df-convert');\n",
              "        buttonEl.style.display =\n",
              "          google.colab.kernel.accessAllowed ? 'block' : 'none';\n",
              "\n",
              "        async function convertToInteractive(key) {\n",
              "          const element = document.querySelector('#df-45bc28ce-2874-45db-a5ef-f856b69c8006');\n",
              "          const dataTable =\n",
              "            await google.colab.kernel.invokeFunction('convertToInteractive',\n",
              "                                                     [key], {});\n",
              "          if (!dataTable) return;\n",
              "\n",
              "          const docLinkHtml = 'Like what you see? Visit the ' +\n",
              "            '<a target=\"_blank\" href=https://colab.research.google.com/notebooks/data_table.ipynb>data table notebook</a>'\n",
              "            + ' to learn more about interactive tables.';\n",
              "          element.innerHTML = '';\n",
              "          dataTable['output_type'] = 'display_data';\n",
              "          await google.colab.output.renderOutput(dataTable, element);\n",
              "          const docLink = document.createElement('div');\n",
              "          docLink.innerHTML = docLinkHtml;\n",
              "          element.appendChild(docLink);\n",
              "        }\n",
              "      </script>\n",
              "    </div>\n",
              "  </div>\n",
              "  "
            ]
          },
          "metadata": {},
          "execution_count": 59
        }
      ],
      "source": [
        "prep_data[['harga']].describe()"
      ]
    },
    {
      "cell_type": "code",
      "execution_count": null,
      "id": "2aba7427",
      "metadata": {
        "colab": {
          "base_uri": "https://localhost:8080/"
        },
        "id": "2aba7427",
        "outputId": "c8fb8c80-0675-4543-bfa1-32e1f42b2ed6"
      },
      "outputs": [
        {
          "output_type": "stream",
          "name": "stdout",
          "text": [
            "(10601, 8)\n"
          ]
        }
      ],
      "source": [
        "data_duplicates = prep_data[prep_data.duplicated()]\n",
        "print(data_duplicates.shape)"
      ]
    },
    {
      "cell_type": "code",
      "execution_count": null,
      "id": "342c6040",
      "metadata": {
        "id": "342c6040"
      },
      "outputs": [],
      "source": [
        "#mengimplementasikan train/test\n",
        "from sklearn.model_selection import train_test_split"
      ]
    },
    {
      "cell_type": "code",
      "execution_count": null,
      "id": "1546606e",
      "metadata": {
        "id": "1546606e"
      },
      "outputs": [],
      "source": [
        "X = prep_data.drop(['harga'], axis = 1)\n",
        "y = prep_data['harga']"
      ]
    },
    {
      "cell_type": "code",
      "execution_count": null,
      "id": "fd44d808",
      "metadata": {
        "id": "fd44d808"
      },
      "outputs": [],
      "source": [
        "X_train, X_test, y_train, y_test = train_test_split(X, y, test_size=0.2)"
      ]
    },
    {
      "cell_type": "code",
      "execution_count": null,
      "id": "0a8d2284",
      "metadata": {
        "id": "0a8d2284"
      },
      "outputs": [],
      "source": [
        "# untuk mengatasi pengulangan proses hasil running yang berubah-ubah\n",
        "X_train, X_test, y_train, y_test = train_test_split(X, y, test_size=0.2, random_state=3)"
      ]
    },
    {
      "cell_type": "code",
      "execution_count": null,
      "id": "d41df049",
      "metadata": {
        "colab": {
          "base_uri": "https://localhost:8080/"
        },
        "id": "d41df049",
        "outputId": "7a355e09-9e90-4861-bbf8-fc3ce049caec"
      },
      "outputs": [
        {
          "output_type": "stream",
          "name": "stdout",
          "text": [
            "       Wifi_WiFi  AC_AC  Kloset_Duduk_KD  Kasur_Kasur  jenis_Putra  \\\n",
            "3645           0      1                1            1            0   \n",
            "3107           1      0                0            1            0   \n",
            "10391          1      0                1            1            0   \n",
            "2040           1      0                0            1            1   \n",
            "281            1      1                1            1            0   \n",
            "...          ...    ...              ...          ...          ...   \n",
            "6400           0      1                1            0            0   \n",
            "9160           1      1                0            1            0   \n",
            "9859           1      1                1            1            0   \n",
            "1688           1      1                1            1            0   \n",
            "5994           1      1                0            1            0   \n",
            "\n",
            "       jenis_Putri  Kamar_Mandi_Dalam_KMD  \n",
            "3645             0                      1  \n",
            "3107             1                      1  \n",
            "10391            1                      1  \n",
            "2040             0                      1  \n",
            "281              1                      1  \n",
            "...            ...                    ...  \n",
            "6400             1                      1  \n",
            "9160             0                      0  \n",
            "9859             1                      1  \n",
            "1688             1                      1  \n",
            "5994             1                      1  \n",
            "\n",
            "[8800 rows x 7 columns]\n"
          ]
        }
      ],
      "source": [
        "print(X_train)"
      ]
    },
    {
      "cell_type": "code",
      "execution_count": null,
      "id": "b26af1f8",
      "metadata": {
        "scrolled": false,
        "colab": {
          "base_uri": "https://localhost:8080/"
        },
        "id": "b26af1f8",
        "outputId": "0d62fd70-c472-45c5-c444-bbaa5507c020"
      },
      "outputs": [
        {
          "output_type": "stream",
          "name": "stdout",
          "text": [
            "      Wifi_WiFi  AC_AC  Kloset_Duduk_KD  Kasur_Kasur  jenis_Putra  \\\n",
            "8789          1      1                1            1            0   \n",
            "4239          1      0                1            1            1   \n",
            "5277          1      0                1            1            0   \n",
            "3910          0      1                0            1            0   \n",
            "9015          1      1                1            1            0   \n",
            "...         ...    ...              ...          ...          ...   \n",
            "4998          1      0                0            0            0   \n",
            "1983          1      1                1            1            0   \n",
            "8946          1      1                1            1            0   \n",
            "5764          0      1                1            0            0   \n",
            "506           1      0                0            1            1   \n",
            "\n",
            "      jenis_Putri  Kamar_Mandi_Dalam_KMD  \n",
            "8789            0                      1  \n",
            "4239            0                      0  \n",
            "5277            0                      1  \n",
            "3910            1                      1  \n",
            "9015            1                      1  \n",
            "...           ...                    ...  \n",
            "4998            1                      1  \n",
            "1983            1                      1  \n",
            "8946            0                      1  \n",
            "5764            1                      1  \n",
            "506             0                      0  \n",
            "\n",
            "[2200 rows x 7 columns]\n"
          ]
        }
      ],
      "source": [
        "print(X_test)"
      ]
    },
    {
      "cell_type": "markdown",
      "id": "f2ee281a",
      "metadata": {
        "id": "f2ee281a"
      },
      "source": [
        "# Random Forest"
      ]
    },
    {
      "cell_type": "code",
      "execution_count": null,
      "id": "bce57807",
      "metadata": {
        "id": "bce57807"
      },
      "outputs": [],
      "source": [
        "from sklearn.ensemble import RandomForestRegressor\n",
        "from sklearn import metrics\n",
        "from sklearn.metrics import mean_absolute_error, r2_score\n",
        "from sklearn.model_selection import cross_val_score\n",
        "import pickle"
      ]
    },
    {
      "cell_type": "code",
      "source": [
        "scaler= StandardScaler()\n",
        "scaler.fit(X_train)\n",
        "X_train_scaled= scaler.transform(X_train)\n",
        "X_test_scaled= scaler.transform(X_test)"
      ],
      "metadata": {
        "id": "nZHc_p-2xBtJ"
      },
      "id": "nZHc_p-2xBtJ",
      "execution_count": null,
      "outputs": []
    },
    {
      "cell_type": "code",
      "execution_count": null,
      "id": "9d1ee613",
      "metadata": {
        "id": "9d1ee613"
      },
      "outputs": [],
      "source": [
        "forest_reg_model =RandomForestRegressor(n_estimators = 64, random_state = 32, max_depth = 20,)\n",
        "forest_reg_model.fit(X_train_scaled, y_train);"
      ]
    },
    {
      "cell_type": "code",
      "execution_count": null,
      "id": "69ef6906",
      "metadata": {
        "colab": {
          "base_uri": "https://localhost:8080/",
          "height": 143
        },
        "id": "69ef6906",
        "outputId": "34069593-1990-46d5-ad87-8585b7c00004"
      },
      "outputs": [
        {
          "output_type": "execute_result",
          "data": {
            "text/plain": [
              "                  Metrics\n",
              "MAE_forest_reg   0.408251\n",
              "MSE_forest_reg   0.296433\n",
              "RMSE_forest_reg  0.544457"
            ],
            "text/html": [
              "\n",
              "  <div id=\"df-4006f596-1667-4477-b75b-c85b25c6d1de\">\n",
              "    <div class=\"colab-df-container\">\n",
              "      <div>\n",
              "<style scoped>\n",
              "    .dataframe tbody tr th:only-of-type {\n",
              "        vertical-align: middle;\n",
              "    }\n",
              "\n",
              "    .dataframe tbody tr th {\n",
              "        vertical-align: top;\n",
              "    }\n",
              "\n",
              "    .dataframe thead th {\n",
              "        text-align: right;\n",
              "    }\n",
              "</style>\n",
              "<table border=\"1\" class=\"dataframe\">\n",
              "  <thead>\n",
              "    <tr style=\"text-align: right;\">\n",
              "      <th></th>\n",
              "      <th>Metrics</th>\n",
              "    </tr>\n",
              "  </thead>\n",
              "  <tbody>\n",
              "    <tr>\n",
              "      <th>MAE_forest_reg</th>\n",
              "      <td>0.408251</td>\n",
              "    </tr>\n",
              "    <tr>\n",
              "      <th>MSE_forest_reg</th>\n",
              "      <td>0.296433</td>\n",
              "    </tr>\n",
              "    <tr>\n",
              "      <th>RMSE_forest_reg</th>\n",
              "      <td>0.544457</td>\n",
              "    </tr>\n",
              "  </tbody>\n",
              "</table>\n",
              "</div>\n",
              "      <button class=\"colab-df-convert\" onclick=\"convertToInteractive('df-4006f596-1667-4477-b75b-c85b25c6d1de')\"\n",
              "              title=\"Convert this dataframe to an interactive table.\"\n",
              "              style=\"display:none;\">\n",
              "        \n",
              "  <svg xmlns=\"http://www.w3.org/2000/svg\" height=\"24px\"viewBox=\"0 0 24 24\"\n",
              "       width=\"24px\">\n",
              "    <path d=\"M0 0h24v24H0V0z\" fill=\"none\"/>\n",
              "    <path d=\"M18.56 5.44l.94 2.06.94-2.06 2.06-.94-2.06-.94-.94-2.06-.94 2.06-2.06.94zm-11 1L8.5 8.5l.94-2.06 2.06-.94-2.06-.94L8.5 2.5l-.94 2.06-2.06.94zm10 10l.94 2.06.94-2.06 2.06-.94-2.06-.94-.94-2.06-.94 2.06-2.06.94z\"/><path d=\"M17.41 7.96l-1.37-1.37c-.4-.4-.92-.59-1.43-.59-.52 0-1.04.2-1.43.59L10.3 9.45l-7.72 7.72c-.78.78-.78 2.05 0 2.83L4 21.41c.39.39.9.59 1.41.59.51 0 1.02-.2 1.41-.59l7.78-7.78 2.81-2.81c.8-.78.8-2.07 0-2.86zM5.41 20L4 18.59l7.72-7.72 1.47 1.35L5.41 20z\"/>\n",
              "  </svg>\n",
              "      </button>\n",
              "      \n",
              "  <style>\n",
              "    .colab-df-container {\n",
              "      display:flex;\n",
              "      flex-wrap:wrap;\n",
              "      gap: 12px;\n",
              "    }\n",
              "\n",
              "    .colab-df-convert {\n",
              "      background-color: #E8F0FE;\n",
              "      border: none;\n",
              "      border-radius: 50%;\n",
              "      cursor: pointer;\n",
              "      display: none;\n",
              "      fill: #1967D2;\n",
              "      height: 32px;\n",
              "      padding: 0 0 0 0;\n",
              "      width: 32px;\n",
              "    }\n",
              "\n",
              "    .colab-df-convert:hover {\n",
              "      background-color: #E2EBFA;\n",
              "      box-shadow: 0px 1px 2px rgba(60, 64, 67, 0.3), 0px 1px 3px 1px rgba(60, 64, 67, 0.15);\n",
              "      fill: #174EA6;\n",
              "    }\n",
              "\n",
              "    [theme=dark] .colab-df-convert {\n",
              "      background-color: #3B4455;\n",
              "      fill: #D2E3FC;\n",
              "    }\n",
              "\n",
              "    [theme=dark] .colab-df-convert:hover {\n",
              "      background-color: #434B5C;\n",
              "      box-shadow: 0px 1px 3px 1px rgba(0, 0, 0, 0.15);\n",
              "      filter: drop-shadow(0px 1px 2px rgba(0, 0, 0, 0.3));\n",
              "      fill: #FFFFFF;\n",
              "    }\n",
              "  </style>\n",
              "\n",
              "      <script>\n",
              "        const buttonEl =\n",
              "          document.querySelector('#df-4006f596-1667-4477-b75b-c85b25c6d1de button.colab-df-convert');\n",
              "        buttonEl.style.display =\n",
              "          google.colab.kernel.accessAllowed ? 'block' : 'none';\n",
              "\n",
              "        async function convertToInteractive(key) {\n",
              "          const element = document.querySelector('#df-4006f596-1667-4477-b75b-c85b25c6d1de');\n",
              "          const dataTable =\n",
              "            await google.colab.kernel.invokeFunction('convertToInteractive',\n",
              "                                                     [key], {});\n",
              "          if (!dataTable) return;\n",
              "\n",
              "          const docLinkHtml = 'Like what you see? Visit the ' +\n",
              "            '<a target=\"_blank\" href=https://colab.research.google.com/notebooks/data_table.ipynb>data table notebook</a>'\n",
              "            + ' to learn more about interactive tables.';\n",
              "          element.innerHTML = '';\n",
              "          dataTable['output_type'] = 'display_data';\n",
              "          await google.colab.output.renderOutput(dataTable, element);\n",
              "          const docLink = document.createElement('div');\n",
              "          docLink.innerHTML = docLinkHtml;\n",
              "          element.appendChild(docLink);\n",
              "        }\n",
              "      </script>\n",
              "    </div>\n",
              "  </div>\n",
              "  "
            ]
          },
          "metadata": {},
          "execution_count": 103
        }
      ],
      "source": [
        "y_pred = forest_reg_model.predict(X_test_scaled)\n",
        "y_pred = pd.DataFrame(y_pred)\n",
        "MAE_forest_reg= metrics.mean_absolute_error(y_test, y_pred)\n",
        "MSE_forest_reg = metrics.mean_squared_error(y_test, y_pred)\n",
        "RMSE_forest_reg =np.sqrt(MSE_forest_reg)\n",
        "pd.DataFrame([MAE_forest_reg, MSE_forest_reg, RMSE_forest_reg], \n",
        "    index=['MAE_forest_reg', 'MSE_forest_reg', 'RMSE_forest_reg'], columns=['Metrics'])"
      ]
    },
    {
      "cell_type": "code",
      "execution_count": null,
      "id": "495b66bc",
      "metadata": {
        "colab": {
          "base_uri": "https://localhost:8080/"
        },
        "id": "495b66bc",
        "outputId": "3d5212ab-266a-49a6-b5ae-62608a86e2a6"
      },
      "outputs": [
        {
          "output_type": "stream",
          "name": "stdout",
          "text": [
            "[0.80787854 0.82361728 0.82208194 0.83177699 0.82580809]\n"
          ]
        }
      ],
      "source": [
        "scores = cross_val_score(forest_reg_model, X_train_scaled, y_train, cv=5)\n",
        "print(np.sqrt(scores))"
      ]
    },
    {
      "cell_type": "code",
      "execution_count": null,
      "id": "cdb95c81",
      "metadata": {
        "colab": {
          "base_uri": "https://localhost:8080/"
        },
        "id": "cdb95c81",
        "outputId": "04435dc0-4e92-4092-a51d-a9357fd4686f"
      },
      "outputs": [
        {
          "output_type": "execute_result",
          "data": {
            "text/plain": [
              "0.6716449987432715"
            ]
          },
          "metadata": {},
          "execution_count": 105
        }
      ],
      "source": [
        "r2_score(y_test, forest_reg_model.predict(X_test_scaled))"
      ]
    },
    {
      "cell_type": "code",
      "execution_count": null,
      "id": "6be663a2",
      "metadata": {
        "colab": {
          "base_uri": "https://localhost:8080/"
        },
        "id": "6be663a2",
        "outputId": "02e2cdf3-f477-4c2c-a127-fa4d0b5cf887"
      },
      "outputs": [
        {
          "output_type": "stream",
          "name": "stdout",
          "text": [
            "1554613.149900678\n"
          ]
        }
      ],
      "source": [
        "res = forest_reg_model.predict([[0, 1, 1, 1, 1, 1, 1]])\n",
        "print(numeric_scaler.inverse_transform([res])[0][0])"
      ]
    },
    {
      "cell_type": "code",
      "source": [
        "res = forest_reg_model.predict([[0, 1, 0, 1, 1, 1, 1]])\n",
        "print(numeric_scaler.inverse_transform([res])[0][0])"
      ],
      "metadata": {
        "colab": {
          "base_uri": "https://localhost:8080/"
        },
        "id": "-r6qFZw27zhI",
        "outputId": "c77041cc-fa0b-47fa-fbad-d3417276a981"
      },
      "id": "-r6qFZw27zhI",
      "execution_count": null,
      "outputs": [
        {
          "output_type": "stream",
          "name": "stdout",
          "text": [
            "1554613.149900678\n"
          ]
        }
      ]
    },
    {
      "cell_type": "code",
      "source": [
        "res = forest_reg_model.predict([[0, 1, 0, 1, 0, 1, 1]])\n",
        "print(numeric_scaler.inverse_transform([res])[0][0])"
      ],
      "metadata": {
        "colab": {
          "base_uri": "https://localhost:8080/"
        },
        "id": "EtBLw4b-74Lo",
        "outputId": "b9c89636-ee65-4e31-bed3-a404a91a1d9d"
      },
      "id": "EtBLw4b-74Lo",
      "execution_count": null,
      "outputs": [
        {
          "output_type": "stream",
          "name": "stdout",
          "text": [
            "1554613.149900678\n"
          ]
        }
      ]
    },
    {
      "cell_type": "code",
      "source": [
        "res = forest_reg_model.predict([[0, 0, 0, 0, 1, 0, 0]])\n",
        "print(numeric_scaler.inverse_transform([res])[0][0])"
      ],
      "metadata": {
        "colab": {
          "base_uri": "https://localhost:8080/"
        },
        "id": "XKZUBH4X77_o",
        "outputId": "9ef1073d-4992-4dec-829f-42b8f60f07f5"
      },
      "id": "XKZUBH4X77_o",
      "execution_count": null,
      "outputs": [
        {
          "output_type": "stream",
          "name": "stdout",
          "text": [
            "1509990.0779487886\n"
          ]
        }
      ]
    },
    {
      "cell_type": "code",
      "source": [
        "pickle.dump(forest_reg_model, open('model.pkl','wb'))"
      ],
      "metadata": {
        "id": "dGEh9UpgCMlf"
      },
      "id": "dGEh9UpgCMlf",
      "execution_count": null,
      "outputs": []
    },
    {
      "cell_type": "code",
      "source": [
        "scalerfile = 'scaler.sav'\n",
        "pickle.dump(numeric_scaler, open(scalerfile, 'wb'))"
      ],
      "metadata": {
        "id": "BDHVMsT0JD89"
      },
      "id": "BDHVMsT0JD89",
      "execution_count": null,
      "outputs": []
    }
  ],
  "metadata": {
    "kernelspec": {
      "display_name": "Python 3 (ipykernel)",
      "language": "python",
      "name": "python3"
    },
    "language_info": {
      "codemirror_mode": {
        "name": "ipython",
        "version": 3
      },
      "file_extension": ".py",
      "mimetype": "text/x-python",
      "name": "python",
      "nbconvert_exporter": "python",
      "pygments_lexer": "ipython3",
      "version": "3.10.5"
    },
    "colab": {
      "provenance": []
    }
  },
  "nbformat": 4,
  "nbformat_minor": 5
}