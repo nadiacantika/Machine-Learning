{
 "cells": [
  {
   "cell_type": "code",
   "execution_count": 1,
   "id": "4aa5a049",
   "metadata": {},
   "outputs": [],
   "source": [
    "import pandas as pd\n",
    "import numpy as np\n",
    "import seaborn as sns\n",
    "\n",
    "import matplotlib.pyplot as plt\n",
    "from sklearn.preprocessing import StandardScaler\n",
    "from sklearn.model_selection import train_test_split,GridSearchCV\n",
    "from sklearn.metrics import accuracy_score, confusion_matrix\n",
    "\n",
    "\n",
    "import warnings\n",
    "warnings.filterwarnings('ignore')"
   ]
  },
  {
   "cell_type": "code",
   "execution_count": 2,
   "id": "2a028d37",
   "metadata": {},
   "outputs": [],
   "source": [
    "data=pd.read_csv(\"DatasetMamikosMachineLearning.csv\")"
   ]
  },
  {
   "cell_type": "code",
   "execution_count": 3,
   "id": "91827fb7",
   "metadata": {},
   "outputs": [
    {
     "data": {
      "text/html": [
       "<div>\n",
       "<style scoped>\n",
       "    .dataframe tbody tr th:only-of-type {\n",
       "        vertical-align: middle;\n",
       "    }\n",
       "\n",
       "    .dataframe tbody tr th {\n",
       "        vertical-align: top;\n",
       "    }\n",
       "\n",
       "    .dataframe thead th {\n",
       "        text-align: right;\n",
       "    }\n",
       "</style>\n",
       "<table border=\"1\" class=\"dataframe\">\n",
       "  <thead>\n",
       "    <tr style=\"text-align: right;\">\n",
       "      <th></th>\n",
       "      <th>nama</th>\n",
       "      <th>harga</th>\n",
       "      <th>rating</th>\n",
       "      <th>jenis</th>\n",
       "      <th>Kamar Mandi Dalam</th>\n",
       "      <th>Wifi</th>\n",
       "      <th>AC</th>\n",
       "      <th>Kloset Duduk</th>\n",
       "      <th>Kasur</th>\n",
       "    </tr>\n",
       "  </thead>\n",
       "  <tbody>\n",
       "    <tr>\n",
       "      <th>0</th>\n",
       "      <td>Kost Apik Aisyah Kukusan Tipe A  Beji Depok</td>\n",
       "      <td>1143000</td>\n",
       "      <td></td>\n",
       "      <td>Putri</td>\n",
       "      <td>KMD</td>\n",
       "      <td>NaN</td>\n",
       "      <td>AC</td>\n",
       "      <td>NaN</td>\n",
       "      <td>Kasur</td>\n",
       "    </tr>\n",
       "    <tr>\n",
       "      <th>1</th>\n",
       "      <td>Kost Apik UI Puspita  Tipe A Kukusan Beji Depok</td>\n",
       "      <td>1323000</td>\n",
       "      <td></td>\n",
       "      <td>Putri</td>\n",
       "      <td>KMD</td>\n",
       "      <td>WiFi</td>\n",
       "      <td>AC</td>\n",
       "      <td>NaN</td>\n",
       "      <td>Kasur</td>\n",
       "    </tr>\n",
       "    <tr>\n",
       "      <th>2</th>\n",
       "      <td>Kost Singgahsini Alhidayah EMH-4 Tipe A  Beji ...</td>\n",
       "      <td>1683000</td>\n",
       "      <td></td>\n",
       "      <td>Putri</td>\n",
       "      <td>KMD</td>\n",
       "      <td>WiFi</td>\n",
       "      <td>AC</td>\n",
       "      <td>KD</td>\n",
       "      <td>Kasur</td>\n",
       "    </tr>\n",
       "    <tr>\n",
       "      <th>3</th>\n",
       "      <td>Kost Apik Duta Residence Tipe A Sukmajaya Depok</td>\n",
       "      <td>1548000</td>\n",
       "      <td></td>\n",
       "      <td>Campur</td>\n",
       "      <td>KMD</td>\n",
       "      <td>WiFi</td>\n",
       "      <td>AC</td>\n",
       "      <td>KD</td>\n",
       "      <td>Kasur</td>\n",
       "    </tr>\n",
       "    <tr>\n",
       "      <th>4</th>\n",
       "      <td>Kost Apik UI Puspita  Tipe B Kukusan Beji Depok</td>\n",
       "      <td>1233000</td>\n",
       "      <td></td>\n",
       "      <td>Putri</td>\n",
       "      <td>KMD</td>\n",
       "      <td>WiFi</td>\n",
       "      <td>AC</td>\n",
       "      <td>NaN</td>\n",
       "      <td>Kasur</td>\n",
       "    </tr>\n",
       "  </tbody>\n",
       "</table>\n",
       "</div>"
      ],
      "text/plain": [
       "                                                nama    harga  rating   \\\n",
       "0        Kost Apik Aisyah Kukusan Tipe A  Beji Depok  1143000            \n",
       "1    Kost Apik UI Puspita  Tipe A Kukusan Beji Depok  1323000            \n",
       "2  Kost Singgahsini Alhidayah EMH-4 Tipe A  Beji ...  1683000            \n",
       "3    Kost Apik Duta Residence Tipe A Sukmajaya Depok  1548000            \n",
       "4    Kost Apik UI Puspita  Tipe B Kukusan Beji Depok  1233000            \n",
       "\n",
       "    jenis Kamar Mandi Dalam  Wifi  AC Kloset Duduk  Kasur  \n",
       "0   Putri               KMD   NaN  AC          NaN  Kasur  \n",
       "1   Putri               KMD  WiFi  AC          NaN  Kasur  \n",
       "2   Putri               KMD  WiFi  AC           KD  Kasur  \n",
       "3  Campur               KMD  WiFi  AC           KD  Kasur  \n",
       "4   Putri               KMD  WiFi  AC          NaN  Kasur  "
      ]
     },
     "execution_count": 3,
     "metadata": {},
     "output_type": "execute_result"
    }
   ],
   "source": [
    "data.head()"
   ]
  },
  {
   "cell_type": "code",
   "execution_count": 4,
   "id": "07b3e088",
   "metadata": {},
   "outputs": [
    {
     "data": {
      "text/html": [
       "<div>\n",
       "<style scoped>\n",
       "    .dataframe tbody tr th:only-of-type {\n",
       "        vertical-align: middle;\n",
       "    }\n",
       "\n",
       "    .dataframe tbody tr th {\n",
       "        vertical-align: top;\n",
       "    }\n",
       "\n",
       "    .dataframe thead th {\n",
       "        text-align: right;\n",
       "    }\n",
       "</style>\n",
       "<table border=\"1\" class=\"dataframe\">\n",
       "  <thead>\n",
       "    <tr style=\"text-align: right;\">\n",
       "      <th></th>\n",
       "      <th>nama</th>\n",
       "      <th>harga</th>\n",
       "      <th>rating</th>\n",
       "      <th>jenis</th>\n",
       "      <th>Kamar Mandi Dalam</th>\n",
       "      <th>Wifi</th>\n",
       "      <th>AC</th>\n",
       "      <th>Kloset Duduk</th>\n",
       "      <th>Kasur</th>\n",
       "    </tr>\n",
       "  </thead>\n",
       "  <tbody>\n",
       "    <tr>\n",
       "      <th>10995</th>\n",
       "      <td>Kost Va Tipe A1 Jagakarsa Jakarta Selatan</td>\n",
       "      <td>700000</td>\n",
       "      <td></td>\n",
       "      <td>Putra</td>\n",
       "      <td>NaN</td>\n",
       "      <td>WiFi</td>\n",
       "      <td>NaN</td>\n",
       "      <td>KD</td>\n",
       "      <td>Kasur</td>\n",
       "    </tr>\n",
       "    <tr>\n",
       "      <th>10996</th>\n",
       "      <td>Kost Pondok Katama Tipe B Beji Depok</td>\n",
       "      <td>900000</td>\n",
       "      <td></td>\n",
       "      <td>Putra</td>\n",
       "      <td>NaN</td>\n",
       "      <td>WiFi</td>\n",
       "      <td>NaN</td>\n",
       "      <td>NaN</td>\n",
       "      <td>Kasur</td>\n",
       "    </tr>\n",
       "    <tr>\n",
       "      <th>10997</th>\n",
       "      <td>Kost Wisma Violet Beji Depok</td>\n",
       "      <td>800000</td>\n",
       "      <td></td>\n",
       "      <td>Putri</td>\n",
       "      <td>KMD</td>\n",
       "      <td>WiFi</td>\n",
       "      <td>NaN</td>\n",
       "      <td>NaN</td>\n",
       "      <td>NaN</td>\n",
       "    </tr>\n",
       "    <tr>\n",
       "      <th>10998</th>\n",
       "      <td>Kost Eksklusif Mara Juara Tipe Large Bedroom B...</td>\n",
       "      <td>2499000</td>\n",
       "      <td></td>\n",
       "      <td>Campur</td>\n",
       "      <td>KMD</td>\n",
       "      <td>WiFi</td>\n",
       "      <td>AC</td>\n",
       "      <td>KD</td>\n",
       "      <td>Kasur</td>\n",
       "    </tr>\n",
       "    <tr>\n",
       "      <th>10999</th>\n",
       "      <td>Kost Giyan Exclusive Tipe Reguler Beji Depok</td>\n",
       "      <td>1100000</td>\n",
       "      <td></td>\n",
       "      <td>Campur</td>\n",
       "      <td>KMD</td>\n",
       "      <td>NaN</td>\n",
       "      <td>AC</td>\n",
       "      <td>KD</td>\n",
       "      <td>NaN</td>\n",
       "    </tr>\n",
       "  </tbody>\n",
       "</table>\n",
       "</div>"
      ],
      "text/plain": [
       "                                                    nama    harga  rating   \\\n",
       "10995          Kost Va Tipe A1 Jagakarsa Jakarta Selatan   700000            \n",
       "10996               Kost Pondok Katama Tipe B Beji Depok   900000            \n",
       "10997                       Kost Wisma Violet Beji Depok   800000            \n",
       "10998  Kost Eksklusif Mara Juara Tipe Large Bedroom B...  2499000            \n",
       "10999       Kost Giyan Exclusive Tipe Reguler Beji Depok  1100000            \n",
       "\n",
       "        jenis Kamar Mandi Dalam  Wifi   AC Kloset Duduk  Kasur  \n",
       "10995   Putra               NaN  WiFi  NaN           KD  Kasur  \n",
       "10996   Putra               NaN  WiFi  NaN          NaN  Kasur  \n",
       "10997   Putri               KMD  WiFi  NaN          NaN    NaN  \n",
       "10998  Campur               KMD  WiFi   AC           KD  Kasur  \n",
       "10999  Campur               KMD   NaN   AC           KD    NaN  "
      ]
     },
     "execution_count": 4,
     "metadata": {},
     "output_type": "execute_result"
    }
   ],
   "source": [
    "data.tail()"
   ]
  },
  {
   "cell_type": "code",
   "execution_count": 5,
   "id": "205849d4",
   "metadata": {},
   "outputs": [
    {
     "name": "stdout",
     "output_type": "stream",
     "text": [
      "<class 'pandas.core.frame.DataFrame'>\n",
      "RangeIndex: 11000 entries, 0 to 10999\n",
      "Data columns (total 9 columns):\n",
      " #   Column             Non-Null Count  Dtype \n",
      "---  ------             --------------  ----- \n",
      " 0   nama               11000 non-null  object\n",
      " 1   harga              11000 non-null  int64 \n",
      " 2    rating            11000 non-null  object\n",
      " 3   jenis              11000 non-null  object\n",
      " 4   Kamar Mandi Dalam  9976 non-null   object\n",
      " 5   Wifi               8118 non-null   object\n",
      " 6   AC                 5816 non-null   object\n",
      " 7   Kloset Duduk       7182 non-null   object\n",
      " 8   Kasur              10702 non-null  object\n",
      "dtypes: int64(1), object(8)\n",
      "memory usage: 773.6+ KB\n"
     ]
    }
   ],
   "source": [
    "data.info()"
   ]
  },
  {
   "cell_type": "code",
   "execution_count": 6,
   "id": "e28e16f8",
   "metadata": {},
   "outputs": [
    {
     "data": {
      "text/plain": [
       "(11000, 9)"
      ]
     },
     "execution_count": 6,
     "metadata": {},
     "output_type": "execute_result"
    }
   ],
   "source": [
    "data.shape"
   ]
  },
  {
   "cell_type": "code",
   "execution_count": 7,
   "id": "d7bd4b8b",
   "metadata": {},
   "outputs": [
    {
     "data": {
      "text/plain": [
       "nama                    0\n",
       "harga                   0\n",
       " rating                 0\n",
       "jenis                   0\n",
       "Kamar Mandi Dalam    1024\n",
       "Wifi                 2882\n",
       "AC                   5184\n",
       "Kloset Duduk         3818\n",
       "Kasur                 298\n",
       "dtype: int64"
      ]
     },
     "execution_count": 7,
     "metadata": {},
     "output_type": "execute_result"
    }
   ],
   "source": [
    "# mencari data kosong\n",
    "data.isnull().sum()"
   ]
  },
  {
   "cell_type": "code",
   "execution_count": 8,
   "id": "920a1b20",
   "metadata": {},
   "outputs": [],
   "source": [
    "## mengisi nilai kosong dengan \"0\" pada data\n",
    "data.fillna('0',axis=0,inplace=True)"
   ]
  },
  {
   "cell_type": "code",
   "execution_count": 9,
   "id": "b1432c85",
   "metadata": {},
   "outputs": [
    {
     "data": {
      "text/plain": [
       "nama                 object\n",
       "harga                 int64\n",
       " rating              object\n",
       "jenis                object\n",
       "Kamar Mandi Dalam    object\n",
       "Wifi                 object\n",
       "AC                   object\n",
       "Kloset Duduk         object\n",
       "Kasur                object\n",
       "dtype: object"
      ]
     },
     "execution_count": 9,
     "metadata": {},
     "output_type": "execute_result"
    }
   ],
   "source": [
    "# menampilkan tipe data\n",
    "data.dtypes"
   ]
  },
  {
   "cell_type": "code",
   "execution_count": 10,
   "id": "9b6d1c94",
   "metadata": {},
   "outputs": [
    {
     "data": {
      "text/plain": [
       "<function matplotlib.pyplot.show(close=None, block=None)>"
      ]
     },
     "execution_count": 10,
     "metadata": {},
     "output_type": "execute_result"
    },
    {
     "data": {
      "image/png": "[encoded data removed]",
      "text/plain": [
       "<Figure size 1800x720 with 3 Axes>"
      ]
     },
     "metadata": {
      "needs_background": "light"
     },
     "output_type": "display_data"
    }
   ],
   "source": [
    "import missingno as msno\n",
    "msno.bar(data)\n",
    "plt.show"
   ]
  },
  {
   "cell_type": "code",
   "execution_count": 11,
   "id": "08ad946f",
   "metadata": {},
   "outputs": [
    {
     "data": {
      "text/plain": [
       "nama                 0\n",
       "harga                0\n",
       " rating              0\n",
       "jenis                0\n",
       "Kamar Mandi Dalam    0\n",
       "Wifi                 0\n",
       "AC                   0\n",
       "Kloset Duduk         0\n",
       "Kasur                0\n",
       "dtype: int64"
      ]
     },
     "execution_count": 11,
     "metadata": {},
     "output_type": "execute_result"
    }
   ],
   "source": [
    "# mencari data kosong\n",
    "data.isnull().sum()"
   ]
  },
  {
   "cell_type": "code",
   "execution_count": 12,
   "id": "66da7667",
   "metadata": {},
   "outputs": [
    {
     "data": {
      "text/html": [
       "<div>\n",
       "<style scoped>\n",
       "    .dataframe tbody tr th:only-of-type {\n",
       "        vertical-align: middle;\n",
       "    }\n",
       "\n",
       "    .dataframe tbody tr th {\n",
       "        vertical-align: top;\n",
       "    }\n",
       "\n",
       "    .dataframe thead th {\n",
       "        text-align: right;\n",
       "    }\n",
       "</style>\n",
       "<table border=\"1\" class=\"dataframe\">\n",
       "  <thead>\n",
       "    <tr style=\"text-align: right;\">\n",
       "      <th></th>\n",
       "      <th>nama</th>\n",
       "      <th>harga</th>\n",
       "      <th>rating</th>\n",
       "      <th>jenis</th>\n",
       "      <th>Kamar Mandi Dalam</th>\n",
       "      <th>Wifi</th>\n",
       "      <th>AC</th>\n",
       "      <th>Kloset Duduk</th>\n",
       "      <th>Kasur</th>\n",
       "    </tr>\n",
       "  </thead>\n",
       "  <tbody>\n",
       "    <tr>\n",
       "      <th>0</th>\n",
       "      <td>Kost Apik Aisyah Kukusan Tipe A  Beji Depok</td>\n",
       "      <td>1143000</td>\n",
       "      <td></td>\n",
       "      <td>Putri</td>\n",
       "      <td>KMD</td>\n",
       "      <td>0</td>\n",
       "      <td>AC</td>\n",
       "      <td>0</td>\n",
       "      <td>Kasur</td>\n",
       "    </tr>\n",
       "    <tr>\n",
       "      <th>1</th>\n",
       "      <td>Kost Apik UI Puspita  Tipe A Kukusan Beji Depok</td>\n",
       "      <td>1323000</td>\n",
       "      <td></td>\n",
       "      <td>Putri</td>\n",
       "      <td>KMD</td>\n",
       "      <td>WiFi</td>\n",
       "      <td>AC</td>\n",
       "      <td>0</td>\n",
       "      <td>Kasur</td>\n",
       "    </tr>\n",
       "    <tr>\n",
       "      <th>2</th>\n",
       "      <td>Kost Singgahsini Alhidayah EMH-4 Tipe A  Beji ...</td>\n",
       "      <td>1683000</td>\n",
       "      <td></td>\n",
       "      <td>Putri</td>\n",
       "      <td>KMD</td>\n",
       "      <td>WiFi</td>\n",
       "      <td>AC</td>\n",
       "      <td>KD</td>\n",
       "      <td>Kasur</td>\n",
       "    </tr>\n",
       "    <tr>\n",
       "      <th>3</th>\n",
       "      <td>Kost Apik Duta Residence Tipe A Sukmajaya Depok</td>\n",
       "      <td>1548000</td>\n",
       "      <td></td>\n",
       "      <td>Campur</td>\n",
       "      <td>KMD</td>\n",
       "      <td>WiFi</td>\n",
       "      <td>AC</td>\n",
       "      <td>KD</td>\n",
       "      <td>Kasur</td>\n",
       "    </tr>\n",
       "    <tr>\n",
       "      <th>4</th>\n",
       "      <td>Kost Apik UI Puspita  Tipe B Kukusan Beji Depok</td>\n",
       "      <td>1233000</td>\n",
       "      <td></td>\n",
       "      <td>Putri</td>\n",
       "      <td>KMD</td>\n",
       "      <td>WiFi</td>\n",
       "      <td>AC</td>\n",
       "      <td>0</td>\n",
       "      <td>Kasur</td>\n",
       "    </tr>\n",
       "    <tr>\n",
       "      <th>5</th>\n",
       "      <td>Kost Apik Duta Residence Tipe B Sukmajaya Depok</td>\n",
       "      <td>1008000</td>\n",
       "      <td>50</td>\n",
       "      <td>Campur</td>\n",
       "      <td>KMD</td>\n",
       "      <td>WiFi</td>\n",
       "      <td>0</td>\n",
       "      <td>0</td>\n",
       "      <td>Kasur</td>\n",
       "    </tr>\n",
       "    <tr>\n",
       "      <th>6</th>\n",
       "      <td>Kost Apik Griya Osfa UI Tipe A Beji Depok</td>\n",
       "      <td>1368000</td>\n",
       "      <td></td>\n",
       "      <td>Putri</td>\n",
       "      <td>KMD</td>\n",
       "      <td>WiFi</td>\n",
       "      <td>AC</td>\n",
       "      <td>0</td>\n",
       "      <td>Kasur</td>\n",
       "    </tr>\n",
       "    <tr>\n",
       "      <th>7</th>\n",
       "      <td>Kost Apik Wisma Okki Tipe B Beji Depok</td>\n",
       "      <td>1008000</td>\n",
       "      <td>47</td>\n",
       "      <td>Putri</td>\n",
       "      <td>KMD</td>\n",
       "      <td>WiFi</td>\n",
       "      <td>0</td>\n",
       "      <td>0</td>\n",
       "      <td>Kasur</td>\n",
       "    </tr>\n",
       "    <tr>\n",
       "      <th>8</th>\n",
       "      <td>Kost Singgahsini Alhidayah EMH-4 Tipe B  Beji ...</td>\n",
       "      <td>1249500</td>\n",
       "      <td></td>\n",
       "      <td>Putri</td>\n",
       "      <td>KMD</td>\n",
       "      <td>WiFi</td>\n",
       "      <td>AC</td>\n",
       "      <td>0</td>\n",
       "      <td>Kasur</td>\n",
       "    </tr>\n",
       "    <tr>\n",
       "      <th>9</th>\n",
       "      <td>Kost Apik The Cozy Dorms Kukusan Beji Depok</td>\n",
       "      <td>1278000</td>\n",
       "      <td></td>\n",
       "      <td>Campur</td>\n",
       "      <td>KMD</td>\n",
       "      <td>0</td>\n",
       "      <td>AC</td>\n",
       "      <td>0</td>\n",
       "      <td>Kasur</td>\n",
       "    </tr>\n",
       "  </tbody>\n",
       "</table>\n",
       "</div>"
      ],
      "text/plain": [
       "                                                nama    harga  rating   \\\n",
       "0        Kost Apik Aisyah Kukusan Tipe A  Beji Depok  1143000            \n",
       "1    Kost Apik UI Puspita  Tipe A Kukusan Beji Depok  1323000            \n",
       "2  Kost Singgahsini Alhidayah EMH-4 Tipe A  Beji ...  1683000            \n",
       "3    Kost Apik Duta Residence Tipe A Sukmajaya Depok  1548000            \n",
       "4    Kost Apik UI Puspita  Tipe B Kukusan Beji Depok  1233000            \n",
       "5    Kost Apik Duta Residence Tipe B Sukmajaya Depok  1008000      50    \n",
       "6          Kost Apik Griya Osfa UI Tipe A Beji Depok  1368000            \n",
       "7             Kost Apik Wisma Okki Tipe B Beji Depok  1008000      47    \n",
       "8  Kost Singgahsini Alhidayah EMH-4 Tipe B  Beji ...  1249500            \n",
       "9        Kost Apik The Cozy Dorms Kukusan Beji Depok  1278000            \n",
       "\n",
       "    jenis Kamar Mandi Dalam  Wifi  AC Kloset Duduk  Kasur  \n",
       "0   Putri               KMD     0  AC            0  Kasur  \n",
       "1   Putri               KMD  WiFi  AC            0  Kasur  \n",
       "2   Putri               KMD  WiFi  AC           KD  Kasur  \n",
       "3  Campur               KMD  WiFi  AC           KD  Kasur  \n",
       "4   Putri               KMD  WiFi  AC            0  Kasur  \n",
       "5  Campur               KMD  WiFi   0            0  Kasur  \n",
       "6   Putri               KMD  WiFi  AC            0  Kasur  \n",
       "7   Putri               KMD  WiFi   0            0  Kasur  \n",
       "8   Putri               KMD  WiFi  AC            0  Kasur  \n",
       "9  Campur               KMD     0  AC            0  Kasur  "
      ]
     },
     "execution_count": 12,
     "metadata": {},
     "output_type": "execute_result"
    }
   ],
   "source": [
    "data.head(10)"
   ]
  },
  {
   "cell_type": "markdown",
   "id": "22c5b916",
   "metadata": {},
   "source": [
    "# Data Cleaning"
   ]
  },
  {
   "cell_type": "code",
   "execution_count": 13,
   "id": "83e36d8a",
   "metadata": {
    "scrolled": true
   },
   "outputs": [
    {
     "data": {
      "text/plain": [
       "nama                 object\n",
       "harga                 int64\n",
       " rating              object\n",
       "jenis                object\n",
       "Kamar Mandi Dalam    object\n",
       "Wifi                 object\n",
       "AC                   object\n",
       "Kloset Duduk         object\n",
       "Kasur                object\n",
       "dtype: object"
      ]
     },
     "execution_count": 13,
     "metadata": {},
     "output_type": "execute_result"
    }
   ],
   "source": [
    "# menampilkan tipe data\n",
    "data.dtypes"
   ]
  },
  {
   "cell_type": "code",
   "execution_count": 14,
   "id": "714cbc01",
   "metadata": {},
   "outputs": [
    {
     "data": {
      "text/plain": [
       "Index(['nama', 'harga', ' rating ', 'jenis', 'Kamar Mandi Dalam', 'Wifi', 'AC',\n",
       "       'Kloset Duduk', 'Kasur'],\n",
       "      dtype='object')"
      ]
     },
     "execution_count": 14,
     "metadata": {},
     "output_type": "execute_result"
    }
   ],
   "source": [
    "data.columns"
   ]
  },
  {
   "cell_type": "code",
   "execution_count": 15,
   "id": "bd1f9ab8",
   "metadata": {},
   "outputs": [],
   "source": [
    "# mengubah nama kolom pada Dataset ke dalam bahasa Indonesia\n",
    "data=data.rename(columns = {\"Kamar Mandi Dalam\": \"Kamar_Mandi_Dalam\", \"Kloset Duduk\": \"Kloset_Duduk\"})"
   ]
  },
  {
   "cell_type": "code",
   "execution_count": 16,
   "id": "57e9761d",
   "metadata": {},
   "outputs": [
    {
     "name": "stdout",
     "output_type": "stream",
     "text": [
      "(9089, 9)\n"
     ]
    }
   ],
   "source": [
    "data = data[data.duplicated()]\n",
    "print(data.shape)"
   ]
  },
  {
   "cell_type": "code",
   "execution_count": 17,
   "id": "e3ac6375",
   "metadata": {
    "scrolled": true
   },
   "outputs": [
    {
     "data": {
      "text/html": [
       "<div>\n",
       "<style scoped>\n",
       "    .dataframe tbody tr th:only-of-type {\n",
       "        vertical-align: middle;\n",
       "    }\n",
       "\n",
       "    .dataframe tbody tr th {\n",
       "        vertical-align: top;\n",
       "    }\n",
       "\n",
       "    .dataframe thead th {\n",
       "        text-align: right;\n",
       "    }\n",
       "</style>\n",
       "<table border=\"1\" class=\"dataframe\">\n",
       "  <thead>\n",
       "    <tr style=\"text-align: right;\">\n",
       "      <th></th>\n",
       "      <th>nama</th>\n",
       "      <th>harga</th>\n",
       "      <th>rating</th>\n",
       "      <th>jenis</th>\n",
       "      <th>Kamar_Mandi_Dalam</th>\n",
       "      <th>Wifi</th>\n",
       "      <th>AC</th>\n",
       "      <th>Kloset_Duduk</th>\n",
       "      <th>Kasur</th>\n",
       "    </tr>\n",
       "  </thead>\n",
       "  <tbody>\n",
       "    <tr>\n",
       "      <th>20</th>\n",
       "      <td>Kost Apik Aisyah Kukusan Tipe A  Beji Depok</td>\n",
       "      <td>1143000</td>\n",
       "      <td></td>\n",
       "      <td>Putri</td>\n",
       "      <td>KMD</td>\n",
       "      <td>0</td>\n",
       "      <td>AC</td>\n",
       "      <td>0</td>\n",
       "      <td>Kasur</td>\n",
       "    </tr>\n",
       "    <tr>\n",
       "      <th>21</th>\n",
       "      <td>Kost Apik UI Puspita  Tipe A Kukusan Beji Depok</td>\n",
       "      <td>1323000</td>\n",
       "      <td></td>\n",
       "      <td>Putri</td>\n",
       "      <td>KMD</td>\n",
       "      <td>WiFi</td>\n",
       "      <td>AC</td>\n",
       "      <td>0</td>\n",
       "      <td>Kasur</td>\n",
       "    </tr>\n",
       "    <tr>\n",
       "      <th>22</th>\n",
       "      <td>Kost Singgahsini Alhidayah EMH-4 Tipe A  Beji ...</td>\n",
       "      <td>1683000</td>\n",
       "      <td></td>\n",
       "      <td>Putri</td>\n",
       "      <td>KMD</td>\n",
       "      <td>WiFi</td>\n",
       "      <td>AC</td>\n",
       "      <td>KD</td>\n",
       "      <td>Kasur</td>\n",
       "    </tr>\n",
       "    <tr>\n",
       "      <th>25</th>\n",
       "      <td>Kost Apik Duta Residence Tipe B Sukmajaya Depok</td>\n",
       "      <td>1008000</td>\n",
       "      <td>50</td>\n",
       "      <td>Campur</td>\n",
       "      <td>KMD</td>\n",
       "      <td>WiFi</td>\n",
       "      <td>0</td>\n",
       "      <td>0</td>\n",
       "      <td>Kasur</td>\n",
       "    </tr>\n",
       "    <tr>\n",
       "      <th>27</th>\n",
       "      <td>Kost Apik Wisma Okki Tipe B Beji Depok</td>\n",
       "      <td>1008000</td>\n",
       "      <td>47</td>\n",
       "      <td>Putri</td>\n",
       "      <td>KMD</td>\n",
       "      <td>WiFi</td>\n",
       "      <td>0</td>\n",
       "      <td>0</td>\n",
       "      <td>Kasur</td>\n",
       "    </tr>\n",
       "    <tr>\n",
       "      <th>...</th>\n",
       "      <td>...</td>\n",
       "      <td>...</td>\n",
       "      <td>...</td>\n",
       "      <td>...</td>\n",
       "      <td>...</td>\n",
       "      <td>...</td>\n",
       "      <td>...</td>\n",
       "      <td>...</td>\n",
       "      <td>...</td>\n",
       "    </tr>\n",
       "    <tr>\n",
       "      <th>10930</th>\n",
       "      <td>Kost Samitra Tipe A Cimanggis Depok</td>\n",
       "      <td>1350000</td>\n",
       "      <td></td>\n",
       "      <td>Putra</td>\n",
       "      <td>KMD</td>\n",
       "      <td>WiFi</td>\n",
       "      <td>AC</td>\n",
       "      <td>0</td>\n",
       "      <td>Kasur</td>\n",
       "    </tr>\n",
       "    <tr>\n",
       "      <th>10932</th>\n",
       "      <td>Kost Rumah Samara Kelapa Dua Depok</td>\n",
       "      <td>1350000</td>\n",
       "      <td>50</td>\n",
       "      <td>Putra</td>\n",
       "      <td>KMD</td>\n",
       "      <td>WiFi</td>\n",
       "      <td>0</td>\n",
       "      <td>KD</td>\n",
       "      <td>Kasur</td>\n",
       "    </tr>\n",
       "    <tr>\n",
       "      <th>10955</th>\n",
       "      <td>Kost Kosisti Pondok Cina Beji Depok</td>\n",
       "      <td>700000</td>\n",
       "      <td>44</td>\n",
       "      <td>Putri</td>\n",
       "      <td>KMD</td>\n",
       "      <td>WiFi</td>\n",
       "      <td>0</td>\n",
       "      <td>0</td>\n",
       "      <td>Kasur</td>\n",
       "    </tr>\n",
       "    <tr>\n",
       "      <th>10967</th>\n",
       "      <td>Kost Singgahsini Alhidayah EMH-4 Tipe A  Beji ...</td>\n",
       "      <td>1683000</td>\n",
       "      <td>50</td>\n",
       "      <td>Putri</td>\n",
       "      <td>KMD</td>\n",
       "      <td>WiFi</td>\n",
       "      <td>AC</td>\n",
       "      <td>KD</td>\n",
       "      <td>Kasur</td>\n",
       "    </tr>\n",
       "    <tr>\n",
       "      <th>10982</th>\n",
       "      <td>Kost Permata Sukses 2 Tipe B Beji Depok</td>\n",
       "      <td>1800000</td>\n",
       "      <td>31</td>\n",
       "      <td>Putri</td>\n",
       "      <td>KMD</td>\n",
       "      <td>WiFi</td>\n",
       "      <td>AC</td>\n",
       "      <td>KD</td>\n",
       "      <td>Kasur</td>\n",
       "    </tr>\n",
       "  </tbody>\n",
       "</table>\n",
       "<p>1071 rows × 9 columns</p>\n",
       "</div>"
      ],
      "text/plain": [
       "                                                    nama    harga  rating   \\\n",
       "20           Kost Apik Aisyah Kukusan Tipe A  Beji Depok  1143000            \n",
       "21       Kost Apik UI Puspita  Tipe A Kukusan Beji Depok  1323000            \n",
       "22     Kost Singgahsini Alhidayah EMH-4 Tipe A  Beji ...  1683000            \n",
       "25       Kost Apik Duta Residence Tipe B Sukmajaya Depok  1008000      50    \n",
       "27                Kost Apik Wisma Okki Tipe B Beji Depok  1008000      47    \n",
       "...                                                  ...      ...      ...   \n",
       "10930                Kost Samitra Tipe A Cimanggis Depok  1350000            \n",
       "10932                 Kost Rumah Samara Kelapa Dua Depok  1350000      50    \n",
       "10955                Kost Kosisti Pondok Cina Beji Depok   700000      44    \n",
       "10967  Kost Singgahsini Alhidayah EMH-4 Tipe A  Beji ...  1683000      50    \n",
       "10982            Kost Permata Sukses 2 Tipe B Beji Depok  1800000      31    \n",
       "\n",
       "        jenis Kamar_Mandi_Dalam  Wifi  AC Kloset_Duduk  Kasur  \n",
       "20      Putri               KMD     0  AC            0  Kasur  \n",
       "21      Putri               KMD  WiFi  AC            0  Kasur  \n",
       "22      Putri               KMD  WiFi  AC           KD  Kasur  \n",
       "25     Campur               KMD  WiFi   0            0  Kasur  \n",
       "27      Putri               KMD  WiFi   0            0  Kasur  \n",
       "...       ...               ...   ...  ..          ...    ...  \n",
       "10930   Putra               KMD  WiFi  AC            0  Kasur  \n",
       "10932   Putra               KMD  WiFi   0           KD  Kasur  \n",
       "10955   Putri               KMD  WiFi   0            0  Kasur  \n",
       "10967   Putri               KMD  WiFi  AC           KD  Kasur  \n",
       "10982   Putri               KMD  WiFi  AC           KD  Kasur  \n",
       "\n",
       "[1071 rows x 9 columns]"
      ]
     },
     "execution_count": 17,
     "metadata": {},
     "output_type": "execute_result"
    }
   ],
   "source": [
    "data.drop_duplicates()"
   ]
  },
  {
   "cell_type": "code",
   "execution_count": 18,
   "id": "250b9ef7",
   "metadata": {},
   "outputs": [
    {
     "data": {
      "text/plain": [
       "(9089, 9)"
      ]
     },
     "execution_count": 18,
     "metadata": {},
     "output_type": "execute_result"
    }
   ],
   "source": [
    "data.shape"
   ]
  },
  {
   "cell_type": "code",
   "execution_count": 19,
   "id": "2634b6c7",
   "metadata": {},
   "outputs": [],
   "source": [
    "## menghapus kolom nama karena tidak dibutuhkan dalam pembuatan model.\n",
    "data.drop('nama',axis=1,inplace=True)"
   ]
  },
  {
   "cell_type": "code",
   "execution_count": 20,
   "id": "563679f1",
   "metadata": {},
   "outputs": [],
   "source": [
    "## menghapus kolom rating karena tidak dibutuhkan dalam pembuatan model.\n",
    "data.drop(' rating ',axis=1,inplace=True)"
   ]
  },
  {
   "cell_type": "code",
   "execution_count": 21,
   "id": "b679b7e0",
   "metadata": {
    "scrolled": true
   },
   "outputs": [
    {
     "data": {
      "text/html": [
       "<div>\n",
       "<style scoped>\n",
       "    .dataframe tbody tr th:only-of-type {\n",
       "        vertical-align: middle;\n",
       "    }\n",
       "\n",
       "    .dataframe tbody tr th {\n",
       "        vertical-align: top;\n",
       "    }\n",
       "\n",
       "    .dataframe thead th {\n",
       "        text-align: right;\n",
       "    }\n",
       "</style>\n",
       "<table border=\"1\" class=\"dataframe\">\n",
       "  <thead>\n",
       "    <tr style=\"text-align: right;\">\n",
       "      <th></th>\n",
       "      <th>harga</th>\n",
       "      <th>jenis</th>\n",
       "      <th>Kamar_Mandi_Dalam</th>\n",
       "      <th>Wifi</th>\n",
       "      <th>AC</th>\n",
       "      <th>Kloset_Duduk</th>\n",
       "      <th>Kasur</th>\n",
       "    </tr>\n",
       "  </thead>\n",
       "  <tbody>\n",
       "    <tr>\n",
       "      <th>20</th>\n",
       "      <td>1143000</td>\n",
       "      <td>Putri</td>\n",
       "      <td>KMD</td>\n",
       "      <td>0</td>\n",
       "      <td>AC</td>\n",
       "      <td>0</td>\n",
       "      <td>Kasur</td>\n",
       "    </tr>\n",
       "    <tr>\n",
       "      <th>21</th>\n",
       "      <td>1323000</td>\n",
       "      <td>Putri</td>\n",
       "      <td>KMD</td>\n",
       "      <td>WiFi</td>\n",
       "      <td>AC</td>\n",
       "      <td>0</td>\n",
       "      <td>Kasur</td>\n",
       "    </tr>\n",
       "    <tr>\n",
       "      <th>22</th>\n",
       "      <td>1683000</td>\n",
       "      <td>Putri</td>\n",
       "      <td>KMD</td>\n",
       "      <td>WiFi</td>\n",
       "      <td>AC</td>\n",
       "      <td>KD</td>\n",
       "      <td>Kasur</td>\n",
       "    </tr>\n",
       "    <tr>\n",
       "      <th>25</th>\n",
       "      <td>1008000</td>\n",
       "      <td>Campur</td>\n",
       "      <td>KMD</td>\n",
       "      <td>WiFi</td>\n",
       "      <td>0</td>\n",
       "      <td>0</td>\n",
       "      <td>Kasur</td>\n",
       "    </tr>\n",
       "    <tr>\n",
       "      <th>27</th>\n",
       "      <td>1008000</td>\n",
       "      <td>Putri</td>\n",
       "      <td>KMD</td>\n",
       "      <td>WiFi</td>\n",
       "      <td>0</td>\n",
       "      <td>0</td>\n",
       "      <td>Kasur</td>\n",
       "    </tr>\n",
       "  </tbody>\n",
       "</table>\n",
       "</div>"
      ],
      "text/plain": [
       "      harga   jenis Kamar_Mandi_Dalam  Wifi  AC Kloset_Duduk  Kasur\n",
       "20  1143000   Putri               KMD     0  AC            0  Kasur\n",
       "21  1323000   Putri               KMD  WiFi  AC            0  Kasur\n",
       "22  1683000   Putri               KMD  WiFi  AC           KD  Kasur\n",
       "25  1008000  Campur               KMD  WiFi   0            0  Kasur\n",
       "27  1008000   Putri               KMD  WiFi   0            0  Kasur"
      ]
     },
     "execution_count": 21,
     "metadata": {},
     "output_type": "execute_result"
    }
   ],
   "source": [
    "data.head()"
   ]
  },
  {
   "cell_type": "markdown",
   "id": "39ea3004",
   "metadata": {},
   "source": [
    "# Exploratory Data Analysis"
   ]
  },
  {
   "cell_type": "code",
   "execution_count": 22,
   "id": "cd9f7929",
   "metadata": {},
   "outputs": [
    {
     "data": {
      "text/plain": [
       "Putri     4425\n",
       "Campur    2797\n",
       "Putra     1867\n",
       "Name: jenis, dtype: int64"
      ]
     },
     "execution_count": 22,
     "metadata": {},
     "output_type": "execute_result"
    }
   ],
   "source": [
    "data.jenis.value_counts()"
   ]
  },
  {
   "cell_type": "code",
   "execution_count": 23,
   "id": "b4576c37",
   "metadata": {},
   "outputs": [
    {
     "data": {
      "text/plain": [
       "KMD    8278\n",
       "0       811\n",
       "Name: Kamar_Mandi_Dalam, dtype: int64"
      ]
     },
     "execution_count": 23,
     "metadata": {},
     "output_type": "execute_result"
    }
   ],
   "source": [
    "data.Kamar_Mandi_Dalam.value_counts()"
   ]
  },
  {
   "cell_type": "code",
   "execution_count": 24,
   "id": "ae8b4534",
   "metadata": {},
   "outputs": [
    {
     "data": {
      "text/plain": [
       "WiFi    6813\n",
       "0       2276\n",
       "Name: Wifi, dtype: int64"
      ]
     },
     "execution_count": 24,
     "metadata": {},
     "output_type": "execute_result"
    }
   ],
   "source": [
    "data.Wifi.value_counts()"
   ]
  },
  {
   "cell_type": "code",
   "execution_count": 25,
   "id": "ca69498a",
   "metadata": {},
   "outputs": [
    {
     "data": {
      "text/plain": [
       "AC    4952\n",
       "0     4137\n",
       "Name: AC, dtype: int64"
      ]
     },
     "execution_count": 25,
     "metadata": {},
     "output_type": "execute_result"
    }
   ],
   "source": [
    "data.AC.value_counts()"
   ]
  },
  {
   "cell_type": "code",
   "execution_count": 26,
   "id": "53ee9399",
   "metadata": {},
   "outputs": [
    {
     "data": {
      "text/plain": [
       "KD    6124\n",
       "0     2965\n",
       "Name: Kloset_Duduk, dtype: int64"
      ]
     },
     "execution_count": 26,
     "metadata": {},
     "output_type": "execute_result"
    }
   ],
   "source": [
    "data.Kloset_Duduk.value_counts()"
   ]
  },
  {
   "cell_type": "code",
   "execution_count": 27,
   "id": "4653665c",
   "metadata": {},
   "outputs": [
    {
     "data": {
      "text/plain": [
       "Kasur    8851\n",
       "0         238\n",
       "Name: Kasur, dtype: int64"
      ]
     },
     "execution_count": 27,
     "metadata": {},
     "output_type": "execute_result"
    }
   ],
   "source": [
    "data.Kasur.value_counts()"
   ]
  },
  {
   "cell_type": "markdown",
   "id": "e14fdb5f",
   "metadata": {},
   "source": [
    "# Data Pre-Processing"
   ]
  },
  {
   "cell_type": "code",
   "execution_count": 28,
   "id": "b68ce9d6",
   "metadata": {},
   "outputs": [
    {
     "name": "stdout",
     "output_type": "stream",
     "text": [
      "<class 'pandas.core.frame.DataFrame'>\n",
      "Int64Index: 9089 entries, 20 to 10999\n",
      "Data columns (total 7 columns):\n",
      " #   Column             Non-Null Count  Dtype \n",
      "---  ------             --------------  ----- \n",
      " 0   harga              9089 non-null   int64 \n",
      " 1   jenis              9089 non-null   object\n",
      " 2   Kamar_Mandi_Dalam  9089 non-null   object\n",
      " 3   Wifi               9089 non-null   object\n",
      " 4   AC                 9089 non-null   object\n",
      " 5   Kloset_Duduk       9089 non-null   object\n",
      " 6   Kasur              9089 non-null   object\n",
      "dtypes: int64(1), object(6)\n",
      "memory usage: 568.1+ KB\n"
     ]
    }
   ],
   "source": [
    "#identifikasi Atribut\n",
    "data.info()"
   ]
  },
  {
   "cell_type": "code",
   "execution_count": 29,
   "id": "ee2f4774",
   "metadata": {},
   "outputs": [],
   "source": [
    "from pandas import DataFrame"
   ]
  },
  {
   "cell_type": "code",
   "execution_count": 30,
   "id": "1e61fdce",
   "metadata": {},
   "outputs": [],
   "source": [
    "def preprocess_data(\n",
    "    df: DataFrame,\n",
    "    one_hot_cols: [str],\n",
    "    standardized_cols: [str],\n",
    "    scaler: StandardScaler,\n",
    "    \n",
    "):\n",
    "  result_df = df.copy()\n",
    "  result_df = encode_multivalued_attributes_with_one_hot_encoding(result_df, one_hot_cols)\n",
    "  result_df, _ = standardize_attributes(result_df, standardized_cols, scaler)\n",
    "  return result_df\n"
   ]
  },
  {
   "cell_type": "code",
   "execution_count": 31,
   "id": "2c0f37ee",
   "metadata": {},
   "outputs": [],
   "source": [
    "s = (data.dtypes == 'object')\n",
    "object_cols = list(s[s].index)\n",
    "one_hot_cols = (list(set(object_cols)))"
   ]
  },
  {
   "cell_type": "code",
   "execution_count": 32,
   "id": "d96b403b",
   "metadata": {},
   "outputs": [
    {
     "data": {
      "text/plain": [
       "['jenis', 'Kamar_Mandi_Dalam', 'Wifi', 'AC', 'Kloset_Duduk', 'Kasur']"
      ]
     },
     "execution_count": 32,
     "metadata": {},
     "output_type": "execute_result"
    }
   ],
   "source": [
    "object_cols = list(s[s].index)\n",
    "object_cols"
   ]
  },
  {
   "cell_type": "code",
   "execution_count": 33,
   "id": "603c7b0a",
   "metadata": {},
   "outputs": [],
   "source": [
    "#one_hot_encoding kategori\n",
    "def encode_multivalued_attributes_with_one_hot_encoding(\n",
    "    df: DataFrame, col_names: [str]\n",
    "):\n",
    "  result_df = df.copy()\n",
    "  for col_name in col_names:\n",
    "    one_hot_values_df = pd.get_dummies(result_df[col_name], prefix=col_name, drop_first=True)\n",
    "    result_df = pd.concat([result_df, one_hot_values_df], axis=1)\n",
    "    result_df = result_df.drop(col_name, axis=1)\n",
    "    \n",
    "  return result_df\n"
   ]
  },
  {
   "cell_type": "code",
   "execution_count": 34,
   "id": "9a08361e",
   "metadata": {},
   "outputs": [
    {
     "data": {
      "text/plain": [
       "['AC', 'jenis', 'Wifi', 'Kasur', 'Kloset_Duduk', 'Kamar_Mandi_Dalam']"
      ]
     },
     "execution_count": 34,
     "metadata": {},
     "output_type": "execute_result"
    }
   ],
   "source": [
    "one_hot_cols"
   ]
  },
  {
   "cell_type": "code",
   "execution_count": 35,
   "id": "d6059041",
   "metadata": {},
   "outputs": [],
   "source": [
    "data_preProcess=encode_multivalued_attributes_with_one_hot_encoding(data, one_hot_cols)"
   ]
  },
  {
   "cell_type": "code",
   "execution_count": 36,
   "id": "a15333dc",
   "metadata": {},
   "outputs": [
    {
     "data": {
      "text/html": [
       "<div>\n",
       "<style scoped>\n",
       "    .dataframe tbody tr th:only-of-type {\n",
       "        vertical-align: middle;\n",
       "    }\n",
       "\n",
       "    .dataframe tbody tr th {\n",
       "        vertical-align: top;\n",
       "    }\n",
       "\n",
       "    .dataframe thead th {\n",
       "        text-align: right;\n",
       "    }\n",
       "</style>\n",
       "<table border=\"1\" class=\"dataframe\">\n",
       "  <thead>\n",
       "    <tr style=\"text-align: right;\">\n",
       "      <th></th>\n",
       "      <th>harga</th>\n",
       "      <th>AC_AC</th>\n",
       "      <th>jenis_Putra</th>\n",
       "      <th>jenis_Putri</th>\n",
       "      <th>Wifi_WiFi</th>\n",
       "      <th>Kasur_Kasur</th>\n",
       "      <th>Kloset_Duduk_KD</th>\n",
       "      <th>Kamar_Mandi_Dalam_KMD</th>\n",
       "    </tr>\n",
       "  </thead>\n",
       "  <tbody>\n",
       "    <tr>\n",
       "      <th>20</th>\n",
       "      <td>1143000</td>\n",
       "      <td>1</td>\n",
       "      <td>0</td>\n",
       "      <td>1</td>\n",
       "      <td>0</td>\n",
       "      <td>1</td>\n",
       "      <td>0</td>\n",
       "      <td>1</td>\n",
       "    </tr>\n",
       "    <tr>\n",
       "      <th>21</th>\n",
       "      <td>1323000</td>\n",
       "      <td>1</td>\n",
       "      <td>0</td>\n",
       "      <td>1</td>\n",
       "      <td>1</td>\n",
       "      <td>1</td>\n",
       "      <td>0</td>\n",
       "      <td>1</td>\n",
       "    </tr>\n",
       "    <tr>\n",
       "      <th>22</th>\n",
       "      <td>1683000</td>\n",
       "      <td>1</td>\n",
       "      <td>0</td>\n",
       "      <td>1</td>\n",
       "      <td>1</td>\n",
       "      <td>1</td>\n",
       "      <td>1</td>\n",
       "      <td>1</td>\n",
       "    </tr>\n",
       "    <tr>\n",
       "      <th>25</th>\n",
       "      <td>1008000</td>\n",
       "      <td>0</td>\n",
       "      <td>0</td>\n",
       "      <td>0</td>\n",
       "      <td>1</td>\n",
       "      <td>1</td>\n",
       "      <td>0</td>\n",
       "      <td>1</td>\n",
       "    </tr>\n",
       "    <tr>\n",
       "      <th>27</th>\n",
       "      <td>1008000</td>\n",
       "      <td>0</td>\n",
       "      <td>0</td>\n",
       "      <td>1</td>\n",
       "      <td>1</td>\n",
       "      <td>1</td>\n",
       "      <td>0</td>\n",
       "      <td>1</td>\n",
       "    </tr>\n",
       "  </tbody>\n",
       "</table>\n",
       "</div>"
      ],
      "text/plain": [
       "      harga  AC_AC  jenis_Putra  jenis_Putri  Wifi_WiFi  Kasur_Kasur  \\\n",
       "20  1143000      1            0            1          0            1   \n",
       "21  1323000      1            0            1          1            1   \n",
       "22  1683000      1            0            1          1            1   \n",
       "25  1008000      0            0            0          1            1   \n",
       "27  1008000      0            0            1          1            1   \n",
       "\n",
       "    Kloset_Duduk_KD  Kamar_Mandi_Dalam_KMD  \n",
       "20                0                      1  \n",
       "21                0                      1  \n",
       "22                1                      1  \n",
       "25                0                      1  \n",
       "27                0                      1  "
      ]
     },
     "execution_count": 36,
     "metadata": {},
     "output_type": "execute_result"
    }
   ],
   "source": [
    "data_preProcess.head(5)"
   ]
  },
  {
   "cell_type": "code",
   "execution_count": 37,
   "id": "98aa13dd",
   "metadata": {},
   "outputs": [
    {
     "data": {
      "text/html": [
       "<div>\n",
       "<style scoped>\n",
       "    .dataframe tbody tr th:only-of-type {\n",
       "        vertical-align: middle;\n",
       "    }\n",
       "\n",
       "    .dataframe tbody tr th {\n",
       "        vertical-align: top;\n",
       "    }\n",
       "\n",
       "    .dataframe thead th {\n",
       "        text-align: right;\n",
       "    }\n",
       "</style>\n",
       "<table border=\"1\" class=\"dataframe\">\n",
       "  <thead>\n",
       "    <tr style=\"text-align: right;\">\n",
       "      <th></th>\n",
       "      <th>harga</th>\n",
       "      <th>AC_AC</th>\n",
       "      <th>jenis_Putra</th>\n",
       "      <th>jenis_Putri</th>\n",
       "      <th>Wifi_WiFi</th>\n",
       "      <th>Kasur_Kasur</th>\n",
       "      <th>Kloset_Duduk_KD</th>\n",
       "      <th>Kamar_Mandi_Dalam_KMD</th>\n",
       "    </tr>\n",
       "  </thead>\n",
       "  <tbody>\n",
       "    <tr>\n",
       "      <th>10995</th>\n",
       "      <td>700000</td>\n",
       "      <td>0</td>\n",
       "      <td>1</td>\n",
       "      <td>0</td>\n",
       "      <td>1</td>\n",
       "      <td>1</td>\n",
       "      <td>1</td>\n",
       "      <td>0</td>\n",
       "    </tr>\n",
       "    <tr>\n",
       "      <th>10996</th>\n",
       "      <td>900000</td>\n",
       "      <td>0</td>\n",
       "      <td>1</td>\n",
       "      <td>0</td>\n",
       "      <td>1</td>\n",
       "      <td>1</td>\n",
       "      <td>0</td>\n",
       "      <td>0</td>\n",
       "    </tr>\n",
       "    <tr>\n",
       "      <th>10997</th>\n",
       "      <td>800000</td>\n",
       "      <td>0</td>\n",
       "      <td>0</td>\n",
       "      <td>1</td>\n",
       "      <td>1</td>\n",
       "      <td>0</td>\n",
       "      <td>0</td>\n",
       "      <td>1</td>\n",
       "    </tr>\n",
       "    <tr>\n",
       "      <th>10998</th>\n",
       "      <td>2499000</td>\n",
       "      <td>1</td>\n",
       "      <td>0</td>\n",
       "      <td>0</td>\n",
       "      <td>1</td>\n",
       "      <td>1</td>\n",
       "      <td>1</td>\n",
       "      <td>1</td>\n",
       "    </tr>\n",
       "    <tr>\n",
       "      <th>10999</th>\n",
       "      <td>1100000</td>\n",
       "      <td>1</td>\n",
       "      <td>0</td>\n",
       "      <td>0</td>\n",
       "      <td>0</td>\n",
       "      <td>0</td>\n",
       "      <td>1</td>\n",
       "      <td>1</td>\n",
       "    </tr>\n",
       "  </tbody>\n",
       "</table>\n",
       "</div>"
      ],
      "text/plain": [
       "         harga  AC_AC  jenis_Putra  jenis_Putri  Wifi_WiFi  Kasur_Kasur  \\\n",
       "10995   700000      0            1            0          1            1   \n",
       "10996   900000      0            1            0          1            1   \n",
       "10997   800000      0            0            1          1            0   \n",
       "10998  2499000      1            0            0          1            1   \n",
       "10999  1100000      1            0            0          0            0   \n",
       "\n",
       "       Kloset_Duduk_KD  Kamar_Mandi_Dalam_KMD  \n",
       "10995                1                      0  \n",
       "10996                0                      0  \n",
       "10997                0                      1  \n",
       "10998                1                      1  \n",
       "10999                1                      1  "
      ]
     },
     "execution_count": 37,
     "metadata": {},
     "output_type": "execute_result"
    }
   ],
   "source": [
    "data_preProcess.tail(5)"
   ]
  },
  {
   "cell_type": "code",
   "execution_count": 38,
   "id": "9d2db42d",
   "metadata": {},
   "outputs": [
    {
     "data": {
      "text/plain": [
       "count    9.089000e+03\n",
       "mean     1.271204e+06\n",
       "std      5.163714e+05\n",
       "min      3.500000e+05\n",
       "25%      8.500000e+05\n",
       "50%      1.233000e+06\n",
       "75%      1.548000e+06\n",
       "max      3.035000e+06\n",
       "Name: harga, dtype: float64"
      ]
     },
     "execution_count": 38,
     "metadata": {},
     "output_type": "execute_result"
    }
   ],
   "source": [
    "data.harga.describe()"
   ]
  },
  {
   "cell_type": "code",
   "execution_count": 39,
   "id": "eae4940b",
   "metadata": {},
   "outputs": [],
   "source": [
    "# normalisasi data numerik\n",
    "def standardize_attributes(df: DataFrame, col_names: [str], scaler: StandardScaler = None):\n",
    "  result_df = df.copy()\n",
    "  \n",
    "  if not scaler:\n",
    "    scaler = StandardScaler()\n",
    "    scaler.fit(result_df[col_names])\n",
    "  \n",
    "  result_df[col_names] = scaler.transform(result_df[col_names])    \n",
    "  \n",
    "  return result_df, scaler"
   ]
  },
  {
   "cell_type": "code",
   "execution_count": 40,
   "id": "6e2091c9",
   "metadata": {},
   "outputs": [],
   "source": [
    "numeric_cols=(list(set(data) - set(object_cols)))"
   ]
  },
  {
   "cell_type": "code",
   "execution_count": 41,
   "id": "dffa6779",
   "metadata": {},
   "outputs": [
    {
     "data": {
      "text/plain": [
       "['harga']"
      ]
     },
     "execution_count": 41,
     "metadata": {},
     "output_type": "execute_result"
    }
   ],
   "source": [
    "numeric_cols"
   ]
  },
  {
   "cell_type": "code",
   "execution_count": 42,
   "id": "ae529f32",
   "metadata": {},
   "outputs": [],
   "source": [
    "standardized_cols = numeric_cols"
   ]
  },
  {
   "cell_type": "code",
   "execution_count": 43,
   "id": "a15232f3",
   "metadata": {},
   "outputs": [
    {
     "data": {
      "text/plain": [
       "['harga']"
      ]
     },
     "execution_count": 43,
     "metadata": {},
     "output_type": "execute_result"
    }
   ],
   "source": [
    "standardized_cols"
   ]
  },
  {
   "cell_type": "code",
   "execution_count": 44,
   "id": "f55e3964",
   "metadata": {},
   "outputs": [],
   "source": [
    "data_preProcess=standardize_attributes(data_preProcess, standardized_cols)"
   ]
  },
  {
   "cell_type": "code",
   "execution_count": 45,
   "id": "3336d069",
   "metadata": {},
   "outputs": [
    {
     "data": {
      "text/plain": [
       "(          harga  AC_AC  jenis_Putra  jenis_Putri  Wifi_WiFi  Kasur_Kasur  \\\n",
       " 20    -0.248292      1            0            1          0            1   \n",
       " 21     0.100314      1            0            1          1            1   \n",
       " 22     0.797525      1            0            1          1            1   \n",
       " 25    -0.509746      0            0            0          1            1   \n",
       " 27    -0.509746      0            0            1          1            1   \n",
       " ...         ...    ...          ...          ...        ...          ...   \n",
       " 10995 -1.106248      0            1            0          1            1   \n",
       " 10996 -0.718909      0            1            0          1            1   \n",
       " 10997 -0.912579      0            0            1          1            0   \n",
       " 10998  2.377870      1            0            0          1            1   \n",
       " 10999 -0.331570      1            0            0          0            0   \n",
       " \n",
       "        Kloset_Duduk_KD  Kamar_Mandi_Dalam_KMD  \n",
       " 20                   0                      1  \n",
       " 21                   0                      1  \n",
       " 22                   1                      1  \n",
       " 25                   0                      1  \n",
       " 27                   0                      1  \n",
       " ...                ...                    ...  \n",
       " 10995                1                      0  \n",
       " 10996                0                      0  \n",
       " 10997                0                      1  \n",
       " 10998                1                      1  \n",
       " 10999                1                      1  \n",
       " \n",
       " [9089 rows x 8 columns],\n",
       " StandardScaler())"
      ]
     },
     "execution_count": 45,
     "metadata": {},
     "output_type": "execute_result"
    }
   ],
   "source": [
    "data_preProcess"
   ]
  },
  {
   "cell_type": "code",
   "execution_count": 46,
   "id": "c8040bc8",
   "metadata": {},
   "outputs": [
    {
     "data": {
      "text/html": [
       "<style>#sk-container-id-1 {color: black;background-color: white;}#sk-container-id-1 pre{padding: 0;}#sk-container-id-1 div.sk-toggleable {background-color: white;}#sk-container-id-1 label.sk-toggleable__label {cursor: pointer;display: block;width: 100%;margin-bottom: 0;padding: 0.3em;box-sizing: border-box;text-align: center;}#sk-container-id-1 label.sk-toggleable__label-arrow:before {content: \"▸\";float: left;margin-right: 0.25em;color: #696969;}#sk-container-id-1 label.sk-toggleable__label-arrow:hover:before {color: black;}#sk-container-id-1 div.sk-estimator:hover label.sk-toggleable__label-arrow:before {color: black;}#sk-container-id-1 div.sk-toggleable__content {max-height: 0;max-width: 0;overflow: hidden;text-align: left;background-color: #f0f8ff;}#sk-container-id-1 div.sk-toggleable__content pre {margin: 0.2em;color: black;border-radius: 0.25em;background-color: #f0f8ff;}#sk-container-id-1 input.sk-toggleable__control:checked~div.sk-toggleable__content {max-height: 200px;max-width: 100%;overflow: auto;}#sk-container-id-1 input.sk-toggleable__control:checked~label.sk-toggleable__label-arrow:before {content: \"▾\";}#sk-container-id-1 div.sk-estimator input.sk-toggleable__control:checked~label.sk-toggleable__label {background-color: #d4ebff;}#sk-container-id-1 div.sk-label input.sk-toggleable__control:checked~label.sk-toggleable__label {background-color: #d4ebff;}#sk-container-id-1 input.sk-hidden--visually {border: 0;clip: rect(1px 1px 1px 1px);clip: rect(1px, 1px, 1px, 1px);height: 1px;margin: -1px;overflow: hidden;padding: 0;position: absolute;width: 1px;}#sk-container-id-1 div.sk-estimator {font-family: monospace;background-color: #f0f8ff;border: 1px dotted black;border-radius: 0.25em;box-sizing: border-box;margin-bottom: 0.5em;}#sk-container-id-1 div.sk-estimator:hover {background-color: #d4ebff;}#sk-container-id-1 div.sk-parallel-item::after {content: \"\";width: 100%;border-bottom: 1px solid gray;flex-grow: 1;}#sk-container-id-1 div.sk-label:hover label.sk-toggleable__label {background-color: #d4ebff;}#sk-container-id-1 div.sk-serial::before {content: \"\";position: absolute;border-left: 1px solid gray;box-sizing: border-box;top: 0;bottom: 0;left: 50%;z-index: 0;}#sk-container-id-1 div.sk-serial {display: flex;flex-direction: column;align-items: center;background-color: white;padding-right: 0.2em;padding-left: 0.2em;position: relative;}#sk-container-id-1 div.sk-item {position: relative;z-index: 1;}#sk-container-id-1 div.sk-parallel {display: flex;align-items: stretch;justify-content: center;background-color: white;position: relative;}#sk-container-id-1 div.sk-item::before, #sk-container-id-1 div.sk-parallel-item::before {content: \"\";position: absolute;border-left: 1px solid gray;box-sizing: border-box;top: 0;bottom: 0;left: 50%;z-index: -1;}#sk-container-id-1 div.sk-parallel-item {display: flex;flex-direction: column;z-index: 1;position: relative;background-color: white;}#sk-container-id-1 div.sk-parallel-item:first-child::after {align-self: flex-end;width: 50%;}#sk-container-id-1 div.sk-parallel-item:last-child::after {align-self: flex-start;width: 50%;}#sk-container-id-1 div.sk-parallel-item:only-child::after {width: 0;}#sk-container-id-1 div.sk-dashed-wrapped {border: 1px dashed gray;margin: 0 0.4em 0.5em 0.4em;box-sizing: border-box;padding-bottom: 0.4em;background-color: white;}#sk-container-id-1 div.sk-label label {font-family: monospace;font-weight: bold;display: inline-block;line-height: 1.2em;}#sk-container-id-1 div.sk-label-container {text-align: center;}#sk-container-id-1 div.sk-container {/* jupyter's `normalize.less` sets `[hidden] { display: none; }` but bootstrap.min.css set `[hidden] { display: none !important; }` so we also need the `!important` here to be able to override the default hidden behavior on the sphinx rendered scikit-learn.org. See: https://github.com/scikit-learn/scikit-learn/issues/21755 */display: inline-block !important;position: relative;}#sk-container-id-1 div.sk-text-repr-fallback {display: none;}</style><div id=\"sk-container-id-1\" class=\"sk-top-container\"><div class=\"sk-text-repr-fallback\"><pre>StandardScaler()</pre><b>In a Jupyter environment, please rerun this cell to show the HTML representation or trust the notebook. <br />On GitHub, the HTML representation is unable to render, please try loading this page with nbviewer.org.</b></div><div class=\"sk-container\" hidden><div class=\"sk-item\"><div class=\"sk-estimator sk-toggleable\"><input class=\"sk-toggleable__control sk-hidden--visually\" id=\"sk-estimator-id-1\" type=\"checkbox\" checked><label for=\"sk-estimator-id-1\" class=\"sk-toggleable__label sk-toggleable__label-arrow\">StandardScaler</label><div class=\"sk-toggleable__content\"><pre>StandardScaler()</pre></div></div></div></div></div>"
      ],
      "text/plain": [
       "StandardScaler()"
      ]
     },
     "execution_count": 46,
     "metadata": {},
     "output_type": "execute_result"
    }
   ],
   "source": [
    "prep_data, new_scaler = standardize_attributes(data, standardized_cols)\n",
    "new_scaler"
   ]
  },
  {
   "cell_type": "code",
   "execution_count": 47,
   "id": "22fb0a38",
   "metadata": {},
   "outputs": [
    {
     "data": {
      "text/plain": [
       "(9089, 8)"
      ]
     },
     "execution_count": 47,
     "metadata": {},
     "output_type": "execute_result"
    }
   ],
   "source": [
    "prep_data = preprocess_data(data, one_hot_cols, standardized_cols, new_scaler)   # Hasil Preprocessing: prep_data\n",
    "prep_data.shape"
   ]
  },
  {
   "cell_type": "code",
   "execution_count": 48,
   "id": "7db7e127",
   "metadata": {},
   "outputs": [
    {
     "data": {
      "text/html": [
       "<div>\n",
       "<style scoped>\n",
       "    .dataframe tbody tr th:only-of-type {\n",
       "        vertical-align: middle;\n",
       "    }\n",
       "\n",
       "    .dataframe tbody tr th {\n",
       "        vertical-align: top;\n",
       "    }\n",
       "\n",
       "    .dataframe thead th {\n",
       "        text-align: right;\n",
       "    }\n",
       "</style>\n",
       "<table border=\"1\" class=\"dataframe\">\n",
       "  <thead>\n",
       "    <tr style=\"text-align: right;\">\n",
       "      <th></th>\n",
       "      <th>harga</th>\n",
       "      <th>AC_AC</th>\n",
       "      <th>jenis_Putra</th>\n",
       "      <th>jenis_Putri</th>\n",
       "      <th>Wifi_WiFi</th>\n",
       "      <th>Kasur_Kasur</th>\n",
       "      <th>Kloset_Duduk_KD</th>\n",
       "      <th>Kamar_Mandi_Dalam_KMD</th>\n",
       "    </tr>\n",
       "  </thead>\n",
       "  <tbody>\n",
       "    <tr>\n",
       "      <th>20</th>\n",
       "      <td>-0.248292</td>\n",
       "      <td>1</td>\n",
       "      <td>0</td>\n",
       "      <td>1</td>\n",
       "      <td>0</td>\n",
       "      <td>1</td>\n",
       "      <td>0</td>\n",
       "      <td>1</td>\n",
       "    </tr>\n",
       "    <tr>\n",
       "      <th>21</th>\n",
       "      <td>0.100314</td>\n",
       "      <td>1</td>\n",
       "      <td>0</td>\n",
       "      <td>1</td>\n",
       "      <td>1</td>\n",
       "      <td>1</td>\n",
       "      <td>0</td>\n",
       "      <td>1</td>\n",
       "    </tr>\n",
       "    <tr>\n",
       "      <th>22</th>\n",
       "      <td>0.797525</td>\n",
       "      <td>1</td>\n",
       "      <td>0</td>\n",
       "      <td>1</td>\n",
       "      <td>1</td>\n",
       "      <td>1</td>\n",
       "      <td>1</td>\n",
       "      <td>1</td>\n",
       "    </tr>\n",
       "    <tr>\n",
       "      <th>25</th>\n",
       "      <td>-0.509746</td>\n",
       "      <td>0</td>\n",
       "      <td>0</td>\n",
       "      <td>0</td>\n",
       "      <td>1</td>\n",
       "      <td>1</td>\n",
       "      <td>0</td>\n",
       "      <td>1</td>\n",
       "    </tr>\n",
       "    <tr>\n",
       "      <th>27</th>\n",
       "      <td>-0.509746</td>\n",
       "      <td>0</td>\n",
       "      <td>0</td>\n",
       "      <td>1</td>\n",
       "      <td>1</td>\n",
       "      <td>1</td>\n",
       "      <td>0</td>\n",
       "      <td>1</td>\n",
       "    </tr>\n",
       "  </tbody>\n",
       "</table>\n",
       "</div>"
      ],
      "text/plain": [
       "       harga  AC_AC  jenis_Putra  jenis_Putri  Wifi_WiFi  Kasur_Kasur  \\\n",
       "20 -0.248292      1            0            1          0            1   \n",
       "21  0.100314      1            0            1          1            1   \n",
       "22  0.797525      1            0            1          1            1   \n",
       "25 -0.509746      0            0            0          1            1   \n",
       "27 -0.509746      0            0            1          1            1   \n",
       "\n",
       "    Kloset_Duduk_KD  Kamar_Mandi_Dalam_KMD  \n",
       "20                0                      1  \n",
       "21                0                      1  \n",
       "22                1                      1  \n",
       "25                0                      1  \n",
       "27                0                      1  "
      ]
     },
     "execution_count": 48,
     "metadata": {},
     "output_type": "execute_result"
    }
   ],
   "source": [
    "prep_data.head()"
   ]
  },
  {
   "cell_type": "code",
   "execution_count": 49,
   "id": "472346a6",
   "metadata": {
    "scrolled": true
   },
   "outputs": [
    {
     "data": {
      "text/html": [
       "<div>\n",
       "<style scoped>\n",
       "    .dataframe tbody tr th:only-of-type {\n",
       "        vertical-align: middle;\n",
       "    }\n",
       "\n",
       "    .dataframe tbody tr th {\n",
       "        vertical-align: top;\n",
       "    }\n",
       "\n",
       "    .dataframe thead th {\n",
       "        text-align: right;\n",
       "    }\n",
       "</style>\n",
       "<table border=\"1\" class=\"dataframe\">\n",
       "  <thead>\n",
       "    <tr style=\"text-align: right;\">\n",
       "      <th></th>\n",
       "      <th>harga</th>\n",
       "      <th>AC_AC</th>\n",
       "      <th>jenis_Putra</th>\n",
       "      <th>jenis_Putri</th>\n",
       "      <th>Wifi_WiFi</th>\n",
       "      <th>Kasur_Kasur</th>\n",
       "      <th>Kloset_Duduk_KD</th>\n",
       "      <th>Kamar_Mandi_Dalam_KMD</th>\n",
       "    </tr>\n",
       "  </thead>\n",
       "  <tbody>\n",
       "    <tr>\n",
       "      <th>count</th>\n",
       "      <td>9.089000e+03</td>\n",
       "      <td>9089.000000</td>\n",
       "      <td>9089.000000</td>\n",
       "      <td>9089.000000</td>\n",
       "      <td>9089.000000</td>\n",
       "      <td>9089.000000</td>\n",
       "      <td>9089.000000</td>\n",
       "      <td>9089.000000</td>\n",
       "    </tr>\n",
       "    <tr>\n",
       "      <th>mean</th>\n",
       "      <td>1.430623e-16</td>\n",
       "      <td>0.544834</td>\n",
       "      <td>0.205413</td>\n",
       "      <td>0.486852</td>\n",
       "      <td>0.749587</td>\n",
       "      <td>0.973815</td>\n",
       "      <td>0.673781</td>\n",
       "      <td>0.910771</td>\n",
       "    </tr>\n",
       "    <tr>\n",
       "      <th>std</th>\n",
       "      <td>1.000055e+00</td>\n",
       "      <td>0.498013</td>\n",
       "      <td>0.404025</td>\n",
       "      <td>0.499855</td>\n",
       "      <td>0.433274</td>\n",
       "      <td>0.159695</td>\n",
       "      <td>0.468854</td>\n",
       "      <td>0.285089</td>\n",
       "    </tr>\n",
       "    <tr>\n",
       "      <th>min</th>\n",
       "      <td>-1.784093e+00</td>\n",
       "      <td>0.000000</td>\n",
       "      <td>0.000000</td>\n",
       "      <td>0.000000</td>\n",
       "      <td>0.000000</td>\n",
       "      <td>0.000000</td>\n",
       "      <td>0.000000</td>\n",
       "      <td>0.000000</td>\n",
       "    </tr>\n",
       "    <tr>\n",
       "      <th>25%</th>\n",
       "      <td>-8.157439e-01</td>\n",
       "      <td>0.000000</td>\n",
       "      <td>0.000000</td>\n",
       "      <td>0.000000</td>\n",
       "      <td>0.000000</td>\n",
       "      <td>1.000000</td>\n",
       "      <td>0.000000</td>\n",
       "      <td>1.000000</td>\n",
       "    </tr>\n",
       "    <tr>\n",
       "      <th>50%</th>\n",
       "      <td>-7.398883e-02</td>\n",
       "      <td>1.000000</td>\n",
       "      <td>0.000000</td>\n",
       "      <td>0.000000</td>\n",
       "      <td>1.000000</td>\n",
       "      <td>1.000000</td>\n",
       "      <td>1.000000</td>\n",
       "      <td>1.000000</td>\n",
       "    </tr>\n",
       "    <tr>\n",
       "      <th>75%</th>\n",
       "      <td>5.360708e-01</td>\n",
       "      <td>1.000000</td>\n",
       "      <td>0.000000</td>\n",
       "      <td>1.000000</td>\n",
       "      <td>1.000000</td>\n",
       "      <td>1.000000</td>\n",
       "      <td>1.000000</td>\n",
       "      <td>1.000000</td>\n",
       "    </tr>\n",
       "    <tr>\n",
       "      <th>max</th>\n",
       "      <td>3.415940e+00</td>\n",
       "      <td>1.000000</td>\n",
       "      <td>1.000000</td>\n",
       "      <td>1.000000</td>\n",
       "      <td>1.000000</td>\n",
       "      <td>1.000000</td>\n",
       "      <td>1.000000</td>\n",
       "      <td>1.000000</td>\n",
       "    </tr>\n",
       "  </tbody>\n",
       "</table>\n",
       "</div>"
      ],
      "text/plain": [
       "              harga        AC_AC  jenis_Putra  jenis_Putri    Wifi_WiFi  \\\n",
       "count  9.089000e+03  9089.000000  9089.000000  9089.000000  9089.000000   \n",
       "mean   1.430623e-16     0.544834     0.205413     0.486852     0.749587   \n",
       "std    1.000055e+00     0.498013     0.404025     0.499855     0.433274   \n",
       "min   -1.784093e+00     0.000000     0.000000     0.000000     0.000000   \n",
       "25%   -8.157439e-01     0.000000     0.000000     0.000000     0.000000   \n",
       "50%   -7.398883e-02     1.000000     0.000000     0.000000     1.000000   \n",
       "75%    5.360708e-01     1.000000     0.000000     1.000000     1.000000   \n",
       "max    3.415940e+00     1.000000     1.000000     1.000000     1.000000   \n",
       "\n",
       "       Kasur_Kasur  Kloset_Duduk_KD  Kamar_Mandi_Dalam_KMD  \n",
       "count  9089.000000      9089.000000            9089.000000  \n",
       "mean      0.973815         0.673781               0.910771  \n",
       "std       0.159695         0.468854               0.285089  \n",
       "min       0.000000         0.000000               0.000000  \n",
       "25%       1.000000         0.000000               1.000000  \n",
       "50%       1.000000         1.000000               1.000000  \n",
       "75%       1.000000         1.000000               1.000000  \n",
       "max       1.000000         1.000000               1.000000  "
      ]
     },
     "execution_count": 49,
     "metadata": {},
     "output_type": "execute_result"
    }
   ],
   "source": [
    "prep_data.describe()"
   ]
  },
  {
   "cell_type": "markdown",
   "id": "29fac0cc",
   "metadata": {},
   "source": [
    "Penjelasan output statistika deskriptif\n",
    "\n",
    "count = banyaknya data\n",
    "\n",
    "mean = rata2\n",
    "\n",
    "std = standar deviasi\n",
    "\n",
    "min = nilai minimum\n",
    "\n",
    "25% = artinya Kuartil ke-1\n",
    "\n",
    "50% = artinya median atau kuartil ke-2\n",
    "\n",
    "75% = artinya kuartil ke-3\n",
    "\n",
    "max = nilai maksimum"
   ]
  },
  {
   "cell_type": "code",
   "execution_count": 50,
   "id": "1d9c0673",
   "metadata": {
    "scrolled": true
   },
   "outputs": [
    {
     "data": {
      "text/plain": [
       "[]"
      ]
     },
     "execution_count": 50,
     "metadata": {},
     "output_type": "execute_result"
    },
    {
     "data": {
      "image/png": "[encoded data removed]",
      "text/plain": [
       "<Figure size 432x288 with 1 Axes>"
      ]
     },
     "metadata": {
      "needs_background": "light"
     },
     "output_type": "display_data"
    }
   ],
   "source": [
    "#boxplot with mathplotlib, melihat outlier yang dapat terjadi\n",
    "plt.boxplot(prep_data.harga)\n",
    "plt.plot()"
   ]
  },
  {
   "cell_type": "markdown",
   "id": "389521e4",
   "metadata": {},
   "source": [
    "Mengatasi Outlier\n",
    "\n",
    "Setelah kita mengetahui outlier harga, selanjutnya kita akan atasi Outlier dengan menggunakan metode interquartile range (IQR). Untuk detil jelasnya, bisa dilihat di ilustrasi di bawah ini:\n",
    "\n",
    "Gunakan hasil dari pengolahan di tahap sebelumnya 'data' untuk di olah di tahap ini. Gunakan fungsi quantile() untuk melihat quantile tertentu, dan gunakan mask() untuk mereplace nilai. Tentukan:\n",
    "Nilai Minimum dan Maximum data di tolerir\n",
    "Ubah Nilai yg di luar Range Minumum & Maximum ke dalam nilai Minimum dan Maximum"
   ]
  },
  {
   "cell_type": "code",
   "execution_count": 51,
   "id": "375aa73d",
   "metadata": {},
   "outputs": [
    {
     "name": "stdout",
     "output_type": "stream",
     "text": [
      "Nilai Maximum dari masing-masing Variable adalah: \n",
      "harga    2.563793\n",
      "dtype: float64\n",
      "\n",
      "Nilai Minimum dari masing-masing Variable adalah: \n",
      "harga   -2.843466\n",
      "dtype: float64\n",
      "\n",
      "Persebaran data setelah ditangani Outlier: \n",
      "             harga\n",
      "count  9089.000000\n",
      "mean     -0.010220\n",
      "std       0.969182\n",
      "min      -1.784093\n",
      "25%      -0.815744\n",
      "50%      -0.073989\n",
      "75%       0.536071\n",
      "max       2.563793\n"
     ]
    }
   ],
   "source": [
    "# Handling with IQR\n",
    "Q1 = (prep_data[['harga']]).quantile(0.25)\n",
    "Q3 = (prep_data[['harga']]).quantile(0.75)\n",
    "IQR = Q3 - Q1\n",
    "maximum = Q3 + (1.5*IQR)\n",
    "print('Nilai Maximum dari masing-masing Variable adalah: ')\n",
    "print(maximum)\n",
    "minimum = Q1 - (1.5*IQR)\n",
    "print('\\nNilai Minimum dari masing-masing Variable adalah: ')\n",
    "print(minimum)\n",
    "more_than = (prep_data > maximum)\n",
    "lower_than = (prep_data < minimum)\n",
    "prep_data = prep_data.mask(more_than, maximum, axis=1)\n",
    "prep_data = prep_data.mask(lower_than, minimum, axis=1)\n",
    "print('\\nPersebaran data setelah ditangani Outlier: ')\n",
    "print(prep_data[['harga']].describe())"
   ]
  },
  {
   "cell_type": "code",
   "execution_count": 52,
   "id": "df09e272",
   "metadata": {},
   "outputs": [
    {
     "data": {
      "text/plain": [
       "(9089, 8)"
      ]
     },
     "execution_count": 52,
     "metadata": {},
     "output_type": "execute_result"
    }
   ],
   "source": [
    "prep_data.shape"
   ]
  },
  {
   "cell_type": "code",
   "execution_count": 53,
   "id": "9cdd3c6f",
   "metadata": {},
   "outputs": [
    {
     "data": {
      "image/png": "[encoded data removed]",
      "text/plain": [
       "<Figure size 720x576 with 2 Axes>"
      ]
     },
     "metadata": {
      "needs_background": "light"
     },
     "output_type": "display_data"
    }
   ],
   "source": [
    "plt.figure (figsize=(10,8))\n",
    "sns.heatmap(prep_data.corr(), annot=True, linewidth=.5, cmap= \"RdBu\")\n",
    "plt.title(\"Correlations Between Variables\", size=10)\n",
    "plt.show()"
   ]
  },
  {
   "cell_type": "code",
   "execution_count": 54,
   "id": "ad1424e3",
   "metadata": {},
   "outputs": [
    {
     "name": "stdout",
     "output_type": "stream",
     "text": [
      "The Most Correlated Features with Harga:\n",
      "harga                    1.000000\n",
      "AC_AC                    0.688750\n",
      "Kloset_Duduk_KD          0.528273\n",
      "Kamar_Mandi_Dalam_KMD    0.240836\n",
      "Wifi_WiFi                0.215537\n",
      "Kasur_Kasur              0.067922\n",
      "jenis_Putri             -0.146336\n",
      "jenis_Putra             -0.149623\n",
      "Name: harga, dtype: float64 \n",
      "\n",
      "The Most Uncorrelated Features with Harga:\n",
      "Kamar_Mandi_Dalam_KMD    0.240836\n",
      "Wifi_WiFi                0.215537\n",
      "Kasur_Kasur              0.067922\n",
      "jenis_Putri             -0.146336\n",
      "jenis_Putra             -0.149623\n",
      "Name: harga, dtype: float64\n"
     ]
    },
    {
     "data": {
      "text/plain": [
       "(None, None)"
      ]
     },
     "execution_count": 54,
     "metadata": {},
     "output_type": "execute_result"
    }
   ],
   "source": [
    "numeric_cols = prep_data.select_dtypes(include = [np.number])\n",
    "corr = numeric_cols.corr()\n",
    "print ('The Most Correlated Features with Harga:'), print (corr['harga'].sort_values(ascending = False)[:10], '\\n')\n",
    "print ('The Most Uncorrelated Features with Harga:'), print (corr['harga'].sort_values(ascending = False)[-5:])"
   ]
  },
  {
   "cell_type": "code",
   "execution_count": 55,
   "id": "0d1ceb49",
   "metadata": {},
   "outputs": [
    {
     "data": {
      "text/html": [
       "<div>\n",
       "<style scoped>\n",
       "    .dataframe tbody tr th:only-of-type {\n",
       "        vertical-align: middle;\n",
       "    }\n",
       "\n",
       "    .dataframe tbody tr th {\n",
       "        vertical-align: top;\n",
       "    }\n",
       "\n",
       "    .dataframe thead th {\n",
       "        text-align: right;\n",
       "    }\n",
       "</style>\n",
       "<table border=\"1\" class=\"dataframe\">\n",
       "  <thead>\n",
       "    <tr style=\"text-align: right;\">\n",
       "      <th></th>\n",
       "      <th>harga</th>\n",
       "    </tr>\n",
       "  </thead>\n",
       "  <tbody>\n",
       "    <tr>\n",
       "      <th>count</th>\n",
       "      <td>9089.000000</td>\n",
       "    </tr>\n",
       "    <tr>\n",
       "      <th>mean</th>\n",
       "      <td>-0.010220</td>\n",
       "    </tr>\n",
       "    <tr>\n",
       "      <th>std</th>\n",
       "      <td>0.969182</td>\n",
       "    </tr>\n",
       "    <tr>\n",
       "      <th>min</th>\n",
       "      <td>-1.784093</td>\n",
       "    </tr>\n",
       "    <tr>\n",
       "      <th>25%</th>\n",
       "      <td>-0.815744</td>\n",
       "    </tr>\n",
       "    <tr>\n",
       "      <th>50%</th>\n",
       "      <td>-0.073989</td>\n",
       "    </tr>\n",
       "    <tr>\n",
       "      <th>75%</th>\n",
       "      <td>0.536071</td>\n",
       "    </tr>\n",
       "    <tr>\n",
       "      <th>max</th>\n",
       "      <td>2.563793</td>\n",
       "    </tr>\n",
       "  </tbody>\n",
       "</table>\n",
       "</div>"
      ],
      "text/plain": [
       "             harga\n",
       "count  9089.000000\n",
       "mean     -0.010220\n",
       "std       0.969182\n",
       "min      -1.784093\n",
       "25%      -0.815744\n",
       "50%      -0.073989\n",
       "75%       0.536071\n",
       "max       2.563793"
      ]
     },
     "execution_count": 55,
     "metadata": {},
     "output_type": "execute_result"
    }
   ],
   "source": [
    "prep_data[['harga']].describe()"
   ]
  },
  {
   "cell_type": "code",
   "execution_count": 56,
   "id": "342c6040",
   "metadata": {},
   "outputs": [],
   "source": [
    "#mengimplementasikan train/test\n",
    "from sklearn.model_selection import train_test_split"
   ]
  },
  {
   "cell_type": "code",
   "execution_count": 57,
   "id": "1546606e",
   "metadata": {},
   "outputs": [],
   "source": [
    "X = prep_data.drop(['harga'], axis = 1)\n",
    "y = prep_data['harga']"
   ]
  },
  {
   "cell_type": "code",
   "execution_count": 58,
   "id": "fd44d808",
   "metadata": {},
   "outputs": [],
   "source": [
    "X_train, X_test, y_train, y_test = train_test_split(X, y, test_size=0.2)"
   ]
  },
  {
   "cell_type": "code",
   "execution_count": 59,
   "id": "14157b1e",
   "metadata": {},
   "outputs": [],
   "source": [
    "# untuk mengatasi pengulangan proses hasil running yang berubah-ubah\n",
    "X_train, X_test, y_train, y_test = train_test_split(X, y, test_size=0.2, random_state=3)"
   ]
  },
  {
   "cell_type": "code",
   "execution_count": 60,
   "id": "d41df049",
   "metadata": {},
   "outputs": [
    {
     "name": "stdout",
     "output_type": "stream",
     "text": [
      "       AC_AC  jenis_Putra  jenis_Putri  Wifi_WiFi  Kasur_Kasur  \\\n",
      "10862      1            0            0          1            1   \n",
      "1042       0            0            1          0            0   \n",
      "6927       1            1            0          1            1   \n",
      "9695       0            0            1          1            1   \n",
      "7574       1            1            0          1            1   \n",
      "...      ...          ...          ...        ...          ...   \n",
      "3297       0            0            0          1            1   \n",
      "10874      1            0            1          1            1   \n",
      "7799       1            0            0          1            1   \n",
      "2084       1            0            0          1            1   \n",
      "7307       0            1            0          1            1   \n",
      "\n",
      "       Kloset_Duduk_KD  Kamar_Mandi_Dalam_KMD  \n",
      "10862                0                      0  \n",
      "1042                 0                      1  \n",
      "6927                 1                      1  \n",
      "9695                 0                      1  \n",
      "7574                 1                      1  \n",
      "...                ...                    ...  \n",
      "3297                 0                      1  \n",
      "10874                1                      1  \n",
      "7799                 1                      1  \n",
      "2084                 1                      1  \n",
      "7307                 0                      1  \n",
      "\n",
      "[7271 rows x 7 columns]\n"
     ]
    }
   ],
   "source": [
    "print(X_train)"
   ]
  },
  {
   "cell_type": "code",
   "execution_count": 61,
   "id": "b26af1f8",
   "metadata": {
    "scrolled": false
   },
   "outputs": [
    {
     "name": "stdout",
     "output_type": "stream",
     "text": [
      "      AC_AC  jenis_Putra  jenis_Putri  Wifi_WiFi  Kasur_Kasur  \\\n",
      "2679      1            0            0          0            1   \n",
      "4623      1            0            1          1            1   \n",
      "2180      0            0            0          0            1   \n",
      "9865      0            0            1          1            1   \n",
      "9507      1            0            1          1            1   \n",
      "...     ...          ...          ...        ...          ...   \n",
      "8215      1            0            1          1            1   \n",
      "7709      1            0            1          1            1   \n",
      "9415      0            0            0          0            0   \n",
      "4128      1            1            0          0            1   \n",
      "1882      1            0            1          1            1   \n",
      "\n",
      "      Kloset_Duduk_KD  Kamar_Mandi_Dalam_KMD  \n",
      "2679                1                      1  \n",
      "4623                1                      1  \n",
      "2180                1                      1  \n",
      "9865                0                      1  \n",
      "9507                1                      0  \n",
      "...               ...                    ...  \n",
      "8215                1                      1  \n",
      "7709                1                      1  \n",
      "9415                0                      1  \n",
      "4128                0                      1  \n",
      "1882                1                      1  \n",
      "\n",
      "[1818 rows x 7 columns]\n"
     ]
    }
   ],
   "source": [
    "print(X_test)"
   ]
  },
  {
   "cell_type": "code",
   "execution_count": null,
   "id": "117af109",
   "metadata": {},
   "outputs": [],
   "source": []
  },
  {
   "cell_type": "code",
   "execution_count": 62,
   "id": "c4472918",
   "metadata": {},
   "outputs": [],
   "source": [
    "scaler= StandardScaler()\n",
    "scaler.fit(X_train)\n",
    "X_train_scaled= scaler.transform(X_train)\n",
    "X_test_scaled= scaler.transform(X_test)"
   ]
  },
  {
   "cell_type": "code",
   "execution_count": 63,
   "id": "ec421d79",
   "metadata": {},
   "outputs": [],
   "source": [
    "from sklearn import metrics\n",
    "from sklearn.metrics import r2_score"
   ]
  },
  {
   "cell_type": "code",
   "execution_count": 64,
   "id": "c451e10f",
   "metadata": {},
   "outputs": [],
   "source": [
    "from sklearn.model_selection import cross_val_score"
   ]
  },
  {
   "cell_type": "markdown",
   "id": "686c0d6a",
   "metadata": {},
   "source": [
    "# Linear Regression"
   ]
  },
  {
   "cell_type": "code",
   "execution_count": 65,
   "id": "7275ed07",
   "metadata": {},
   "outputs": [],
   "source": [
    "from sklearn.linear_model import LinearRegression"
   ]
  },
  {
   "cell_type": "code",
   "execution_count": 66,
   "id": "e7e11599",
   "metadata": {},
   "outputs": [
    {
     "data": {
      "text/html": [
       "<style>#sk-container-id-2 {color: black;background-color: white;}#sk-container-id-2 pre{padding: 0;}#sk-container-id-2 div.sk-toggleable {background-color: white;}#sk-container-id-2 label.sk-toggleable__label {cursor: pointer;display: block;width: 100%;margin-bottom: 0;padding: 0.3em;box-sizing: border-box;text-align: center;}#sk-container-id-2 label.sk-toggleable__label-arrow:before {content: \"▸\";float: left;margin-right: 0.25em;color: #696969;}#sk-container-id-2 label.sk-toggleable__label-arrow:hover:before {color: black;}#sk-container-id-2 div.sk-estimator:hover label.sk-toggleable__label-arrow:before {color: black;}#sk-container-id-2 div.sk-toggleable__content {max-height: 0;max-width: 0;overflow: hidden;text-align: left;background-color: #f0f8ff;}#sk-container-id-2 div.sk-toggleable__content pre {margin: 0.2em;color: black;border-radius: 0.25em;background-color: #f0f8ff;}#sk-container-id-2 input.sk-toggleable__control:checked~div.sk-toggleable__content {max-height: 200px;max-width: 100%;overflow: auto;}#sk-container-id-2 input.sk-toggleable__control:checked~label.sk-toggleable__label-arrow:before {content: \"▾\";}#sk-container-id-2 div.sk-estimator input.sk-toggleable__control:checked~label.sk-toggleable__label {background-color: #d4ebff;}#sk-container-id-2 div.sk-label input.sk-toggleable__control:checked~label.sk-toggleable__label {background-color: #d4ebff;}#sk-container-id-2 input.sk-hidden--visually {border: 0;clip: rect(1px 1px 1px 1px);clip: rect(1px, 1px, 1px, 1px);height: 1px;margin: -1px;overflow: hidden;padding: 0;position: absolute;width: 1px;}#sk-container-id-2 div.sk-estimator {font-family: monospace;background-color: #f0f8ff;border: 1px dotted black;border-radius: 0.25em;box-sizing: border-box;margin-bottom: 0.5em;}#sk-container-id-2 div.sk-estimator:hover {background-color: #d4ebff;}#sk-container-id-2 div.sk-parallel-item::after {content: \"\";width: 100%;border-bottom: 1px solid gray;flex-grow: 1;}#sk-container-id-2 div.sk-label:hover label.sk-toggleable__label {background-color: #d4ebff;}#sk-container-id-2 div.sk-serial::before {content: \"\";position: absolute;border-left: 1px solid gray;box-sizing: border-box;top: 0;bottom: 0;left: 50%;z-index: 0;}#sk-container-id-2 div.sk-serial {display: flex;flex-direction: column;align-items: center;background-color: white;padding-right: 0.2em;padding-left: 0.2em;position: relative;}#sk-container-id-2 div.sk-item {position: relative;z-index: 1;}#sk-container-id-2 div.sk-parallel {display: flex;align-items: stretch;justify-content: center;background-color: white;position: relative;}#sk-container-id-2 div.sk-item::before, #sk-container-id-2 div.sk-parallel-item::before {content: \"\";position: absolute;border-left: 1px solid gray;box-sizing: border-box;top: 0;bottom: 0;left: 50%;z-index: -1;}#sk-container-id-2 div.sk-parallel-item {display: flex;flex-direction: column;z-index: 1;position: relative;background-color: white;}#sk-container-id-2 div.sk-parallel-item:first-child::after {align-self: flex-end;width: 50%;}#sk-container-id-2 div.sk-parallel-item:last-child::after {align-self: flex-start;width: 50%;}#sk-container-id-2 div.sk-parallel-item:only-child::after {width: 0;}#sk-container-id-2 div.sk-dashed-wrapped {border: 1px dashed gray;margin: 0 0.4em 0.5em 0.4em;box-sizing: border-box;padding-bottom: 0.4em;background-color: white;}#sk-container-id-2 div.sk-label label {font-family: monospace;font-weight: bold;display: inline-block;line-height: 1.2em;}#sk-container-id-2 div.sk-label-container {text-align: center;}#sk-container-id-2 div.sk-container {/* jupyter's `normalize.less` sets `[hidden] { display: none; }` but bootstrap.min.css set `[hidden] { display: none !important; }` so we also need the `!important` here to be able to override the default hidden behavior on the sphinx rendered scikit-learn.org. See: https://github.com/scikit-learn/scikit-learn/issues/21755 */display: inline-block !important;position: relative;}#sk-container-id-2 div.sk-text-repr-fallback {display: none;}</style><div id=\"sk-container-id-2\" class=\"sk-top-container\"><div class=\"sk-text-repr-fallback\"><pre>LinearRegression()</pre><b>In a Jupyter environment, please rerun this cell to show the HTML representation or trust the notebook. <br />On GitHub, the HTML representation is unable to render, please try loading this page with nbviewer.org.</b></div><div class=\"sk-container\" hidden><div class=\"sk-item\"><div class=\"sk-estimator sk-toggleable\"><input class=\"sk-toggleable__control sk-hidden--visually\" id=\"sk-estimator-id-2\" type=\"checkbox\" checked><label for=\"sk-estimator-id-2\" class=\"sk-toggleable__label sk-toggleable__label-arrow\">LinearRegression</label><div class=\"sk-toggleable__content\"><pre>LinearRegression()</pre></div></div></div></div></div>"
      ],
      "text/plain": [
       "LinearRegression()"
      ]
     },
     "execution_count": 66,
     "metadata": {},
     "output_type": "execute_result"
    }
   ],
   "source": [
    "linear_reg_model= LinearRegression()\n",
    "linear_reg_model.fit(X_train_scaled, y_train)"
   ]
  },
  {
   "cell_type": "code",
   "execution_count": 67,
   "id": "4440b2d1",
   "metadata": {},
   "outputs": [
    {
     "data": {
      "text/html": [
       "<div>\n",
       "<style scoped>\n",
       "    .dataframe tbody tr th:only-of-type {\n",
       "        vertical-align: middle;\n",
       "    }\n",
       "\n",
       "    .dataframe tbody tr th {\n",
       "        vertical-align: top;\n",
       "    }\n",
       "\n",
       "    .dataframe thead th {\n",
       "        text-align: right;\n",
       "    }\n",
       "</style>\n",
       "<table border=\"1\" class=\"dataframe\">\n",
       "  <thead>\n",
       "    <tr style=\"text-align: right;\">\n",
       "      <th></th>\n",
       "      <th>Metrics</th>\n",
       "    </tr>\n",
       "  </thead>\n",
       "  <tbody>\n",
       "    <tr>\n",
       "      <th>MAE_li_reg</th>\n",
       "      <td>0.448707</td>\n",
       "    </tr>\n",
       "    <tr>\n",
       "      <th>MSE_li_reg</th>\n",
       "      <td>0.358609</td>\n",
       "    </tr>\n",
       "    <tr>\n",
       "      <th>RMSE_li_reg</th>\n",
       "      <td>0.598840</td>\n",
       "    </tr>\n",
       "  </tbody>\n",
       "</table>\n",
       "</div>"
      ],
      "text/plain": [
       "              Metrics\n",
       "MAE_li_reg   0.448707\n",
       "MSE_li_reg   0.358609\n",
       "RMSE_li_reg  0.598840"
      ]
     },
     "execution_count": 67,
     "metadata": {},
     "output_type": "execute_result"
    }
   ],
   "source": [
    "y_pred = linear_reg_model.predict(X_test_scaled)\n",
    "y_pred = pd.DataFrame(y_pred)\n",
    "MAE_li_reg= metrics.mean_absolute_error(y_test, y_pred)\n",
    "MSE_li_reg = metrics.mean_squared_error(y_test, y_pred)\n",
    "RMSE_li_reg =np.sqrt(MSE_li_reg)\n",
    "pd.DataFrame([MAE_li_reg, MSE_li_reg, RMSE_li_reg], index=['MAE_li_reg', 'MSE_li_reg', 'RMSE_li_reg'], columns=['Metrics'])"
   ]
  },
  {
   "cell_type": "code",
   "execution_count": 68,
   "id": "a41d0dd8",
   "metadata": {},
   "outputs": [
    {
     "name": "stdout",
     "output_type": "stream",
     "text": [
      "[0.78967314 0.78076477 0.76723718 0.79043483 0.77016271]\n"
     ]
    }
   ],
   "source": [
    "scores = cross_val_score(linear_reg_model, X_train_scaled, y_train, cv=5)\n",
    "print(np.sqrt(scores))"
   ]
  },
  {
   "cell_type": "code",
   "execution_count": 69,
   "id": "19e101b3",
   "metadata": {},
   "outputs": [
    {
     "data": {
      "text/plain": [
       "0.6187387911371014"
      ]
     },
     "execution_count": 69,
     "metadata": {},
     "output_type": "execute_result"
    }
   ],
   "source": [
    "r2_score(y_test, linear_reg_model.predict(X_test_scaled))"
   ]
  },
  {
   "cell_type": "markdown",
   "id": "c886f084",
   "metadata": {},
   "source": [
    "# Decision Tree Regressor"
   ]
  },
  {
   "cell_type": "code",
   "execution_count": 70,
   "id": "5dc9e6b8",
   "metadata": {},
   "outputs": [],
   "source": [
    "from sklearn.tree import DecisionTreeRegressor"
   ]
  },
  {
   "cell_type": "code",
   "execution_count": 71,
   "id": "fc2e975a",
   "metadata": {},
   "outputs": [],
   "source": [
    "tree_reg_model =DecisionTreeRegressor()\n",
    "tree_reg_model.fit(X_train_scaled, y_train);"
   ]
  },
  {
   "cell_type": "code",
   "execution_count": 72,
   "id": "e9e50a2e",
   "metadata": {},
   "outputs": [
    {
     "data": {
      "text/html": [
       "<div>\n",
       "<style scoped>\n",
       "    .dataframe tbody tr th:only-of-type {\n",
       "        vertical-align: middle;\n",
       "    }\n",
       "\n",
       "    .dataframe tbody tr th {\n",
       "        vertical-align: top;\n",
       "    }\n",
       "\n",
       "    .dataframe thead th {\n",
       "        text-align: right;\n",
       "    }\n",
       "</style>\n",
       "<table border=\"1\" class=\"dataframe\">\n",
       "  <thead>\n",
       "    <tr style=\"text-align: right;\">\n",
       "      <th></th>\n",
       "      <th>Metrics</th>\n",
       "    </tr>\n",
       "  </thead>\n",
       "  <tbody>\n",
       "    <tr>\n",
       "      <th>MAE_tree_reg</th>\n",
       "      <td>0.400611</td>\n",
       "    </tr>\n",
       "    <tr>\n",
       "      <th>MSE_tree_reg</th>\n",
       "      <td>0.292727</td>\n",
       "    </tr>\n",
       "    <tr>\n",
       "      <th>RMSE_tree_reg</th>\n",
       "      <td>0.541043</td>\n",
       "    </tr>\n",
       "  </tbody>\n",
       "</table>\n",
       "</div>"
      ],
      "text/plain": [
       "                Metrics\n",
       "MAE_tree_reg   0.400611\n",
       "MSE_tree_reg   0.292727\n",
       "RMSE_tree_reg  0.541043"
      ]
     },
     "execution_count": 72,
     "metadata": {},
     "output_type": "execute_result"
    }
   ],
   "source": [
    "y_pred = tree_reg_model.predict(X_test_scaled)\n",
    "y_pred = pd.DataFrame(y_pred)\n",
    "MAE_tree_reg= metrics.mean_absolute_error(y_test, y_pred)\n",
    "MSE_tree_reg = metrics.mean_squared_error(y_test, y_pred)\n",
    "RMSE_tree_reg =np.sqrt(MSE_tree_reg)\n",
    "pd.DataFrame([MAE_tree_reg, MSE_tree_reg, RMSE_tree_reg],\n",
    "    index=['MAE_tree_reg', 'MSE_tree_reg', 'RMSE_tree_reg'], columns=['Metrics'])"
   ]
  },
  {
   "cell_type": "code",
   "execution_count": 73,
   "id": "271f3ab4",
   "metadata": {},
   "outputs": [
    {
     "name": "stdout",
     "output_type": "stream",
     "text": [
      "[0.82289144 0.82348561 0.80689687 0.83132465 0.81310803]\n"
     ]
    }
   ],
   "source": [
    "scores = cross_val_score(tree_reg_model, X_train_scaled, y_train, cv=5)\n",
    "print(np.sqrt(scores))"
   ]
  },
  {
   "cell_type": "code",
   "execution_count": 74,
   "id": "0fcabee6",
   "metadata": {},
   "outputs": [
    {
     "data": {
      "text/plain": [
       "0.6887819191552271"
      ]
     },
     "execution_count": 74,
     "metadata": {},
     "output_type": "execute_result"
    }
   ],
   "source": [
    "r2_score(y_test, tree_reg_model.predict(X_test_scaled))"
   ]
  },
  {
   "cell_type": "code",
   "execution_count": null,
   "id": "c0ea8284",
   "metadata": {},
   "outputs": [],
   "source": []
  },
  {
   "cell_type": "markdown",
   "id": "f2ee281a",
   "metadata": {},
   "source": [
    "# Random Forest"
   ]
  },
  {
   "cell_type": "code",
   "execution_count": 75,
   "id": "bce57807",
   "metadata": {},
   "outputs": [],
   "source": [
    "from sklearn.ensemble import RandomForestRegressor"
   ]
  },
  {
   "cell_type": "code",
   "execution_count": 76,
   "id": "9d1ee613",
   "metadata": {},
   "outputs": [],
   "source": [
    "forest_reg_model =RandomForestRegressor()\n",
    "forest_reg_model.fit(X_train_scaled, y_train);"
   ]
  },
  {
   "cell_type": "code",
   "execution_count": 77,
   "id": "69ef6906",
   "metadata": {},
   "outputs": [
    {
     "data": {
      "text/html": [
       "<div>\n",
       "<style scoped>\n",
       "    .dataframe tbody tr th:only-of-type {\n",
       "        vertical-align: middle;\n",
       "    }\n",
       "\n",
       "    .dataframe tbody tr th {\n",
       "        vertical-align: top;\n",
       "    }\n",
       "\n",
       "    .dataframe thead th {\n",
       "        text-align: right;\n",
       "    }\n",
       "</style>\n",
       "<table border=\"1\" class=\"dataframe\">\n",
       "  <thead>\n",
       "    <tr style=\"text-align: right;\">\n",
       "      <th></th>\n",
       "      <th>Metrics</th>\n",
       "    </tr>\n",
       "  </thead>\n",
       "  <tbody>\n",
       "    <tr>\n",
       "      <th>MAE_forest_reg</th>\n",
       "      <td>0.400311</td>\n",
       "    </tr>\n",
       "    <tr>\n",
       "      <th>MSE_forest_reg</th>\n",
       "      <td>0.292585</td>\n",
       "    </tr>\n",
       "    <tr>\n",
       "      <th>RMSE_forest_reg</th>\n",
       "      <td>0.540911</td>\n",
       "    </tr>\n",
       "  </tbody>\n",
       "</table>\n",
       "</div>"
      ],
      "text/plain": [
       "                  Metrics\n",
       "MAE_forest_reg   0.400311\n",
       "MSE_forest_reg   0.292585\n",
       "RMSE_forest_reg  0.540911"
      ]
     },
     "execution_count": 77,
     "metadata": {},
     "output_type": "execute_result"
    }
   ],
   "source": [
    "y_pred = forest_reg_model.predict(X_test_scaled)\n",
    "y_pred = pd.DataFrame(y_pred)\n",
    "MAE_forest_reg= metrics.mean_absolute_error(y_test, y_pred)\n",
    "MSE_forest_reg = metrics.mean_squared_error(y_test, y_pred)\n",
    "RMSE_forest_reg =np.sqrt(MSE_forest_reg)\n",
    "pd.DataFrame([MAE_forest_reg, MSE_forest_reg, RMSE_forest_reg], \n",
    "    index=['MAE_forest_reg', 'MSE_forest_reg', 'RMSE_forest_reg'], columns=['Metrics'])"
   ]
  },
  {
   "cell_type": "code",
   "execution_count": 78,
   "id": "495b66bc",
   "metadata": {},
   "outputs": [
    {
     "name": "stdout",
     "output_type": "stream",
     "text": [
      "[0.82282935 0.82341097 0.80679391 0.83141989 0.81294775]\n"
     ]
    }
   ],
   "source": [
    "scores = cross_val_score(forest_reg_model, X_train_scaled, y_train, cv=5)\n",
    "print(np.sqrt(scores))"
   ]
  },
  {
   "cell_type": "code",
   "execution_count": 79,
   "id": "cdb95c81",
   "metadata": {},
   "outputs": [
    {
     "data": {
      "text/plain": [
       "0.6889336692704102"
      ]
     },
     "execution_count": 79,
     "metadata": {},
     "output_type": "execute_result"
    }
   ],
   "source": [
    "r2_score(y_test, forest_reg_model.predict(X_test_scaled))"
   ]
  },
  {
   "cell_type": "code",
   "execution_count": null,
   "id": "6be663a2",
   "metadata": {},
   "outputs": [],
   "source": []
  }
 ],
 "metadata": {
  "kernelspec": {
   "display_name": "Python 3 (ipykernel)",
   "language": "python",
   "name": "python3"
  },
  "language_info": {
   "codemirror_mode": {
    "name": "ipython",
    "version": 3
   },
   "file_extension": ".py",
   "mimetype": "text/x-python",
   "name": "python",
   "nbconvert_exporter": "python",
   "pygments_lexer": "ipython3",
   "version": "3.10.5"
  }
 },
 "nbformat": 4,
 "nbformat_minor": 5
}
